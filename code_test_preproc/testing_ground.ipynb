{
 "cells": [
  {
   "cell_type": "markdown",
   "id": "dbd582df",
   "metadata": {},
   "source": [
    "### prerequisite"
   ]
  },
  {
   "cell_type": "code",
   "execution_count": null,
   "id": "98f63493",
   "metadata": {},
   "outputs": [],
   "source": [
    "# =============================================\n",
    "# IMPORT LIBRARIES\n",
    "# =============================================\n",
    "\n",
    "import numpy as np\n",
    "import pandas as pd\n",
    "import os\n",
    "os.chdir('..')\n",
    "import pickle\n",
    "import json\n",
    "# import math\n",
    "\n",
    "from citations_lib.create_fig_helper_functions import *\n",
    "from citations_lib.utils import *\n",
    "from citations_lib.author_vs_group_layout import *\n",
    "from citations_lib.group_vs_group_layout import *\n",
    "from citations_lib.author_vs_author_layout import *\n",
    "from citations_lib.metric_tab_layout import *\n",
    "\n",
    "import dash\n",
    "import dash.html as html\n",
    "import dash_leaflet as dl\n",
    "from jupyter_dash import JupyterDash\n",
    "#from dash_extensions.javascript import arrow_function, assign, Namespace\n",
    "import country_converter as coco\n",
    "cc = coco.CountryConverter()\n",
    "\n",
    "# ======================a=======================\n",
    "# Data Preparation\n",
    "# =============================================\n",
    "\n",
    "dfs_career, dfs_singleyr, dfs_career_log, dfs_singleyr_log, dfs_career_text, dfs_singleyr_text, dfs_career_yrs, dfs_singleyr_yrs = load_standardized_data()\n",
    "\n",
    "darkAccent1 = '#2C2C2C' # dark gray\n",
    "darkAccent2 = '#5b5959' # pale gray\n",
    "darkAccent3 = '#CFCFCF' # almost white\n",
    "lightAccent1 = '#ECAB4C' # ocre\n",
    "highlight1 = 'lightsteelblue'\n",
    "highlight2 = 'cornflowerblue'\n",
    "theme =  {\n",
    "    'dark': True,\n",
    "    'detail': lightAccent1,\n",
    "    'primary': darkAccent1,\n",
    "    'secondary': lightAccent1\n",
    "}\n",
    "\n",
    "g1c = [highlight1, darkAccent2] # bar plot bars 1 & 2\n",
    "g2c = [highlight2, darkAccent3] # bar plot bar 3\n",
    "bgc = darkAccent1 # bar plot background"
   ]
  },
  {
   "cell_type": "markdown",
   "id": "20dd5f99",
   "metadata": {},
   "source": [
    "### TEST ZONE"
   ]
  },
  {
   "cell_type": "markdown",
   "id": "b5eb1d26",
   "metadata": {},
   "source": [
    "### TEST ZONE 2"
   ]
  },
  {
   "cell_type": "code",
   "execution_count": null,
   "id": "005ffdb6",
   "metadata": {},
   "outputs": [],
   "source": [
    "def create_geo_json(df_in, df_in_log,career, yr, metric, color_by = 'count',logTransf = False, empty = False):\n",
    "    '''\n",
    "    Heavily inspired by Thibaud Lamothe tutorial here: https://towardsdatascience.com/how-to-create-outstanding-custom-choropleth-maps-with-plotly-and-dash-49ac918a5f05\n",
    "    data/custom.geo.json was generated here: https://geojson-maps.ash.ms/\n",
    "\n",
    "    options for color_by: \n",
    "        'count', 'mean', 'std', 'min', '25%', '50%', '75%', 'max', 'count_log', 'mean_log',\n",
    "        'std_log', 'min_log', '25%_log', '50%_log', '75%_log', 'max_log'\n",
    "    '''\n",
    "\n",
    "    # === Creating country df ===\n",
    "    cc = coco.CountryConverter()\n",
    "    country_df = df_in.groupby('cntry')[metric].describe()\n",
    "    country_df_log = df_in_log.groupby('cntry')[metric].describe()\n",
    "    country_df_log.columns = [item + '_log' for item in country_df_log.columns]\n",
    "    country_df = country_df.join(country_df_log)\n",
    "    country_df['CODE'] = country_df.index #[i for i in country_df.index]\n",
    "    if 'csk' in country_df.index: country_df = country_df.drop(['csk']) # Czekoslovakia – unclear if that uni is in Czech Republic or Slovakia!\n",
    "    if 'nan' in country_df.index: country_df = country_df.drop(['nan'])\n",
    "    names = []\n",
    "    for cntry in list(country_df['CODE']):\n",
    "        if str(cntry) == 'sux': names.append('Russia')\n",
    "        elif str(cntry) == 'ant': names.append('Netherlands')\n",
    "        elif str(cntry) == 'scg': names.append('Czech Republic')\n",
    "        else: names.append(cc.convert(cntry, to = 'name_short'))\n",
    "    country_df['COUNTRY'] = names\n",
    "    country_df['GEOMETRY'] = ['']*len(country_df)\n",
    "\n",
    "    # Loading geojson\n",
    "    world_path = 'data/custom.geo.json'\n",
    "    with open(world_path) as f: geo_world = json.load(f)\n",
    "\n",
    "    # Adding geometry to main df\n",
    "    countries_geo = []\n",
    "    for cntry in geo_world['features']:\n",
    "        cntry_name = cntry['properties']['iso_a3'].lower()\n",
    "        if cntry_name in country_df.index:\n",
    "            geometry = cntry['geometry']\n",
    "            countries_geo.append({'type': 'Feature', 'geometry': geometry, 'id':cntry_name})\n",
    "    geo_world_ok = {'type': 'FeatureCollection', 'features': countries_geo}\n",
    "\n",
    "    if empty or color_by == None: \n",
    "        fig = px.choropleth(geojson = geo_world_ok)\n",
    "        geo_title = 'No dataset selected'\n",
    "    else: \n",
    "        if logTransf and color_by != 'count': \n",
    "            c_min = 0\n",
    "            c_max = 5\n",
    "            dummy_trace = go.Scatter(x=[0,0],mode='markers',\n",
    "                marker=dict(color = bgc, cmin = country_df[color_by + '_log'].min(),cmax = country_df[color_by + '_log'].max(),colorscale='plasma', \n",
    "                colorbar=dict(thickness=30, tickfont = dict(color = 'white'),\n",
    "                    tickvals = [k*((country_df[color_by + '_log'].max()-country_df[color_by + '_log'].min())/10) for k in range(0,10)], \n",
    "                    ticktext = [int(np.exp(k*(country_df[color_by + '_log'].max()/10)*(np.log(country_df[color_by].max() + 1)))) for k in range(0,10)]), \n",
    "                            showscale=True),hoverinfo='none')\n",
    "\n",
    "            fig = px.choropleth(country_df, geojson = geo_world_ok, locations = 'CODE', color = color_by + '_log',\n",
    "                #labels = ['COUNTRY', color_by],\n",
    "                range_color = [country_df[color_by + '_log'].min(), country_df[color_by + '_log'].max()],\n",
    "                #range_color = [0, country_df[color_by + '_log'].max()],              \n",
    "                #hover_data = ['COUNTRY', color_by]\n",
    "                hover_name = 'COUNTRY', hover_data = [color_by]\n",
    "                #hovertemplate = \"%{color_by}<br>%{x}<br>y: %{y}\"\n",
    "                )\n",
    "            fig.update_layout(coloraxis = dict(showscale = False))\n",
    "            fig.add_trace(dummy_trace)\n",
    "            #fig.update_traces(hovertemplate = \"%{color_by}<br>%{x}<br>y: %{y}\")\n",
    "            fig.update_layout(geo=dict(bgcolor= bgc), plot_bgcolor = bgc, paper_bgcolor = bgc, \n",
    "                xaxis=dict(visible=False), yaxis=dict(visible=False), font = dict(color = lightAccent1), coloraxis = dict(showscale = False))\n",
    "\n",
    "            geo_title = 'Log-Transformed ' + get_metric_long_name(career, yr, metric).title() + ' – ' + color_by.title() + ' By Country'\n",
    "            \n",
    "        else:\n",
    "            fig = px.choropleth(country_df, geojson = geo_world_ok, locations = 'CODE', color = color_by, hover_name = 'COUNTRY')\n",
    "            fig.update_layout(geo=dict(bgcolor= bgc), plot_bgcolor = bgc, paper_bgcolor = bgc, font = dict(color = lightAccent1),\n",
    "                              coloraxis_colorbar = dict(title = color_by.title()))\n",
    "            geo_title = get_metric_long_name(career, yr, metric).title() + ' – ' + color_by.title() + ' By Country'\n",
    "    return(fig, geo_title)"
   ]
  },
  {
   "cell_type": "code",
   "execution_count": null,
   "id": "215dd74d",
   "metadata": {},
   "outputs": [],
   "source": [
    "fig, title = create_geo_json(df_in = dfs_career[0], df_in_log = dfs_career_log[0], \n",
    "    career = True, yr = 0, \n",
    "    metric = 'nc', color_by = 'mean', \n",
    "    logTransf = True)\n",
    "fig.show()"
   ]
  },
  {
   "cell_type": "code",
   "execution_count": null,
   "id": "41a5b3e0",
   "metadata": {},
   "outputs": [],
   "source": []
  },
  {
   "cell_type": "code",
   "execution_count": null,
   "id": "d845bbea",
   "metadata": {},
   "outputs": [],
   "source": []
  },
  {
   "cell_type": "code",
   "execution_count": null,
   "id": "25c1cc6d",
   "metadata": {},
   "outputs": [],
   "source": [
    "color_min = -5\n",
    "color_max = 5\n",
    "dummy_trace = go.Scatter(x=[0,0],mode='markers',\n",
    "    marker=dict(color = bgc,cmin = color_min,cmax = color_max,colorscale='thermal', \n",
    "    colorbar=dict(thickness=30, tickfont = dict(color = 'white'),tickvals = [-5,0,5], ticktext = ['hi','how','you?']), showscale=True),hoverinfo='none')\n",
    "\n",
    "layout = dict(xaxis=dict(visible=False), yaxis=dict(visible=False),plot_bgcolor = bgc, paper_bgcolor = bgc)\n",
    "fig = go.Figure([dummy_trace], layout)"
   ]
  },
  {
   "cell_type": "code",
   "execution_count": null,
   "id": "bf7bf824",
   "metadata": {},
   "outputs": [],
   "source": [
    "fig.show()"
   ]
  },
  {
   "cell_type": "code",
   "execution_count": null,
   "id": "23fc1236",
   "metadata": {},
   "outputs": [],
   "source": [
    "fig, title = create_geo_json(df_in = dfs_career[0], df_in_log = dfs_career_log[0], \n",
    "    career = True, yr = 0, \n",
    "    metric = 'nc', color_by = 'mean', \n",
    "    logTransf = False)\n",
    "fig.show()"
   ]
  },
  {
   "cell_type": "code",
   "execution_count": null,
   "id": "7259c85d",
   "metadata": {},
   "outputs": [],
   "source": [
    "fig = fig.add_trace(dummy_trace)\n",
    "fig.layout = dict(xaxis=dict(visible=False), yaxis=dict(visible=False),plot_bgcolor = bgc, paper_bgcolor = bgc)"
   ]
  },
  {
   "cell_type": "code",
   "execution_count": null,
   "id": "b7dab43b",
   "metadata": {},
   "outputs": [],
   "source": [
    "fig.show()"
   ]
  },
  {
   "cell_type": "code",
   "execution_count": null,
   "id": "8a8c7ec9",
   "metadata": {
    "scrolled": true
   },
   "outputs": [],
   "source": [
    "fig, title = create_geo_json(df_in = dfs_career[0], df_in_log = dfs_career_log[0], \n",
    "    career = True, yr = 0, \n",
    "    metric = 'nc', color_by = 'mean', \n",
    "    logTransf = True)\n",
    "fig.show()"
   ]
  },
  {
   "cell_type": "code",
   "execution_count": null,
   "id": "c70eb85f",
   "metadata": {},
   "outputs": [],
   "source": []
  },
  {
   "cell_type": "markdown",
   "id": "530ad0c0",
   "metadata": {},
   "source": [
    "### DISCARDED IDEAS\n",
    "```\n",
    "yaxis = dict(tickmode = 'linear',tick0 = 0,dtick = (dfs_career[0][m].max())/10),\n",
    "fig.update_xaxes(tickmode=\"array\", tickvals=[])\n",
    "\n",
    "```"
   ]
  },
  {
   "cell_type": "code",
   "execution_count": null,
   "id": "8f69fdfd",
   "metadata": {},
   "outputs": [],
   "source": [
    "fig.update_layout(height = 500, \n",
    "    yaxis = dict(tickmode = 'linear',tick0 = dfs_career[0][m].min(),\n",
    "                 dtick = (dfs_career[0][m].max()-dfs_career[0][m].min())),\n",
    "    yaxis_title = \"Number of citations\",\n",
    "    font = {'size':12,'color':lightAccent1})\n",
    "fig.update_yaxes(row = 1, col = 1, range=[df_log[m].min(),df_log[m].max()],showgrid=True,gridcolor = lightAccent1)"
   ]
  },
  {
   "cell_type": "code",
   "execution_count": null,
   "id": "6d926368",
   "metadata": {},
   "outputs": [],
   "source": [
    "  for i in range(len(fig_list)):\n",
    "        fig_list[i].update_xaxes(tickmode=\"array\", tickvals=[])\n",
    "        fig_list[i].update_layout(#yaxis_range=[0,1.1],\n",
    "            #template = None,\n",
    "            plot_bgcolor=bgc,paper_bgcolor=bgc,font = dict(color = lightAccent1),\n",
    "            #showlegend = False,\n",
    "            #margin=dict(t=0, b=0,l=20,r=20)\n",
    "        )"
   ]
  },
  {
   "cell_type": "code",
   "execution_count": null,
   "id": "4ce89428",
   "metadata": {},
   "outputs": [],
   "source": []
  },
  {
   "cell_type": "markdown",
   "id": "14a823bc",
   "metadata": {},
   "source": [
    "# Generating `.pkl` files to save aggregate info (speed up loading stuff)"
   ]
  },
  {
   "cell_type": "code",
   "execution_count": null,
   "id": "5f0db717",
   "metadata": {},
   "outputs": [],
   "source": [
    "def create_info_dict(career, yr):\n",
    "    metrics = ['nc', 'h', 'hm',  'ncs', 'ncsf','ncsfl', 'nc (ns)', 'h (ns)', 'hm (ns)',  'ncs (ns)', 'ncsf (ns)','ncsfl (ns)']\n",
    "    dfs = dfs_career.copy() if career == True else dfs_singleyr.copy()\n",
    "\n",
    "    # save list of authors\n",
    "    dfs[yr]['authfull'] = dfs[yr]['authfull'].apply(str)\n",
    "    author_names = sorted(dfs[yr]['authfull'].unique())\n",
    "    author_names = [author.title() for author in author_names]\n",
    "\n",
    "    # save list of fields\n",
    "    dfs[yr]['sm-field'] = dfs[yr]['sm-field'].apply(str)\n",
    "    field_names = sorted(dfs[yr]['sm-field'].unique()) # alphabetical\n",
    "    field_names = [field.title() for field in field_names]\n",
    "    \n",
    "    # save list of institutions\n",
    "    dfs[yr]['inst_name'] = dfs[yr]['inst_name'].apply(str)\n",
    "    institution_names = sorted(dfs[yr]['inst_name'].unique()) # alphabetical\n",
    "    institution_names = [institution.title() for institution in institution_names]\n",
    "\n",
    "    # save list of countries in alpha-3\n",
    "    dfs[yr]['cntry'] = dfs[yr]['cntry'].apply(str)\n",
    "    country_names = dfs[yr]['cntry'].unique()\n",
    "    country_names = [str(country).lower() for country in country_names]\n",
    "    if 'nan' in country_names: country_names.remove('nan')\n",
    "    if 'csk' in country_names: country_names.remove('csk') \n",
    "    if 'sux' in country_names: country_names = list(map(lambda x: x.replace('sux','rus'), country_names))\n",
    "    if 'ant' in country_names: country_names = list(map(lambda x: x.replace('ant','nld'), country_names))\n",
    "    if 'scg' in country_names: country_names = list(map(lambda x: x.replace('scg','cze'), country_names))\n",
    "    country_names = list(set(country_names)) # since above 3 lines may have created duplicates\n",
    "    country_names = sorted(country_names) # alphabetical\n",
    "    \n",
    "    # save full country_names\n",
    "    country_names_full = coco.convert(names=country_names, to='name_short')\n",
    "    country_names_full = sorted(country_names_full) # alphabetical\n",
    "    \n",
    "    # dictionary with all of this information\n",
    "    info = dict()\n",
    "    # save basic stats on c-score metrics (not done as it may not even speed stuff up?)\n",
    "    for metric in metrics:\n",
    "        info[metric + ' min'] = int(dfs[yr][metric].min())\n",
    "        info[metric + ' max'] = int(dfs[yr][metric].max())\n",
    "        info[metric + ' mean'] = round(dfs[yr][metric].mean(),2)\n",
    "        info[metric + ' std'] = round(dfs[yr][metric].std(),2)\n",
    "    info['authfull'] = author_names\n",
    "    info['cntry'] = country_names\n",
    "    info['inst_name'] = institution_names\n",
    "    info['sm-field'] = field_names\n",
    "    info['cntry_full'] = country_names_full\n",
    "    \n",
    "    # save files\n",
    "    f_out = 'career' if career == True else 'singleyr'\n",
    "    with open(f'data/aggregate_info/info_{f_out}_{yr}.pkl', 'wb') as fp:\n",
    "        pickle.dump(info, fp)\n",
    "        print('dictionary saved successfully to file')\n",
    "        \n",
    "for i in range(4):\n",
    "    create_info_dict(career = False, yr = i)\n",
    "\n",
    "for i in range(5):\n",
    "    create_info_dict(career = True, yr = i)"
   ]
  },
  {
   "cell_type": "markdown",
   "id": "883c40b8",
   "metadata": {},
   "source": [
    "# TESTING: different map options\n",
    "\n",
    "### Option 1: dash leaflet\n",
    "* Map from tutorial [here](https://github.com/WestHealth/pydataglobal-2021)\n",
    "* Other cool library [here](https://github.com/plotly/dash-deck)"
   ]
  },
  {
   "cell_type": "code",
   "execution_count": null,
   "id": "b9d075f6",
   "metadata": {},
   "outputs": [],
   "source": [
    "import dash\n",
    "import dash.html as html\n",
    "import dash_leaflet as dl\n",
    "from jupyter_dash import JupyterDash\n",
    "import random\n",
    "import pandas as pd\n",
    "import geopandas as gpd\n",
    "import json\n",
    "from dash_extensions.javascript import arrow_function, assign, Namespace"
   ]
  },
  {
   "cell_type": "code",
   "execution_count": null,
   "id": "7e25000c",
   "metadata": {},
   "outputs": [],
   "source": [
    "# === predetermined variables ===\n",
    "df_in = dfs_career[0].copy()\n",
    "df_in_log = dfs_career_log[0].copy()\n",
    "metric = 'nc'\n",
    "\n",
    "# === creating country df ===\n",
    "country_df = df_in.groupby('cntry')[metric].describe()\n",
    "country_df_log = df_in_log.groupby('cntry')[metric].describe()\n",
    "country_df_log.columns = [item+'_log' for item in country_df_log.columns]\n",
    "country_df = country_df.join(country_df_log)\n",
    "country_df['CODE'] = country_df.index#[i for i in country_df.index]\n",
    "country_df[country_df.index == 'csk'] # Czekoslovakia – unclear if that uni is in Czech Republic or Slovakia!\n",
    "names = []\n",
    "for cntry in list(country_df['CODE']):\n",
    "    if str(cntry) != 'csk':\n",
    "        if str(cntry) == 'sux': names.append('Russia')\n",
    "        elif str(cntry) == 'ant': names.append('Netherlands')\n",
    "        elif str(cntry) == 'scg': names.append('Czech Republic')\n",
    "        else: names.append(cc.convert(cntry, to = 'name_short'))\n",
    "country_df['COUNTRY'] = names\n",
    "country_df['GEOMETRY'] = ['']*len(country_df)\n",
    "\n",
    "# Loading geojson!\n",
    "world_path = 'data/custom.geo.json'\n",
    "with open(world_path) as f: geo_world = json.load(f)\n",
    "\n",
    "# adding geometry to main df\n",
    "countries_geo = []\n",
    "for cntry in geo_world['features']:\n",
    "    cntry_name = cntry['properties']['iso_a3'].lower()\n",
    "    if cntry_name in country_df.index:\n",
    "        geometry = cntry['geometry']\n",
    "        countries_geo.append({\n",
    "            'type': 'Feature',\n",
    "            'geometry': geometry,\n",
    "            'id':cntry_name\n",
    "        })\n",
    "        country_df.loc[cntry_name,'GEOMETRY'] = cntry_name    \n",
    "# cntry['geometry']\n",
    "geo_world_ok = {'type': 'FeatureCollection', 'features': countries_geo}"
   ]
  },
  {
   "cell_type": "code",
   "execution_count": null,
   "id": "76d57d69",
   "metadata": {},
   "outputs": [],
   "source": [
    "fig = go.Figure(data = go.Choropleth(\n",
    "    locations = country_df['CODE'],\n",
    "    z = country_df['mean'],\n",
    "    #locationmode = 'ISO-3'\n",
    "#     geojson=geo_world_ok,\n",
    "#     locations='CODE',\n",
    "#     color='mean',\n",
    "#     hover_name='COUNTRY'\n",
    "    ))\n",
    "fig.show()"
   ]
  },
  {
   "cell_type": "code",
   "execution_count": null,
   "id": "04d2f3fe",
   "metadata": {},
   "outputs": [],
   "source": [
    "from dash import dcc\n",
    "app = JupyterDash()\n",
    "app.layout = html.Div([\n",
    "    dcc.Graph(figure =px.choropleth(\n",
    "    country_df,\n",
    "    geojson=geo_world_ok,\n",
    "    locations='CODE',\n",
    "    color='mean',\n",
    "    hover_name='COUNTRY'\n",
    "    ))])\n",
    "#     dl.Map(\n",
    "#         children=[dl.TileLayer(), geojson], center=[0, 0], zoom=1)\n",
    "# ],\n",
    "#                       style={\n",
    "#                           'width': '1000px',\n",
    "#                           'height': '500px'\n",
    "#                       },\n",
    "#                       id=\"map\")\n",
    "app.run_server(mode='inline')"
   ]
  },
  {
   "cell_type": "code",
   "execution_count": null,
   "id": "f4348ea5",
   "metadata": {
    "scrolled": true
   },
   "outputs": [],
   "source": [
    "fig = px.choropleth(\n",
    "    country_df,\n",
    "    geojson=geo_world_ok,\n",
    "    locations='CODE',\n",
    "    color='mean',\n",
    "    hover_name='COUNTRY'\n",
    "    )\n",
    "fig.show()"
   ]
  },
  {
   "cell_type": "code",
   "execution_count": null,
   "id": "b815f2a1",
   "metadata": {},
   "outputs": [],
   "source": [
    "geojson = dl.GeoJSON(\n",
    "    data=geo_world_ok,\n",
    "    id=\"geojson\")\n",
    "app = JupyterDash()\n",
    "app.layout = html.Div([\n",
    "    dl.Map(\n",
    "        children=[dl.TileLayer(), geojson], center=[0, 0], zoom=1)\n",
    "],\n",
    "                      style={\n",
    "                          'width': '1000px',\n",
    "                          'height': '500px'\n",
    "                      },\n",
    "                      id=\"map\")\n",
    "app.run_server(mode='inline')"
   ]
  },
  {
   "cell_type": "code",
   "execution_count": null,
   "id": "b0c760f8",
   "metadata": {},
   "outputs": [],
   "source": [
    "data_dir = '/Users/nadiablostein/Downloads/pydataglobal-2021-master/data/'\n",
    "zipfile = data_dir+\"cb_2018_us_state_20m.zip\"\n",
    "states = gpd.read_file(zipfile)\n",
    "covid = pd.read_csv(data_dir+'10-19-2021.csv').astype({'FIPS': int})\n",
    "coviddf = states.astype({\n",
    "    'STATEFP': int\n",
    "}).merge(covid, how='left', left_on='STATEFP', right_on='FIPS')"
   ]
  },
  {
   "cell_type": "code",
   "execution_count": null,
   "id": "b7d7f5b1",
   "metadata": {},
   "outputs": [],
   "source": [
    "world_path = 'data/custom.geo.json'\n",
    "with open(world_path) as f: geo_world = json.load(f)"
   ]
  },
  {
   "cell_type": "code",
   "execution_count": null,
   "id": "e74c1806",
   "metadata": {},
   "outputs": [],
   "source": [
    "#style_handle = Namespace('choropleth_demo', 'covid')('StyleHandler')\n",
    "style_handle = assign(\"\"\"function(feature, context){\n",
    "    const {classes, colorscale, style, colorProp} = context.props.hideout;  // get props from hideout\n",
    "    const value = feature.properties[colorProp];  // get value the determines the color\n",
    "    for (let i = 0; i < classes.length; ++i) {\n",
    "        if (value > classes[i]) {\n",
    "            style.fillColor = colorscale[i];  // set the fill color according to the class\n",
    "        }\n",
    "    }\n",
    "    return style;\n",
    "}\"\"\")"
   ]
  },
  {
   "cell_type": "code",
   "execution_count": null,
   "id": "01eb026f",
   "metadata": {},
   "outputs": [],
   "source": [
    "geojson = dl.GeoJSON(\n",
    "    data='data/custom.geo.json',\n",
    "#     options=dict(style=style_handle),  # Here's the magic\n",
    "#     hideout=dict(colorscale=colorscale,\n",
    "#                  classes=classes,\n",
    "#                  style=style,\n",
    "#                  colorProp=\"Confirmed\"),\n",
    "    id=\"geojson\")"
   ]
  },
  {
   "cell_type": "code",
   "execution_count": null,
   "id": "d300f9b9",
   "metadata": {},
   "outputs": [],
   "source": [
    "style = dict(weight=2,\n",
    "             opacity=1,\n",
    "             color='white',\n",
    "             dashArray='3',\n",
    "             fillOpacity=0.7)\n",
    "classes = [0, 10000, 30000, 100000, 300000, 1000000, 30000000, 10000000]\n",
    "#ctg = ['0+', '10k+', '30k+', '100k+', '300k+', '1M+', '3M+', '10M+']\n",
    "colorscale = [\n",
    "    '#FFEDA0', '#FED976', '#FEB24C', '#FD8D3C', '#FC4E2A', '#E31A1C',\n",
    "    '#BD0026', '#800026'\n",
    "]\n",
    "# Create geojson.\n",
    "geojson = dl.GeoJSON(\n",
    "    data=json.loads(coviddf.to_json()),\n",
    "    options=dict(style=style_handle),  # Here's the magic\n",
    "    hideout=dict(colorscale=colorscale,\n",
    "                 classes=classes,\n",
    "                 style=style,\n",
    "                 colorProp=\"Confirmed\"),\n",
    "    id=\"geojson\")\n",
    "app = JupyterDash()\n",
    "app.layout = html.Div([\n",
    "    dl.Map(\n",
    "        children=[dl.TileLayer(), geojson], center=[39, -98], zoom=4)\n",
    "],\n",
    "                      style={\n",
    "                          'width': '1000px',\n",
    "                          'height': '500px'\n",
    "                      },\n",
    "                      id=\"map\")\n",
    "app.run_server(mode='inline', port=random.choice(range(2000, 10000)))"
   ]
  },
  {
   "cell_type": "markdown",
   "id": "d4fb241f",
   "metadata": {},
   "source": [
    "### Option 2: custom GeoJSON Map\n",
    "* Make custom.geo.json from [here](https://geojson-maps.ash.ms/)\n",
    "* Code below based on [this](https://towardsdatascience.com/how-to-create-outstanding-custom-choropleth-maps-with-plotly-and-dash-49ac918a5f05)"
   ]
  },
  {
   "cell_type": "code",
   "execution_count": null,
   "id": "d62ce626",
   "metadata": {},
   "outputs": [],
   "source": [
    "world_path = 'data/custom.geo.json'\n",
    "with open(world_path) as f: geo_world = json.load(f)"
   ]
  },
  {
   "cell_type": "code",
   "execution_count": null,
   "id": "322b3a64",
   "metadata": {},
   "outputs": [],
   "source": [
    "print(geo_world)"
   ]
  },
  {
   "cell_type": "code",
   "execution_count": null,
   "id": "8b902370",
   "metadata": {},
   "outputs": [],
   "source": [
    "# === predetermined variables ===\n",
    "df_in = dfs_career[0].copy()\n",
    "df_in_log = dfs_career_log[0].copy()\n",
    "metric = 'nc'\n",
    "\n",
    "# === creating country df ===\n",
    "country_df = df_in.groupby('cntry')[metric].describe()\n",
    "country_df_log = df_in_log.groupby('cntry')[metric].describe()\n",
    "country_df_log.columns = [item+'_log' for item in country_df_log.columns]\n",
    "country_df = country_df.join(country_df_log)\n",
    "country_df['CODE'] = country_df.index#[i for i in country_df.index]\n",
    "country_df[country_df.index == 'csk'] # Czekoslovakia – unclear if that uni is in Czech Republic or Slovakia!\n",
    "names = []\n",
    "for cntry in list(country_df['CODE']):\n",
    "    if str(cntry) != 'csk':\n",
    "        if str(cntry) == 'sux': names.append('Russia')\n",
    "        elif str(cntry) == 'ant': names.append('Netherlands')\n",
    "        elif str(cntry) == 'scg': names.append('Czech Republic')\n",
    "        else: names.append(cc.convert(cntry, to = 'name_short'))\n",
    "country_df['COUNTRY'] = names\n",
    "country_df['GEOMETRY'] = ['']*len(country_df)\n",
    "\n",
    "# Loading geojson!\n",
    "world_path = 'data/custom.geo.json'\n",
    "with open(world_path) as f: geo_world = json.load(f)\n",
    "\n",
    "# adding geometry to main df\n",
    "countries_geo = []\n",
    "for cntry in geo_world['features']:\n",
    "    cntry_name = cntry['properties']['iso_a3'].lower()\n",
    "    if cntry_name in country_df.index:\n",
    "        geometry = cntry['geometry']\n",
    "        countries_geo.append({\n",
    "            'type': 'Feature',\n",
    "            'geometry': geometry,\n",
    "            'id':cntry_name\n",
    "        })\n",
    "        country_df.loc[cntry_name,'GEOMETRY'] = cntry_name    \n",
    "# cntry['geometry']\n",
    "geo_world_ok = {'type': 'FeatureCollection', 'features': countries_geo}"
   ]
  },
  {
   "cell_type": "code",
   "execution_count": null,
   "id": "13519126",
   "metadata": {},
   "outputs": [],
   "source": [
    "import json"
   ]
  },
  {
   "cell_type": "code",
   "execution_count": null,
   "id": "c706643f",
   "metadata": {},
   "outputs": [],
   "source": [
    "countries_geo"
   ]
  },
  {
   "cell_type": "code",
   "execution_count": null,
   "id": "e7b43c3f",
   "metadata": {},
   "outputs": [],
   "source": [
    "geojson = dl.GeoJSON(\n",
    "    data=geo_world_ok,#json.loads(countries_geo.to_json()),\n",
    "#     options=dict(style=style_handle),  # Here's the magic\n",
    "#     hideout=dict(colorscale=colorscale,\n",
    "#                  classes=classes,\n",
    "#                  style=style,\n",
    "#                  colorProp=\"Confirmed\"),\n",
    "    id=\"geojson\")"
   ]
  },
  {
   "cell_type": "code",
   "execution_count": null,
   "id": "ca83b7b5",
   "metadata": {},
   "outputs": [],
   "source": [
    "geojson = dl.GeoJSON(\n",
    "    data=geo_world_ok,\n",
    "    id=\"geojson\")\n",
    "app = JupyterDash()\n",
    "app.layout = html.Div([\n",
    "    dl.Map(\n",
    "        children=[dl.TileLayer(), geojson], center=[0, 0], zoom=1)\n",
    "],\n",
    "                      style={\n",
    "                          'width': '1000px',\n",
    "                          'height': '500px'\n",
    "                      },\n",
    "                      id=\"map\")\n",
    "app.run_server(mode='inline', port=random.choice(range(2000, 10000)))"
   ]
  },
  {
   "cell_type": "code",
   "execution_count": null,
   "id": "7c3244aa",
   "metadata": {},
   "outputs": [],
   "source": [
    "# Loading geojson!\n",
    "world_path = 'data/custom.geo.json'\n",
    "with open(world_path) as f: geo_world = json.load(f)\n",
    "\n",
    "countries_geo = []\n",
    "\n",
    "# adding geo to main df\n",
    "for cntry in geo_world['features']:\n",
    "    cntry_name = cntry['properties']['iso_a3'].lower()\n",
    "    if cntry_name in country_df.index:\n",
    "        country_df.loc[cntry_name,'GEOMETRY'] = cntry['geometry']"
   ]
  },
  {
   "cell_type": "code",
   "execution_count": null,
   "id": "5ed9ccd5",
   "metadata": {},
   "outputs": [],
   "source": [
    "# === predetermined variables ===\n",
    "df_in = dfs_career[0].copy()\n",
    "df_in_log = dfs_career_log[0].copy()\n",
    "metric = 'nc'\n",
    "\n",
    "# === creating country df ===\n",
    "country_df = df_in.groupby('cntry')[metric].describe()\n",
    "country_df_log = df_in_log.groupby('cntry')[metric].describe()\n",
    "country_df_log.columns = [item+'_log' for item in country_df_log.columns]\n",
    "country_df = country_df.join(country_df_log)\n",
    "country_df['CODE'] = country_df.index#[i for i in country_df.index]\n",
    "country_df[country_df.index == 'csk'] # Czekoslovakia – unclear if that uni is in Czech Republic or Slovakia!\n",
    "names = []\n",
    "for cntry in list(country_df['CODE']):\n",
    "    if str(cntry) != 'csk':\n",
    "        if str(cntry) == 'sux': names.append('Russia')\n",
    "        elif str(cntry) == 'ant': names.append('Netherlands')\n",
    "        elif str(cntry) == 'scg': names.append('Czech Republic')\n",
    "        else: names.append(cc.convert(cntry, to = 'name_short'))\n",
    "country_df['COUNTRY'] = names"
   ]
  },
  {
   "cell_type": "code",
   "execution_count": null,
   "id": "37993aff",
   "metadata": {},
   "outputs": [],
   "source": [
    "import dash\n",
    "import dash.html as html\n",
    "import dash_leaflet as dl\n",
    "from jupyter_dash import JupyterDash\n",
    "import random\n",
    "import pandas as pd\n",
    "import geopandas as gpd\n",
    "import json\n",
    "from dash_extensions.javascript import arrow_function, assign, Namespace\n",
    "\n",
    "df_in = dfs_career[0].copy()\n",
    "df_in_log = dfs_career_log[0].copy()\n",
    "metric = 'nc'\n",
    "country_df = df_in.groupby('cntry')[metric].describe()\n",
    "country_df_log = df_in_log.groupby('cntry')[metric].describe()\n",
    "country_df_log.columns = [item+'_log' for item in country_df_log.columns]\n",
    "country_df = country_df.join(country_df_log)\n",
    "country_df['CODE'] = [str(i).upper() for i in country_df.index]\n",
    "names = []\n",
    "for cntry in list(country_df['CODE']):\n",
    "    if str(cntry) == 'nan': names.append('nan')\n",
    "    elif str(cntry) == 'csk': names.append('nan')\n",
    "    elif str(cntry) == 'sux': names.append('Russia')\n",
    "    elif str(cntry) == 'ant': names.append('Netherlands')\n",
    "    elif str(cntry) == 'scg': names.append('Czech Republic')\n",
    "    else: names.append(cc.convert(cntry, to = 'name_short'))\n",
    "country_df['COUNTRY'] = names\n",
    "\n",
    "fig = go.Figure(data=go.Choropleth(\n",
    "    locations = country_df['CODE'],\n",
    "    z = country_df['mean'],\n",
    "    text = country_df['COUNTRY'],\n",
    "    colorscale = 'Blues',\n",
    "    autocolorscale=False,\n",
    "    reversescale=True,\n",
    "    marker_line_color='darkgray',\n",
    "    marker_line_width=0.5,\n",
    "    #colorbar_tickprefix = '$',\n",
    "    colorbar_title = 'Mean number of citations by country',\n",
    "))\n",
    "\n",
    "fig.update_layout(\n",
    "    title_text='2014 Global GDP',\n",
    "    geo=dict(\n",
    "        showframe=False,\n",
    "        showcoastlines=False,\n",
    "        projection_type='equirectangular'\n",
    "    ),\n",
    "#     annotations = [dict(\n",
    "#         x=0.55,\n",
    "#         y=0.1,\n",
    "#         xref='paper',\n",
    "#         yref='paper',\n",
    "#         text='Source: <a href=\"https://www.cia.gov/library/publications/the-world-factbook/fields/2195.html\">\\\n",
    "#             CIA World Factbook</a>',\n",
    "#         showarrow = False\n",
    "#     )]\n",
    ")\n",
    "#testGraph = dcc.Graph(figure=fig)\n",
    "#testGraph = dcc.Graph(figure = fig, id = 'testGraphDCC')\n",
    "\n",
    "#fig.show()\n",
    "df = px.data.iris()  # iris is a pandas DataFrame\n",
    "\n",
    "# Create app.\n",
    "app = JupyterDash()\n",
    "app.layout(html.Div([\n",
    "    dcc.Graph(figure=px.scatter(df, x=\"sepal_width\", y=\"sepal_length\"))\n",
    "    ])\n",
    ")\n",
    "# app.layout = html.Div([\n",
    "#     dl.Map(\n",
    "#         children=[dl.TileLayer(), geojson, colorbar], center=[39, -98], zoom=4)\n",
    "# ],\n",
    "#                       style={\n",
    "#                           'width': '1000px',\n",
    "#                           'height': '500px'\n",
    "#                       },\n",
    "#                       id=\"map\")\n",
    "app.run_server(mode='inline', port=random.choice(range(2000, 10000)))"
   ]
  },
  {
   "cell_type": "code",
   "execution_count": null,
   "id": "72847b99",
   "metadata": {
    "scrolled": true
   },
   "outputs": [],
   "source": [
    "m = 'nc'\n",
    "country_df = dfs_career[0].copy().groupby('cntry')[m].describe()\n",
    "country_df_log = dfs_career_log[0].copy().groupby('cntry')[m].describe()\n",
    "country_df_log.columns = [item+'_log' for item in country_df_log.columns]\n",
    "country_df = country_df.join(country_df_log)\n",
    "country_df['CODE'] = [str(i).upper() for i in country_df.index]\n",
    "names = []\n",
    "for cntry in list(country_df['CODE']):\n",
    "    if str(cntry) == 'nan': names.append('nan')\n",
    "    elif str(cntry) == 'csk': names.append('nan')\n",
    "    elif str(cntry) == 'sux': names.append('Russia')\n",
    "    elif str(cntry) == 'ant': names.append('Netherlands')\n",
    "    elif str(cntry) == 'scg': names.append('Czech Republic')\n",
    "    else: names.append(cc.convert(cntry, to = 'name_short'))\n",
    "country_df['COUNTRY'] = names\n",
    "fig2 = go.Figure(data=go.Choropleth(\n",
    "    locations = country_df['CODE'],\n",
    "    z = country_df['mean'],\n",
    "    text = country_df['COUNTRY'],\n",
    "    colorscale = 'Blues',\n",
    "    autocolorscale=False,\n",
    "    reversescale=True,\n",
    "    marker_line_color='darkgray',\n",
    "    marker_line_width=0.5,#colorbar_tickprefix = '$',\n",
    "    colorbar_title = 'Mean number of citations by country',\n",
    "))\n",
    "fig2.update_layout(\n",
    "    title_text='2014 Global GDP',\n",
    "    geo=dict(\n",
    "        showframe=False,\n",
    "        showcoastlines=False,\n",
    "        projection_type='equirectangular'\n",
    "    ))\n",
    "fig2.show()"
   ]
  },
  {
   "cell_type": "code",
   "execution_count": null,
   "id": "9acea339",
   "metadata": {},
   "outputs": [],
   "source": [
    "fig = go.Figure(data=go.Choropleth(\n",
    "    locations = df['CODE'],\n",
    "    z = df['GDP (BILLIONS)'],\n",
    "    text = df['COUNTRY'],\n",
    "    colorscale = 'Blues',\n",
    "    autocolorscale=False,\n",
    "    reversescale=True,\n",
    "    marker_line_color='darkgray',\n",
    "    marker_line_width=0.5,\n",
    "    colorbar_tickprefix = '$',\n",
    "    colorbar_title = 'GDP<br>Billions US$',\n",
    "))\n",
    "\n",
    "fig.update_layout(\n",
    "    title_text='2014 Global GDP',\n",
    "    geo=dict(\n",
    "        showframe=False,\n",
    "        showcoastlines=False,\n",
    "        projection_type='equirectangular'\n",
    "    ),\n",
    "    annotations = [dict(\n",
    "        x=0.55,\n",
    "        y=0.1,\n",
    "        xref='paper',\n",
    "        yref='paper',\n",
    "        text='Source: <a href=\"https://www.cia.gov/library/publications/the-world-factbook/fields/2195.html\">\\\n",
    "            CIA World Factbook</a>',\n",
    "        showarrow = False\n",
    "    )]\n",
    ")\n",
    "\n",
    "fig.show()"
   ]
  },
  {
   "cell_type": "code",
   "execution_count": null,
   "id": "6497a070",
   "metadata": {},
   "outputs": [],
   "source": [
    "# Create figure\n",
    "fig = px.choropleth(\n",
    "    country_df,\n",
    "    geojson=geo_world_ok,\n",
    "    locations='zone',\n",
    "    color='mean',\n",
    "    #range_color=(0, country_df['mean'].max()),\n",
    ")\n",
    "# Define layout specificities\n",
    "# fig.update_layout(\n",
    "#     margin={'r':0,'t':0,'l':0,'b':0},\n",
    "#     coloraxis_colorbar={\n",
    "#         'title':'Confirmed people',\n",
    "#         'tickvals':values,\n",
    "#         'ticktext':ticks        \n",
    "#     }\n",
    "# )\n",
    "\n",
    "# Display figure\n",
    "fig.show()"
   ]
  },
  {
   "cell_type": "code",
   "execution_count": null,
   "id": "19c536c3",
   "metadata": {},
   "outputs": [],
   "source": [
    "import pandas as pd \n",
    "\n",
    "\n",
    "aa = pd.read_pickle('../cntry_sum.pkl')"
   ]
  },
  {
   "cell_type": "code",
   "execution_count": null,
   "id": "3f677dce-e352-4c04-a415-fe6fb39e2d91",
   "metadata": {},
   "outputs": [],
   "source": [
    "import country_converter as coco\n",
    "import json\n",
    "cc = coco.CountryConverter()\n",
    "\n",
    "world_path = '../aggregate/custom.geo.json'\n",
    "with open(world_path) as f: geo_world = json.load(f)\n",
    "\n",
    "# Adding geometry to main df\n",
    "\n",
    "def get_es_geo(aa,yr,metric,st_idx,log):\n",
    "    df = pd.DataFrame(columns=['CODE', 'COUNTRY', metric,'GEOMETRY'])\n",
    "    for idx, cntry in enumerate(aa):\n",
    "        if cntry['ct'] != 'csk' and cntry['ct'] != 'nan':\n",
    "            if cntry['ct'] == 'sux':\n",
    "                cur_name = \"Russia\"\n",
    "            elif cntry['ct'] == 'ant': \n",
    "                cur_name = \"Netherlands\"\n",
    "            elif cntry['ct'] == 'scg': \n",
    "                cur_name = 'Czech Republic'\n",
    "            else: \n",
    "                cur_name = cc.convert(cntry['ct'], to = 'name_short')\n",
    "            try:\n",
    "                df.loc[idx] = [cntry['ct']] + [cur_name] + [cntry['dat'][f'career_{yr}{log}'][metric][st_idx]] + ['']\n",
    "            except:\n",
    "                df.loc[idx] = [cntry['ct']] + [cur_name] + [0]+ ['']\n",
    "    \n",
    "    df.index = df['CODE']\n",
    "    countries_geo = []\n",
    "    for cntry in geo_world['features']:\n",
    "        cntry_name = cntry['properties']['iso_a3'].lower()\n",
    "        if cntry_name in df.index:\n",
    "            geometry = cntry['geometry']\n",
    "            countries_geo.append({'type': 'Feature', 'geometry': geometry, 'id':cntry_name})\n",
    "    geo_world_ok = {'type': 'FeatureCollection', 'features': countries_geo}\n",
    "    \n",
    "    fig = px.choropleth(df, geojson = geo_world_ok, locations = 'CODE', color = metric ,hover_data = ['COUNTRY'])\n",
    "    return fig"
   ]
  },
  {
   "cell_type": "code",
   "execution_count": 119,
   "id": "f6298593-275f-49e0-b09a-e6343d993193",
   "metadata": {
    "scrolled": true
   },
   "outputs": [
    {
     "data": {
      "application/vnd.plotly.v1+json": {
       "config": {
        "plotlyServerURL": "https://plot.ly"
       },
       "data": [
        {
         "coloraxis": "coloraxis",
         "customdata": [
          [
           "United States",
           "# Citations"
          ],
          [
           "Lithuania",
           "# Citations"
          ],
          [
           "Canada",
           "# Citations"
          ],
          [
           "Australia",
           "# Citations"
          ],
          [
           "Greece",
           "# Citations"
          ],
          [
           "Morocco",
           "# Citations"
          ],
          [
           "Belgium",
           "# Citations"
          ],
          [
           "Russia",
           "# Citations"
          ],
          [
           "India",
           "# Citations"
          ],
          [
           "Mexico",
           "# Citations"
          ],
          [
           "Jordan",
           "# Citations"
          ],
          [
           "Luxembourg",
           "# Citations"
          ],
          [
           "Tanzania",
           "# Citations"
          ],
          [
           "Estonia",
           "# Citations"
          ],
          [
           "Bangladesh",
           "# Citations"
          ],
          [
           "Pakistan",
           "# Citations"
          ],
          [
           "Portugal",
           "# Citations"
          ],
          [
           "Kuwait",
           "# Citations"
          ],
          [
           "Malaysia",
           "# Citations"
          ],
          [
           "Cameroon",
           "# Citations"
          ],
          [
           "Brazil",
           "# Citations"
          ],
          [
           "Serbia",
           "# Citations"
          ],
          [
           "Finland",
           "# Citations"
          ],
          [
           "Italy",
           "# Citations"
          ],
          [
           "Croatia",
           "# Citations"
          ],
          [
           "Slovenia",
           "# Citations"
          ],
          [
           "Iran",
           "# Citations"
          ],
          [
           "Peru",
           "# Citations"
          ],
          [
           "Cyprus",
           "# Citations"
          ],
          [
           "Nigeria",
           "# Citations"
          ],
          [
           "Georgia",
           "# Citations"
          ],
          [
           "Barbados",
           "# Citations"
          ],
          [
           "Algeria",
           "# Citations"
          ],
          [
           "Trinidad and Tobago",
           "# Citations"
          ],
          [
           "Türkiye",
           "# Citations"
          ],
          [
           "Chile",
           "# Citations"
          ],
          [
           "Belarus",
           "# Citations"
          ],
          [
           "Saudi Arabia",
           "# Citations"
          ],
          [
           "Oman",
           "# Citations"
          ],
          [
           "Spain",
           "# Citations"
          ],
          [
           "South Africa",
           "# Citations"
          ],
          [
           "Israel",
           "# Citations"
          ],
          [
           "Switzerland",
           "# Citations"
          ],
          [
           "New Caledonia",
           "# Citations"
          ],
          [
           "Kenya",
           "# Citations"
          ],
          [
           "United Arab Emirates",
           "# Citations"
          ],
          [
           "Thailand",
           "# Citations"
          ],
          [
           "Argentina",
           "# Citations"
          ],
          [
           "Jamaica",
           "# Citations"
          ],
          [
           "France",
           "# Citations"
          ],
          [
           "China",
           "# Citations"
          ],
          [
           "Cuba",
           "# Citations"
          ],
          [
           "Uruguay",
           "# Citations"
          ],
          [
           "Iceland",
           "# Citations"
          ],
          [
           "New Zealand",
           "# Citations"
          ],
          [
           "United Kingdom",
           "# Citations"
          ],
          [
           "Bulgaria",
           "# Citations"
          ],
          [
           "Czechia",
           "# Citations"
          ],
          [
           "Ireland",
           "# Citations"
          ],
          [
           "Germany",
           "# Citations"
          ],
          [
           "Montenegro",
           "# Citations"
          ],
          [
           "Hungary",
           "# Citations"
          ],
          [
           "Ukraine",
           "# Citations"
          ],
          [
           "Poland",
           "# Citations"
          ],
          [
           "Latvia",
           "# Citations"
          ],
          [
           "Romania",
           "# Citations"
          ],
          [
           "Norway",
           "# Citations"
          ],
          [
           "Philippines",
           "# Citations"
          ],
          [
           "Venezuela",
           "# Citations"
          ],
          [
           "Costa Rica",
           "# Citations"
          ],
          [
           "Netherlands",
           "# Citations"
          ],
          [
           "Uganda",
           "# Citations"
          ],
          [
           "Malawi",
           "# Citations"
          ],
          [
           "Macau",
           "# Citations"
          ],
          [
           "Armenia",
           "# Citations"
          ],
          [
           "Japan",
           "# Citations"
          ],
          [
           "Ghana",
           "# Citations"
          ],
          [
           "Sweden",
           "# Citations"
          ],
          [
           "Taiwan",
           "# Citations"
          ],
          [
           "Denmark",
           "# Citations"
          ],
          [
           "Puerto Rico",
           "# Citations"
          ],
          [
           "Sri Lanka",
           "# Citations"
          ],
          [
           "Lebanon",
           "# Citations"
          ],
          [
           "Qatar",
           "# Citations"
          ],
          [
           "Colombia",
           "# Citations"
          ],
          [
           "Singapore",
           "# Citations"
          ],
          [
           "Bahrain",
           "# Citations"
          ],
          [
           "Hong Kong",
           "# Citations"
          ],
          [
           "Slovakia",
           "# Citations"
          ],
          [
           "Tunisia",
           "# Citations"
          ],
          [
           "Malta",
           "# Citations"
          ],
          [
           "South Korea",
           "# Citations"
          ],
          [
           "Egypt",
           "# Citations"
          ],
          [
           "Austria",
           "# Citations"
          ],
          [
           "Senegal",
           "# Citations"
          ],
          [
           "Indonesia",
           "# Citations"
          ],
          [
           "Guadeloupe",
           "lel"
          ],
          [
           "Guyana",
           "lel"
          ],
          [
           "Kazakhstan",
           "# Citations"
          ],
          [
           "Laos",
           "# Citations"
          ],
          [
           "St. Kitts and Nevis",
           "# Citations"
          ],
          [
           "Iraq",
           "# Citations"
          ],
          [
           "Moldova",
           "# Citations"
          ],
          [
           "French Guiana",
           "# Citations"
          ],
          [
           "Suriname",
           "lel"
          ],
          [
           "Afghanistan",
           "# Citations"
          ],
          [
           "Brunei Darussalam",
           "# Citations"
          ],
          [
           "Libya",
           "# Citations"
          ],
          [
           "Nepal",
           "# Citations"
          ],
          [
           "Panama",
           "# Citations"
          ],
          [
           "Cambodia",
           "# Citations"
          ],
          [
           "North Macedonia",
           "# Citations"
          ],
          [
           "Ecuador",
           "# Citations"
          ],
          [
           "Mali",
           "# Citations"
          ],
          [
           "Cayman Islands",
           "lel"
          ],
          [
           "Ethiopia",
           "# Citations"
          ],
          [
           "Liberia",
           "# Citations"
          ],
          [
           "Rwanda",
           "# Citations"
          ],
          [
           "Grenada",
           "# Citations"
          ],
          [
           "Liechtenstein",
           "# Citations"
          ],
          [
           "Guatemala",
           "# Citations"
          ],
          [
           "Monaco",
           "# Citations"
          ],
          [
           "Vietnam",
           "# Citations"
          ],
          [
           "Gambia",
           "# Citations"
          ],
          [
           "Namibia",
           "# Citations"
          ],
          [
           "Paraguay",
           "# Citations"
          ],
          [
           "Botswana",
           "# Citations"
          ],
          [
           "Timor-Leste",
           "lel"
          ],
          [
           "Vanuatu",
           "# Citations"
          ],
          [
           "Burundi",
           "# Citations"
          ],
          [
           "Burkina Faso",
           "lel"
          ],
          [
           "Greenland",
           "# Citations"
          ],
          [
           "Falkland Islands",
           "# Citations"
          ],
          [
           "Palestine",
           "# Citations"
          ],
          [
           "Sudan",
           "# Citations"
          ],
          [
           "Bosnia and Herzegovina",
           "# Citations"
          ],
          [
           "Curacao",
           "lel"
          ],
          [
           "Congo Republic",
           "lel"
          ],
          [
           "Uzbekistan",
           "# Citations"
          ],
          [
           "Dominica",
           "# Citations"
          ],
          [
           "Bermuda",
           "# Citations"
          ],
          [
           "Eritrea",
           "lel"
          ],
          [
           "Tajikistan",
           "lel"
          ],
          [
           "Fiji",
           "# Citations"
          ],
          [
           "Zimbabwe",
           "# Citations"
          ],
          [
           "Lesotho",
           "# Citations"
          ],
          [
           "Azerbaijan",
           "# Citations"
          ],
          [
           "St. Vincent and the Grenadines",
           "lel"
          ],
          [
           "St. Lucia",
           "lel"
          ],
          [
           "Yemen",
           "# Citations"
          ],
          [
           "Russia",
           "# Citations"
          ],
          [
           "Guinea-Bissau",
           "# Citations"
          ],
          [
           "Bahamas",
           "# Citations"
          ],
          [
           "Madagascar",
           "# Citations"
          ],
          [
           "Mauritius",
           "# Citations"
          ],
          [
           "Benin",
           "# Citations"
          ],
          [
           "Faroe Islands",
           "# Citations"
          ],
          [
           "Netherlands",
           "lel"
          ],
          [
           "Seychelles",
           "# Citations"
          ],
          [
           "Cote d'Ivoire",
           "# Citations"
          ],
          [
           "Zambia",
           "# Citations"
          ],
          [
           "Kiribati",
           "# Citations"
          ],
          [
           "Syria",
           "# Citations"
          ],
          [
           "St. Helena",
           "lel"
          ],
          [
           "Honduras",
           "# Citations"
          ],
          [
           "French Polynesia",
           "# Citations"
          ],
          [
           "Martinique",
           "# Citations"
          ],
          [
           "Haiti",
           "# Citations"
          ],
          [
           "Czech Republic",
           "# Citations"
          ],
          [
           "Mongolia",
           "# Citations"
          ],
          [
           "Sierra Leone",
           "# Citations"
          ],
          [
           "Anguilla",
           "# Citations"
          ],
          [
           "Dominican Republic",
           "# Citations"
          ],
          [
           "Kyrgyz Republic",
           "# Citations"
          ],
          [
           "Mauritania",
           "# Citations"
          ],
          [
           "DR Congo",
           "# Citations"
          ]
         ],
         "geo": "geo",
         "hovertemplate": "metric=nc<br>code=%{location}<br>country=%{customdata[0]}<br>metric_name=%{customdata[1]}<br>median=%{z}<extra></extra>",
         "locations": [
          "USA",
          "LTU",
          "CAN",
          "AUS",
          "GRC",
          "MAR",
          "BEL",
          "RUS",
          "IND",
          "MEX",
          "JOR",
          "LUX",
          "TZA",
          "EST",
          "BGD",
          "PAK",
          "PRT",
          "KWT",
          "MYS",
          "CMR",
          "BRA",
          "SRB",
          "FIN",
          "ITA",
          "HRV",
          "SVN",
          "IRN",
          "PER",
          "CYP",
          "NGA",
          "GEO",
          "BRB",
          "DZA",
          "TTO",
          "TUR",
          "CHL",
          "BLR",
          "SAU",
          "OMN",
          "ESP",
          "ZAF",
          "ISR",
          "CHE",
          "NCL",
          "KEN",
          "ARE",
          "THA",
          "ARG",
          "JAM",
          "FRA",
          "CHN",
          "CUB",
          "URY",
          "ISL",
          "NZL",
          "GBR",
          "BGR",
          "CZE",
          "IRL",
          "DEU",
          "MNE",
          "HUN",
          "UKR",
          "POL",
          "LVA",
          "ROU",
          "NOR",
          "PHL",
          "VEN",
          "CRI",
          "NLD",
          "UGA",
          "MWI",
          "MAC",
          "ARM",
          "JPN",
          "GHA",
          "SWE",
          "TWN",
          "DNK",
          "PRI",
          "LKA",
          "LBN",
          "QAT",
          "COL",
          "SGP",
          "BHR",
          "HKG",
          "SVK",
          "TUN",
          "MLT",
          "KOR",
          "EGY",
          "AUT",
          "SEN",
          "IDN",
          "GLP",
          "GUY",
          "KAZ",
          "LAO",
          "KNA",
          "IRQ",
          "MDA",
          "GUF",
          "SUR",
          "AFG",
          "BRN",
          "LBY",
          "NPL",
          "PAN",
          "KHM",
          "MKD",
          "ECU",
          "MLI",
          "CYM",
          "ETH",
          "LBR",
          "RWA",
          "GRD",
          "LIE",
          "GTM",
          "MCO",
          "VNM",
          "GMB",
          "NAM",
          "PRY",
          "BWA",
          "TLS",
          "VUT",
          "BDI",
          "BFA",
          "GRL",
          "FLK",
          "PSE",
          "SDN",
          "BIH",
          "CUW",
          "COG",
          "UZB",
          "DMA",
          "BMU",
          "ERI",
          "TJK",
          "FJI",
          "ZWE",
          "LSO",
          "AZE",
          "VCT",
          "LCA",
          "YEM",
          "SUX",
          "GNB",
          "BHS",
          "MDG",
          "MUS",
          "BEN",
          "FRO",
          "ANT",
          "SYC",
          "CIV",
          "ZMB",
          "KIR",
          "SYR",
          "SHN",
          "HND",
          "PYF",
          "MTQ",
          "HTI",
          "SCG",
          "MNG",
          "SLE",
          "AIA",
          "DOM",
          "KGZ",
          "MRT",
          "COD"
         ],
         "name": "",
         "type": "choropleth",
         "z": [
          11912.25,
          6148.5,
          9894,
          10000,
          7052,
          8790,
          13632,
          6356.5,
          6523.75,
          7336.75,
          4371.5,
          9928.75,
          4609,
          7869,
          6206,
          7054,
          9596,
          3611.5,
          8110,
          6674,
          7635,
          4433,
          10708,
          11124,
          5389,
          6847.5,
          6297.25,
          8992,
          5218,
          3677,
          16045.5,
          1648,
          5049,
          3233,
          4406.5,
          7246,
          5735.5,
          7372,
          3950,
          10789.25,
          7812,
          7903.25,
          12674,
          6489.5,
          9455.5,
          5744,
          6280,
          7110,
          10833.5,
          10986.5,
          11291,
          4801,
          7431,
          10115,
          7242,
          10265,
          4840.25,
          6664,
          10020,
          11776,
          3238.75,
          6910.5,
          4442.75,
          5450.75,
          4995,
          5139,
          7847,
          9211,
          4424.5,
          6767,
          13783.5,
          14013.5,
          7526.25,
          9031.5,
          30682.25,
          10482,
          8559,
          10048.75,
          6768,
          10662,
          16519,
          6170,
          6234,
          7763,
          9928,
          12373,
          4967.75,
          11531,
          5612.5,
          4846,
          6019,
          9174,
          3622,
          10310,
          9613.75,
          5269.75,
          0,
          0,
          3947,
          6422,
          6423,
          3162.5,
          8643,
          4827.5,
          0,
          981,
          4587.25,
          1568,
          4911,
          8927,
          7125,
          4168.75,
          4869.25,
          22183,
          0,
          8362.25,
          18052,
          7243.5,
          3920,
          5340,
          4992.25,
          34955,
          5473.25,
          24668,
          6172.5,
          6452.25,
          3305,
          0,
          2217.75,
          1885,
          0,
          6130,
          3569,
          3305.75,
          3522,
          2943,
          0,
          0,
          4120,
          3601,
          20837.25,
          0,
          0,
          2887,
          3624.25,
          697,
          1355.5,
          0,
          0,
          1932,
          2622,
          23062,
          3845,
          8717,
          4041,
          5729,
          9217.25,
          0,
          4845,
          1316,
          7866.25,
          1340.5,
          1498.75,
          0,
          13100,
          8465,
          5398,
          1728,
          1235,
          3408,
          1925,
          43285,
          7599,
          8497,
          3056,
          1139.5
         ]
        }
       ],
       "frames": [
        {
         "data": [
          {
           "coloraxis": "coloraxis",
           "customdata": [
            [
             "United States",
             "# Citations"
            ],
            [
             "Lithuania",
             "# Citations"
            ],
            [
             "Canada",
             "# Citations"
            ],
            [
             "Australia",
             "# Citations"
            ],
            [
             "Greece",
             "# Citations"
            ],
            [
             "Morocco",
             "# Citations"
            ],
            [
             "Belgium",
             "# Citations"
            ],
            [
             "Russia",
             "# Citations"
            ],
            [
             "India",
             "# Citations"
            ],
            [
             "Mexico",
             "# Citations"
            ],
            [
             "Jordan",
             "# Citations"
            ],
            [
             "Luxembourg",
             "# Citations"
            ],
            [
             "Tanzania",
             "# Citations"
            ],
            [
             "Estonia",
             "# Citations"
            ],
            [
             "Bangladesh",
             "# Citations"
            ],
            [
             "Pakistan",
             "# Citations"
            ],
            [
             "Portugal",
             "# Citations"
            ],
            [
             "Kuwait",
             "# Citations"
            ],
            [
             "Malaysia",
             "# Citations"
            ],
            [
             "Cameroon",
             "# Citations"
            ],
            [
             "Brazil",
             "# Citations"
            ],
            [
             "Serbia",
             "# Citations"
            ],
            [
             "Finland",
             "# Citations"
            ],
            [
             "Italy",
             "# Citations"
            ],
            [
             "Croatia",
             "# Citations"
            ],
            [
             "Slovenia",
             "# Citations"
            ],
            [
             "Iran",
             "# Citations"
            ],
            [
             "Peru",
             "# Citations"
            ],
            [
             "Cyprus",
             "# Citations"
            ],
            [
             "Nigeria",
             "# Citations"
            ],
            [
             "Georgia",
             "# Citations"
            ],
            [
             "Barbados",
             "# Citations"
            ],
            [
             "Algeria",
             "# Citations"
            ],
            [
             "Trinidad and Tobago",
             "# Citations"
            ],
            [
             "Türkiye",
             "# Citations"
            ],
            [
             "Chile",
             "# Citations"
            ],
            [
             "Belarus",
             "# Citations"
            ],
            [
             "Saudi Arabia",
             "# Citations"
            ],
            [
             "Oman",
             "# Citations"
            ],
            [
             "Spain",
             "# Citations"
            ],
            [
             "South Africa",
             "# Citations"
            ],
            [
             "Israel",
             "# Citations"
            ],
            [
             "Switzerland",
             "# Citations"
            ],
            [
             "New Caledonia",
             "# Citations"
            ],
            [
             "Kenya",
             "# Citations"
            ],
            [
             "United Arab Emirates",
             "# Citations"
            ],
            [
             "Thailand",
             "# Citations"
            ],
            [
             "Argentina",
             "# Citations"
            ],
            [
             "Jamaica",
             "# Citations"
            ],
            [
             "France",
             "# Citations"
            ],
            [
             "China",
             "# Citations"
            ],
            [
             "Cuba",
             "# Citations"
            ],
            [
             "Uruguay",
             "# Citations"
            ],
            [
             "Iceland",
             "# Citations"
            ],
            [
             "New Zealand",
             "# Citations"
            ],
            [
             "United Kingdom",
             "# Citations"
            ],
            [
             "Bulgaria",
             "# Citations"
            ],
            [
             "Czechia",
             "# Citations"
            ],
            [
             "Ireland",
             "# Citations"
            ],
            [
             "Germany",
             "# Citations"
            ],
            [
             "Montenegro",
             "# Citations"
            ],
            [
             "Hungary",
             "# Citations"
            ],
            [
             "Ukraine",
             "# Citations"
            ],
            [
             "Poland",
             "# Citations"
            ],
            [
             "Latvia",
             "# Citations"
            ],
            [
             "Romania",
             "# Citations"
            ],
            [
             "Norway",
             "# Citations"
            ],
            [
             "Philippines",
             "# Citations"
            ],
            [
             "Venezuela",
             "# Citations"
            ],
            [
             "Costa Rica",
             "# Citations"
            ],
            [
             "Netherlands",
             "# Citations"
            ],
            [
             "Uganda",
             "# Citations"
            ],
            [
             "Malawi",
             "# Citations"
            ],
            [
             "Macau",
             "# Citations"
            ],
            [
             "Armenia",
             "# Citations"
            ],
            [
             "Japan",
             "# Citations"
            ],
            [
             "Ghana",
             "# Citations"
            ],
            [
             "Sweden",
             "# Citations"
            ],
            [
             "Taiwan",
             "# Citations"
            ],
            [
             "Denmark",
             "# Citations"
            ],
            [
             "Puerto Rico",
             "# Citations"
            ],
            [
             "Sri Lanka",
             "# Citations"
            ],
            [
             "Lebanon",
             "# Citations"
            ],
            [
             "Qatar",
             "# Citations"
            ],
            [
             "Colombia",
             "# Citations"
            ],
            [
             "Singapore",
             "# Citations"
            ],
            [
             "Bahrain",
             "# Citations"
            ],
            [
             "Hong Kong",
             "# Citations"
            ],
            [
             "Slovakia",
             "# Citations"
            ],
            [
             "Tunisia",
             "# Citations"
            ],
            [
             "Malta",
             "# Citations"
            ],
            [
             "South Korea",
             "# Citations"
            ],
            [
             "Egypt",
             "# Citations"
            ],
            [
             "Austria",
             "# Citations"
            ],
            [
             "Senegal",
             "# Citations"
            ],
            [
             "Indonesia",
             "# Citations"
            ],
            [
             "Guadeloupe",
             "lel"
            ],
            [
             "Guyana",
             "lel"
            ],
            [
             "Kazakhstan",
             "# Citations"
            ],
            [
             "Laos",
             "# Citations"
            ],
            [
             "St. Kitts and Nevis",
             "# Citations"
            ],
            [
             "Iraq",
             "# Citations"
            ],
            [
             "Moldova",
             "# Citations"
            ],
            [
             "French Guiana",
             "# Citations"
            ],
            [
             "Suriname",
             "lel"
            ],
            [
             "Afghanistan",
             "# Citations"
            ],
            [
             "Brunei Darussalam",
             "# Citations"
            ],
            [
             "Libya",
             "# Citations"
            ],
            [
             "Nepal",
             "# Citations"
            ],
            [
             "Panama",
             "# Citations"
            ],
            [
             "Cambodia",
             "# Citations"
            ],
            [
             "North Macedonia",
             "# Citations"
            ],
            [
             "Ecuador",
             "# Citations"
            ],
            [
             "Mali",
             "# Citations"
            ],
            [
             "Cayman Islands",
             "lel"
            ],
            [
             "Ethiopia",
             "# Citations"
            ],
            [
             "Liberia",
             "# Citations"
            ],
            [
             "Rwanda",
             "# Citations"
            ],
            [
             "Grenada",
             "# Citations"
            ],
            [
             "Liechtenstein",
             "# Citations"
            ],
            [
             "Guatemala",
             "# Citations"
            ],
            [
             "Monaco",
             "# Citations"
            ],
            [
             "Vietnam",
             "# Citations"
            ],
            [
             "Gambia",
             "# Citations"
            ],
            [
             "Namibia",
             "# Citations"
            ],
            [
             "Paraguay",
             "# Citations"
            ],
            [
             "Botswana",
             "# Citations"
            ],
            [
             "Timor-Leste",
             "lel"
            ],
            [
             "Vanuatu",
             "# Citations"
            ],
            [
             "Burundi",
             "# Citations"
            ],
            [
             "Burkina Faso",
             "lel"
            ],
            [
             "Greenland",
             "# Citations"
            ],
            [
             "Falkland Islands",
             "# Citations"
            ],
            [
             "Palestine",
             "# Citations"
            ],
            [
             "Sudan",
             "# Citations"
            ],
            [
             "Bosnia and Herzegovina",
             "# Citations"
            ],
            [
             "Curacao",
             "lel"
            ],
            [
             "Congo Republic",
             "lel"
            ],
            [
             "Uzbekistan",
             "# Citations"
            ],
            [
             "Dominica",
             "# Citations"
            ],
            [
             "Bermuda",
             "# Citations"
            ],
            [
             "Eritrea",
             "lel"
            ],
            [
             "Tajikistan",
             "lel"
            ],
            [
             "Fiji",
             "# Citations"
            ],
            [
             "Zimbabwe",
             "# Citations"
            ],
            [
             "Lesotho",
             "# Citations"
            ],
            [
             "Azerbaijan",
             "# Citations"
            ],
            [
             "St. Vincent and the Grenadines",
             "lel"
            ],
            [
             "St. Lucia",
             "lel"
            ],
            [
             "Yemen",
             "# Citations"
            ],
            [
             "Russia",
             "# Citations"
            ],
            [
             "Guinea-Bissau",
             "# Citations"
            ],
            [
             "Bahamas",
             "# Citations"
            ],
            [
             "Madagascar",
             "# Citations"
            ],
            [
             "Mauritius",
             "# Citations"
            ],
            [
             "Benin",
             "# Citations"
            ],
            [
             "Faroe Islands",
             "# Citations"
            ],
            [
             "Netherlands",
             "lel"
            ],
            [
             "Seychelles",
             "# Citations"
            ],
            [
             "Cote d'Ivoire",
             "# Citations"
            ],
            [
             "Zambia",
             "# Citations"
            ],
            [
             "Kiribati",
             "# Citations"
            ],
            [
             "Syria",
             "# Citations"
            ],
            [
             "St. Helena",
             "lel"
            ],
            [
             "Honduras",
             "# Citations"
            ],
            [
             "French Polynesia",
             "# Citations"
            ],
            [
             "Martinique",
             "# Citations"
            ],
            [
             "Haiti",
             "# Citations"
            ],
            [
             "Czech Republic",
             "# Citations"
            ],
            [
             "Mongolia",
             "# Citations"
            ],
            [
             "Sierra Leone",
             "# Citations"
            ],
            [
             "Anguilla",
             "# Citations"
            ],
            [
             "Dominican Republic",
             "# Citations"
            ],
            [
             "Kyrgyz Republic",
             "# Citations"
            ],
            [
             "Mauritania",
             "# Citations"
            ],
            [
             "DR Congo",
             "# Citations"
            ]
           ],
           "geo": "geo",
           "hovertemplate": "metric=nc<br>code=%{location}<br>country=%{customdata[0]}<br>metric_name=%{customdata[1]}<br>median=%{z}<extra></extra>",
           "locations": [
            "USA",
            "LTU",
            "CAN",
            "AUS",
            "GRC",
            "MAR",
            "BEL",
            "RUS",
            "IND",
            "MEX",
            "JOR",
            "LUX",
            "TZA",
            "EST",
            "BGD",
            "PAK",
            "PRT",
            "KWT",
            "MYS",
            "CMR",
            "BRA",
            "SRB",
            "FIN",
            "ITA",
            "HRV",
            "SVN",
            "IRN",
            "PER",
            "CYP",
            "NGA",
            "GEO",
            "BRB",
            "DZA",
            "TTO",
            "TUR",
            "CHL",
            "BLR",
            "SAU",
            "OMN",
            "ESP",
            "ZAF",
            "ISR",
            "CHE",
            "NCL",
            "KEN",
            "ARE",
            "THA",
            "ARG",
            "JAM",
            "FRA",
            "CHN",
            "CUB",
            "URY",
            "ISL",
            "NZL",
            "GBR",
            "BGR",
            "CZE",
            "IRL",
            "DEU",
            "MNE",
            "HUN",
            "UKR",
            "POL",
            "LVA",
            "ROU",
            "NOR",
            "PHL",
            "VEN",
            "CRI",
            "NLD",
            "UGA",
            "MWI",
            "MAC",
            "ARM",
            "JPN",
            "GHA",
            "SWE",
            "TWN",
            "DNK",
            "PRI",
            "LKA",
            "LBN",
            "QAT",
            "COL",
            "SGP",
            "BHR",
            "HKG",
            "SVK",
            "TUN",
            "MLT",
            "KOR",
            "EGY",
            "AUT",
            "SEN",
            "IDN",
            "GLP",
            "GUY",
            "KAZ",
            "LAO",
            "KNA",
            "IRQ",
            "MDA",
            "GUF",
            "SUR",
            "AFG",
            "BRN",
            "LBY",
            "NPL",
            "PAN",
            "KHM",
            "MKD",
            "ECU",
            "MLI",
            "CYM",
            "ETH",
            "LBR",
            "RWA",
            "GRD",
            "LIE",
            "GTM",
            "MCO",
            "VNM",
            "GMB",
            "NAM",
            "PRY",
            "BWA",
            "TLS",
            "VUT",
            "BDI",
            "BFA",
            "GRL",
            "FLK",
            "PSE",
            "SDN",
            "BIH",
            "CUW",
            "COG",
            "UZB",
            "DMA",
            "BMU",
            "ERI",
            "TJK",
            "FJI",
            "ZWE",
            "LSO",
            "AZE",
            "VCT",
            "LCA",
            "YEM",
            "SUX",
            "GNB",
            "BHS",
            "MDG",
            "MUS",
            "BEN",
            "FRO",
            "ANT",
            "SYC",
            "CIV",
            "ZMB",
            "KIR",
            "SYR",
            "SHN",
            "HND",
            "PYF",
            "MTQ",
            "HTI",
            "SCG",
            "MNG",
            "SLE",
            "AIA",
            "DOM",
            "KGZ",
            "MRT",
            "COD"
           ],
           "name": "",
           "type": "choropleth",
           "z": [
            11912.25,
            6148.5,
            9894,
            10000,
            7052,
            8790,
            13632,
            6356.5,
            6523.75,
            7336.75,
            4371.5,
            9928.75,
            4609,
            7869,
            6206,
            7054,
            9596,
            3611.5,
            8110,
            6674,
            7635,
            4433,
            10708,
            11124,
            5389,
            6847.5,
            6297.25,
            8992,
            5218,
            3677,
            16045.5,
            1648,
            5049,
            3233,
            4406.5,
            7246,
            5735.5,
            7372,
            3950,
            10789.25,
            7812,
            7903.25,
            12674,
            6489.5,
            9455.5,
            5744,
            6280,
            7110,
            10833.5,
            10986.5,
            11291,
            4801,
            7431,
            10115,
            7242,
            10265,
            4840.25,
            6664,
            10020,
            11776,
            3238.75,
            6910.5,
            4442.75,
            5450.75,
            4995,
            5139,
            7847,
            9211,
            4424.5,
            6767,
            13783.5,
            14013.5,
            7526.25,
            9031.5,
            30682.25,
            10482,
            8559,
            10048.75,
            6768,
            10662,
            16519,
            6170,
            6234,
            7763,
            9928,
            12373,
            4967.75,
            11531,
            5612.5,
            4846,
            6019,
            9174,
            3622,
            10310,
            9613.75,
            5269.75,
            0,
            0,
            3947,
            6422,
            6423,
            3162.5,
            8643,
            4827.5,
            0,
            981,
            4587.25,
            1568,
            4911,
            8927,
            7125,
            4168.75,
            4869.25,
            22183,
            0,
            8362.25,
            18052,
            7243.5,
            3920,
            5340,
            4992.25,
            34955,
            5473.25,
            24668,
            6172.5,
            6452.25,
            3305,
            0,
            2217.75,
            1885,
            0,
            6130,
            3569,
            3305.75,
            3522,
            2943,
            0,
            0,
            4120,
            3601,
            20837.25,
            0,
            0,
            2887,
            3624.25,
            697,
            1355.5,
            0,
            0,
            1932,
            2622,
            23062,
            3845,
            8717,
            4041,
            5729,
            9217.25,
            0,
            4845,
            1316,
            7866.25,
            1340.5,
            1498.75,
            0,
            13100,
            8465,
            5398,
            1728,
            1235,
            3408,
            1925,
            43285,
            7599,
            8497,
            3056,
            1139.5
           ]
          }
         ],
         "name": "nc"
        },
        {
         "data": [
          {
           "coloraxis": "coloraxis",
           "customdata": [
            [
             "United States",
             "H-index"
            ],
            [
             "Lithuania",
             "H-index"
            ],
            [
             "Canada",
             "H-index"
            ],
            [
             "Australia",
             "H-index"
            ],
            [
             "Greece",
             "H-index"
            ],
            [
             "Morocco",
             "H-index"
            ],
            [
             "Belgium",
             "H-index"
            ],
            [
             "Russia",
             "H-index"
            ],
            [
             "India",
             "H-index"
            ],
            [
             "Mexico",
             "H-index"
            ],
            [
             "Jordan",
             "H-index"
            ],
            [
             "Luxembourg",
             "H-index"
            ],
            [
             "Tanzania",
             "H-index"
            ],
            [
             "Estonia",
             "H-index"
            ],
            [
             "Bangladesh",
             "H-index"
            ],
            [
             "Pakistan",
             "H-index"
            ],
            [
             "Portugal",
             "H-index"
            ],
            [
             "Kuwait",
             "H-index"
            ],
            [
             "Malaysia",
             "H-index"
            ],
            [
             "Cameroon",
             "H-index"
            ],
            [
             "Brazil",
             "H-index"
            ],
            [
             "Serbia",
             "H-index"
            ],
            [
             "Finland",
             "H-index"
            ],
            [
             "Italy",
             "H-index"
            ],
            [
             "Croatia",
             "H-index"
            ],
            [
             "Slovenia",
             "H-index"
            ],
            [
             "Iran",
             "H-index"
            ],
            [
             "Peru",
             "H-index"
            ],
            [
             "Cyprus",
             "H-index"
            ],
            [
             "Nigeria",
             "H-index"
            ],
            [
             "Georgia",
             "H-index"
            ],
            [
             "Barbados",
             "H-index"
            ],
            [
             "Algeria",
             "H-index"
            ],
            [
             "Trinidad and Tobago",
             "H-index"
            ],
            [
             "Türkiye",
             "H-index"
            ],
            [
             "Chile",
             "H-index"
            ],
            [
             "Belarus",
             "H-index"
            ],
            [
             "Saudi Arabia",
             "H-index"
            ],
            [
             "Oman",
             "H-index"
            ],
            [
             "Spain",
             "H-index"
            ],
            [
             "South Africa",
             "H-index"
            ],
            [
             "Israel",
             "H-index"
            ],
            [
             "Switzerland",
             "H-index"
            ],
            [
             "New Caledonia",
             "H-index"
            ],
            [
             "Kenya",
             "H-index"
            ],
            [
             "United Arab Emirates",
             "H-index"
            ],
            [
             "Thailand",
             "H-index"
            ],
            [
             "Argentina",
             "H-index"
            ],
            [
             "Jamaica",
             "H-index"
            ],
            [
             "France",
             "H-index"
            ],
            [
             "China",
             "H-index"
            ],
            [
             "Cuba",
             "H-index"
            ],
            [
             "Uruguay",
             "H-index"
            ],
            [
             "Iceland",
             "H-index"
            ],
            [
             "New Zealand",
             "H-index"
            ],
            [
             "United Kingdom",
             "H-index"
            ],
            [
             "Bulgaria",
             "H-index"
            ],
            [
             "Czechia",
             "H-index"
            ],
            [
             "Ireland",
             "H-index"
            ],
            [
             "Germany",
             "H-index"
            ],
            [
             "Montenegro",
             "H-index"
            ],
            [
             "Hungary",
             "H-index"
            ],
            [
             "Ukraine",
             "H-index"
            ],
            [
             "Poland",
             "H-index"
            ],
            [
             "Latvia",
             "H-index"
            ],
            [
             "Romania",
             "H-index"
            ],
            [
             "Norway",
             "H-index"
            ],
            [
             "Philippines",
             "H-index"
            ],
            [
             "Venezuela",
             "H-index"
            ],
            [
             "Costa Rica",
             "H-index"
            ],
            [
             "Netherlands",
             "H-index"
            ],
            [
             "Uganda",
             "H-index"
            ],
            [
             "Malawi",
             "H-index"
            ],
            [
             "Macau",
             "H-index"
            ],
            [
             "Armenia",
             "H-index"
            ],
            [
             "Japan",
             "H-index"
            ],
            [
             "Ghana",
             "H-index"
            ],
            [
             "Sweden",
             "H-index"
            ],
            [
             "Taiwan",
             "H-index"
            ],
            [
             "Denmark",
             "H-index"
            ],
            [
             "Puerto Rico",
             "H-index"
            ],
            [
             "Sri Lanka",
             "H-index"
            ],
            [
             "Lebanon",
             "H-index"
            ],
            [
             "Qatar",
             "H-index"
            ],
            [
             "Colombia",
             "H-index"
            ],
            [
             "Singapore",
             "H-index"
            ],
            [
             "Bahrain",
             "H-index"
            ],
            [
             "Hong Kong",
             "H-index"
            ],
            [
             "Slovakia",
             "H-index"
            ],
            [
             "Tunisia",
             "H-index"
            ],
            [
             "Malta",
             "H-index"
            ],
            [
             "South Korea",
             "H-index"
            ],
            [
             "Egypt",
             "H-index"
            ],
            [
             "Austria",
             "H-index"
            ],
            [
             "Senegal",
             "H-index"
            ],
            [
             "Indonesia",
             "H-index"
            ],
            [
             "Guadeloupe",
             "lel"
            ],
            [
             "Guyana",
             "lel"
            ],
            [
             "Kazakhstan",
             "H-index"
            ],
            [
             "Laos",
             "H-index"
            ],
            [
             "St. Kitts and Nevis",
             "H-index"
            ],
            [
             "Iraq",
             "H-index"
            ],
            [
             "Moldova",
             "H-index"
            ],
            [
             "French Guiana",
             "H-index"
            ],
            [
             "Suriname",
             "lel"
            ],
            [
             "Afghanistan",
             "H-index"
            ],
            [
             "Brunei Darussalam",
             "H-index"
            ],
            [
             "Libya",
             "H-index"
            ],
            [
             "Nepal",
             "H-index"
            ],
            [
             "Panama",
             "H-index"
            ],
            [
             "Cambodia",
             "H-index"
            ],
            [
             "North Macedonia",
             "H-index"
            ],
            [
             "Ecuador",
             "H-index"
            ],
            [
             "Mali",
             "H-index"
            ],
            [
             "Cayman Islands",
             "lel"
            ],
            [
             "Ethiopia",
             "H-index"
            ],
            [
             "Liberia",
             "H-index"
            ],
            [
             "Rwanda",
             "H-index"
            ],
            [
             "Grenada",
             "H-index"
            ],
            [
             "Liechtenstein",
             "H-index"
            ],
            [
             "Guatemala",
             "H-index"
            ],
            [
             "Monaco",
             "H-index"
            ],
            [
             "Vietnam",
             "H-index"
            ],
            [
             "Gambia",
             "H-index"
            ],
            [
             "Namibia",
             "H-index"
            ],
            [
             "Paraguay",
             "H-index"
            ],
            [
             "Botswana",
             "H-index"
            ],
            [
             "Timor-Leste",
             "lel"
            ],
            [
             "Vanuatu",
             "H-index"
            ],
            [
             "Burundi",
             "H-index"
            ],
            [
             "Burkina Faso",
             "lel"
            ],
            [
             "Greenland",
             "H-index"
            ],
            [
             "Falkland Islands",
             "H-index"
            ],
            [
             "Palestine",
             "H-index"
            ],
            [
             "Sudan",
             "H-index"
            ],
            [
             "Bosnia and Herzegovina",
             "H-index"
            ],
            [
             "Curacao",
             "lel"
            ],
            [
             "Congo Republic",
             "lel"
            ],
            [
             "Uzbekistan",
             "H-index"
            ],
            [
             "Dominica",
             "H-index"
            ],
            [
             "Bermuda",
             "H-index"
            ],
            [
             "Eritrea",
             "lel"
            ],
            [
             "Tajikistan",
             "lel"
            ],
            [
             "Fiji",
             "H-index"
            ],
            [
             "Zimbabwe",
             "H-index"
            ],
            [
             "Lesotho",
             "H-index"
            ],
            [
             "Azerbaijan",
             "H-index"
            ],
            [
             "St. Vincent and the Grenadines",
             "lel"
            ],
            [
             "St. Lucia",
             "lel"
            ],
            [
             "Yemen",
             "H-index"
            ],
            [
             "Russia",
             "H-index"
            ],
            [
             "Guinea-Bissau",
             "H-index"
            ],
            [
             "Bahamas",
             "H-index"
            ],
            [
             "Madagascar",
             "H-index"
            ],
            [
             "Mauritius",
             "H-index"
            ],
            [
             "Benin",
             "H-index"
            ],
            [
             "Faroe Islands",
             "H-index"
            ],
            [
             "Netherlands",
             "lel"
            ],
            [
             "Seychelles",
             "H-index"
            ],
            [
             "Cote d'Ivoire",
             "H-index"
            ],
            [
             "Zambia",
             "H-index"
            ],
            [
             "Kiribati",
             "H-index"
            ],
            [
             "Syria",
             "H-index"
            ],
            [
             "St. Helena",
             "lel"
            ],
            [
             "Honduras",
             "H-index"
            ],
            [
             "French Polynesia",
             "H-index"
            ],
            [
             "Martinique",
             "H-index"
            ],
            [
             "Haiti",
             "H-index"
            ],
            [
             "Czech Republic",
             "H-index"
            ],
            [
             "Mongolia",
             "H-index"
            ],
            [
             "Sierra Leone",
             "H-index"
            ],
            [
             "Anguilla",
             "H-index"
            ],
            [
             "Dominican Republic",
             "H-index"
            ],
            [
             "Kyrgyz Republic",
             "H-index"
            ],
            [
             "Mauritania",
             "H-index"
            ],
            [
             "DR Congo",
             "H-index"
            ]
           ],
           "geo": "geo",
           "hovertemplate": "metric=h<br>code=%{location}<br>country=%{customdata[0]}<br>metric_name=%{customdata[1]}<br>median=%{z}<extra></extra>",
           "locations": [
            "USA",
            "LTU",
            "CAN",
            "AUS",
            "GRC",
            "MAR",
            "BEL",
            "RUS",
            "IND",
            "MEX",
            "JOR",
            "LUX",
            "TZA",
            "EST",
            "BGD",
            "PAK",
            "PRT",
            "KWT",
            "MYS",
            "CMR",
            "BRA",
            "SRB",
            "FIN",
            "ITA",
            "HRV",
            "SVN",
            "IRN",
            "PER",
            "CYP",
            "NGA",
            "GEO",
            "BRB",
            "DZA",
            "TTO",
            "TUR",
            "CHL",
            "BLR",
            "SAU",
            "OMN",
            "ESP",
            "ZAF",
            "ISR",
            "CHE",
            "NCL",
            "KEN",
            "ARE",
            "THA",
            "ARG",
            "JAM",
            "FRA",
            "CHN",
            "CUB",
            "URY",
            "ISL",
            "NZL",
            "GBR",
            "BGR",
            "CZE",
            "IRL",
            "DEU",
            "MNE",
            "HUN",
            "UKR",
            "POL",
            "LVA",
            "ROU",
            "NOR",
            "PHL",
            "VEN",
            "CRI",
            "NLD",
            "UGA",
            "MWI",
            "MAC",
            "ARM",
            "JPN",
            "GHA",
            "SWE",
            "TWN",
            "DNK",
            "PRI",
            "LKA",
            "LBN",
            "QAT",
            "COL",
            "SGP",
            "BHR",
            "HKG",
            "SVK",
            "TUN",
            "MLT",
            "KOR",
            "EGY",
            "AUT",
            "SEN",
            "IDN",
            "GLP",
            "GUY",
            "KAZ",
            "LAO",
            "KNA",
            "IRQ",
            "MDA",
            "GUF",
            "SUR",
            "AFG",
            "BRN",
            "LBY",
            "NPL",
            "PAN",
            "KHM",
            "MKD",
            "ECU",
            "MLI",
            "CYM",
            "ETH",
            "LBR",
            "RWA",
            "GRD",
            "LIE",
            "GTM",
            "MCO",
            "VNM",
            "GMB",
            "NAM",
            "PRY",
            "BWA",
            "TLS",
            "VUT",
            "BDI",
            "BFA",
            "GRL",
            "FLK",
            "PSE",
            "SDN",
            "BIH",
            "CUW",
            "COG",
            "UZB",
            "DMA",
            "BMU",
            "ERI",
            "TJK",
            "FJI",
            "ZWE",
            "LSO",
            "AZE",
            "VCT",
            "LCA",
            "YEM",
            "SUX",
            "GNB",
            "BHS",
            "MDG",
            "MUS",
            "BEN",
            "FRO",
            "ANT",
            "SYC",
            "CIV",
            "ZMB",
            "KIR",
            "SYR",
            "SHN",
            "HND",
            "PYF",
            "MTQ",
            "HTI",
            "SCG",
            "MNG",
            "SLE",
            "AIA",
            "DOM",
            "KGZ",
            "MRT",
            "COD"
           ],
           "name": "",
           "type": "choropleth",
           "z": [
            53,
            38.5,
            49,
            49.5,
            43,
            49,
            57,
            40,
            41,
            45,
            31,
            47.75,
            42,
            45.5,
            39,
            43,
            49,
            32,
            46,
            41,
            45,
            33,
            53,
            53,
            39,
            42,
            42,
            49.5,
            38,
            30,
            63.5,
            23,
            36,
            33,
            35,
            42,
            34,
            44,
            34,
            53,
            44,
            43,
            55,
            45.5,
            46.5,
            37,
            40,
            42,
            48.5,
            52,
            54,
            40,
            46,
            49.5,
            43,
            50,
            33.5,
            42,
            50,
            54,
            30,
            40,
            35,
            37,
            35.5,
            37,
            45,
            50,
            32.25,
            46,
            59,
            52.25,
            45.5,
            49.25,
            76.75,
            51,
            43,
            50,
            42,
            51,
            59,
            38,
            39,
            44,
            47.75,
            55,
            35,
            53,
            35,
            34.5,
            40,
            48,
            32,
            51,
            47.5,
            33.75,
            0,
            0,
            32,
            34,
            43,
            36,
            50,
            38.5,
            0,
            15,
            38.75,
            22,
            33,
            48,
            43.25,
            30.75,
            33.75,
            70,
            0,
            46.5,
            55,
            34,
            37,
            37,
            34.75,
            93,
            38.75,
            75,
            34.5,
            42.5,
            32,
            0,
            25.75,
            22,
            0,
            46,
            34,
            31,
            32,
            26,
            0,
            0,
            36,
            32,
            71.5,
            0,
            0,
            28,
            29.5,
            15,
            20,
            0,
            0,
            23,
            14,
            75,
            36,
            51.5,
            34,
            42,
            49,
            0,
            37,
            14,
            33,
            17.5,
            22.75,
            0,
            61,
            29,
            41,
            22,
            19,
            30,
            21,
            43,
            37,
            48,
            24,
            19.5
           ]
          }
         ],
         "name": "h"
        },
        {
         "data": [
          {
           "coloraxis": "coloraxis",
           "customdata": [
            [
             "United States",
             "Hm-index"
            ],
            [
             "Lithuania",
             "Hm-index"
            ],
            [
             "Canada",
             "Hm-index"
            ],
            [
             "Australia",
             "Hm-index"
            ],
            [
             "Greece",
             "Hm-index"
            ],
            [
             "Morocco",
             "Hm-index"
            ],
            [
             "Belgium",
             "Hm-index"
            ],
            [
             "Russia",
             "Hm-index"
            ],
            [
             "India",
             "Hm-index"
            ],
            [
             "Mexico",
             "Hm-index"
            ],
            [
             "Jordan",
             "Hm-index"
            ],
            [
             "Luxembourg",
             "Hm-index"
            ],
            [
             "Tanzania",
             "Hm-index"
            ],
            [
             "Estonia",
             "Hm-index"
            ],
            [
             "Bangladesh",
             "Hm-index"
            ],
            [
             "Pakistan",
             "Hm-index"
            ],
            [
             "Portugal",
             "Hm-index"
            ],
            [
             "Kuwait",
             "Hm-index"
            ],
            [
             "Malaysia",
             "Hm-index"
            ],
            [
             "Cameroon",
             "Hm-index"
            ],
            [
             "Brazil",
             "Hm-index"
            ],
            [
             "Serbia",
             "Hm-index"
            ],
            [
             "Finland",
             "Hm-index"
            ],
            [
             "Italy",
             "Hm-index"
            ],
            [
             "Croatia",
             "Hm-index"
            ],
            [
             "Slovenia",
             "Hm-index"
            ],
            [
             "Iran",
             "Hm-index"
            ],
            [
             "Peru",
             "Hm-index"
            ],
            [
             "Cyprus",
             "Hm-index"
            ],
            [
             "Nigeria",
             "Hm-index"
            ],
            [
             "Georgia",
             "Hm-index"
            ],
            [
             "Barbados",
             "Hm-index"
            ],
            [
             "Algeria",
             "Hm-index"
            ],
            [
             "Trinidad and Tobago",
             "Hm-index"
            ],
            [
             "Türkiye",
             "Hm-index"
            ],
            [
             "Chile",
             "Hm-index"
            ],
            [
             "Belarus",
             "Hm-index"
            ],
            [
             "Saudi Arabia",
             "Hm-index"
            ],
            [
             "Oman",
             "Hm-index"
            ],
            [
             "Spain",
             "Hm-index"
            ],
            [
             "South Africa",
             "Hm-index"
            ],
            [
             "Israel",
             "Hm-index"
            ],
            [
             "Switzerland",
             "Hm-index"
            ],
            [
             "New Caledonia",
             "Hm-index"
            ],
            [
             "Kenya",
             "Hm-index"
            ],
            [
             "United Arab Emirates",
             "Hm-index"
            ],
            [
             "Thailand",
             "Hm-index"
            ],
            [
             "Argentina",
             "Hm-index"
            ],
            [
             "Jamaica",
             "Hm-index"
            ],
            [
             "France",
             "Hm-index"
            ],
            [
             "China",
             "Hm-index"
            ],
            [
             "Cuba",
             "Hm-index"
            ],
            [
             "Uruguay",
             "Hm-index"
            ],
            [
             "Iceland",
             "Hm-index"
            ],
            [
             "New Zealand",
             "Hm-index"
            ],
            [
             "United Kingdom",
             "Hm-index"
            ],
            [
             "Bulgaria",
             "Hm-index"
            ],
            [
             "Czechia",
             "Hm-index"
            ],
            [
             "Ireland",
             "Hm-index"
            ],
            [
             "Germany",
             "Hm-index"
            ],
            [
             "Montenegro",
             "Hm-index"
            ],
            [
             "Hungary",
             "Hm-index"
            ],
            [
             "Ukraine",
             "Hm-index"
            ],
            [
             "Poland",
             "Hm-index"
            ],
            [
             "Latvia",
             "Hm-index"
            ],
            [
             "Romania",
             "Hm-index"
            ],
            [
             "Norway",
             "Hm-index"
            ],
            [
             "Philippines",
             "Hm-index"
            ],
            [
             "Venezuela",
             "Hm-index"
            ],
            [
             "Costa Rica",
             "Hm-index"
            ],
            [
             "Netherlands",
             "Hm-index"
            ],
            [
             "Uganda",
             "Hm-index"
            ],
            [
             "Malawi",
             "Hm-index"
            ],
            [
             "Macau",
             "Hm-index"
            ],
            [
             "Armenia",
             "Hm-index"
            ],
            [
             "Japan",
             "Hm-index"
            ],
            [
             "Ghana",
             "Hm-index"
            ],
            [
             "Sweden",
             "Hm-index"
            ],
            [
             "Taiwan",
             "Hm-index"
            ],
            [
             "Denmark",
             "Hm-index"
            ],
            [
             "Puerto Rico",
             "Hm-index"
            ],
            [
             "Sri Lanka",
             "Hm-index"
            ],
            [
             "Lebanon",
             "Hm-index"
            ],
            [
             "Qatar",
             "Hm-index"
            ],
            [
             "Colombia",
             "Hm-index"
            ],
            [
             "Singapore",
             "Hm-index"
            ],
            [
             "Bahrain",
             "Hm-index"
            ],
            [
             "Hong Kong",
             "Hm-index"
            ],
            [
             "Slovakia",
             "Hm-index"
            ],
            [
             "Tunisia",
             "Hm-index"
            ],
            [
             "Malta",
             "Hm-index"
            ],
            [
             "South Korea",
             "Hm-index"
            ],
            [
             "Egypt",
             "Hm-index"
            ],
            [
             "Austria",
             "Hm-index"
            ],
            [
             "Senegal",
             "Hm-index"
            ],
            [
             "Indonesia",
             "Hm-index"
            ],
            [
             "Guadeloupe",
             "lel"
            ],
            [
             "Guyana",
             "lel"
            ],
            [
             "Kazakhstan",
             "Hm-index"
            ],
            [
             "Laos",
             "Hm-index"
            ],
            [
             "St. Kitts and Nevis",
             "Hm-index"
            ],
            [
             "Iraq",
             "Hm-index"
            ],
            [
             "Moldova",
             "Hm-index"
            ],
            [
             "French Guiana",
             "Hm-index"
            ],
            [
             "Suriname",
             "lel"
            ],
            [
             "Afghanistan",
             "Hm-index"
            ],
            [
             "Brunei Darussalam",
             "Hm-index"
            ],
            [
             "Libya",
             "Hm-index"
            ],
            [
             "Nepal",
             "Hm-index"
            ],
            [
             "Panama",
             "Hm-index"
            ],
            [
             "Cambodia",
             "Hm-index"
            ],
            [
             "North Macedonia",
             "Hm-index"
            ],
            [
             "Ecuador",
             "Hm-index"
            ],
            [
             "Mali",
             "Hm-index"
            ],
            [
             "Cayman Islands",
             "lel"
            ],
            [
             "Ethiopia",
             "Hm-index"
            ],
            [
             "Liberia",
             "Hm-index"
            ],
            [
             "Rwanda",
             "Hm-index"
            ],
            [
             "Grenada",
             "Hm-index"
            ],
            [
             "Liechtenstein",
             "Hm-index"
            ],
            [
             "Guatemala",
             "Hm-index"
            ],
            [
             "Monaco",
             "Hm-index"
            ],
            [
             "Vietnam",
             "Hm-index"
            ],
            [
             "Gambia",
             "Hm-index"
            ],
            [
             "Namibia",
             "Hm-index"
            ],
            [
             "Paraguay",
             "Hm-index"
            ],
            [
             "Botswana",
             "Hm-index"
            ],
            [
             "Timor-Leste",
             "lel"
            ],
            [
             "Vanuatu",
             "Hm-index"
            ],
            [
             "Burundi",
             "Hm-index"
            ],
            [
             "Burkina Faso",
             "lel"
            ],
            [
             "Greenland",
             "Hm-index"
            ],
            [
             "Falkland Islands",
             "Hm-index"
            ],
            [
             "Palestine",
             "Hm-index"
            ],
            [
             "Sudan",
             "Hm-index"
            ],
            [
             "Bosnia and Herzegovina",
             "Hm-index"
            ],
            [
             "Curacao",
             "lel"
            ],
            [
             "Congo Republic",
             "lel"
            ],
            [
             "Uzbekistan",
             "Hm-index"
            ],
            [
             "Dominica",
             "Hm-index"
            ],
            [
             "Bermuda",
             "Hm-index"
            ],
            [
             "Eritrea",
             "lel"
            ],
            [
             "Tajikistan",
             "lel"
            ],
            [
             "Fiji",
             "Hm-index"
            ],
            [
             "Zimbabwe",
             "Hm-index"
            ],
            [
             "Lesotho",
             "Hm-index"
            ],
            [
             "Azerbaijan",
             "Hm-index"
            ],
            [
             "St. Vincent and the Grenadines",
             "lel"
            ],
            [
             "St. Lucia",
             "lel"
            ],
            [
             "Yemen",
             "Hm-index"
            ],
            [
             "Russia",
             "Hm-index"
            ],
            [
             "Guinea-Bissau",
             "Hm-index"
            ],
            [
             "Bahamas",
             "Hm-index"
            ],
            [
             "Madagascar",
             "Hm-index"
            ],
            [
             "Mauritius",
             "Hm-index"
            ],
            [
             "Benin",
             "Hm-index"
            ],
            [
             "Faroe Islands",
             "Hm-index"
            ],
            [
             "Netherlands",
             "lel"
            ],
            [
             "Seychelles",
             "Hm-index"
            ],
            [
             "Cote d'Ivoire",
             "Hm-index"
            ],
            [
             "Zambia",
             "Hm-index"
            ],
            [
             "Kiribati",
             "Hm-index"
            ],
            [
             "Syria",
             "Hm-index"
            ],
            [
             "St. Helena",
             "lel"
            ],
            [
             "Honduras",
             "Hm-index"
            ],
            [
             "French Polynesia",
             "Hm-index"
            ],
            [
             "Martinique",
             "Hm-index"
            ],
            [
             "Haiti",
             "Hm-index"
            ],
            [
             "Czech Republic",
             "Hm-index"
            ],
            [
             "Mongolia",
             "Hm-index"
            ],
            [
             "Sierra Leone",
             "Hm-index"
            ],
            [
             "Anguilla",
             "Hm-index"
            ],
            [
             "Dominican Republic",
             "Hm-index"
            ],
            [
             "Kyrgyz Republic",
             "Hm-index"
            ],
            [
             "Mauritania",
             "Hm-index"
            ],
            [
             "DR Congo",
             "Hm-index"
            ]
           ],
           "geo": "geo",
           "hovertemplate": "metric=hm<br>code=%{location}<br>country=%{customdata[0]}<br>metric_name=%{customdata[1]}<br>median=%{z}<extra></extra>",
           "locations": [
            "USA",
            "LTU",
            "CAN",
            "AUS",
            "GRC",
            "MAR",
            "BEL",
            "RUS",
            "IND",
            "MEX",
            "JOR",
            "LUX",
            "TZA",
            "EST",
            "BGD",
            "PAK",
            "PRT",
            "KWT",
            "MYS",
            "CMR",
            "BRA",
            "SRB",
            "FIN",
            "ITA",
            "HRV",
            "SVN",
            "IRN",
            "PER",
            "CYP",
            "NGA",
            "GEO",
            "BRB",
            "DZA",
            "TTO",
            "TUR",
            "CHL",
            "BLR",
            "SAU",
            "OMN",
            "ESP",
            "ZAF",
            "ISR",
            "CHE",
            "NCL",
            "KEN",
            "ARE",
            "THA",
            "ARG",
            "JAM",
            "FRA",
            "CHN",
            "CUB",
            "URY",
            "ISL",
            "NZL",
            "GBR",
            "BGR",
            "CZE",
            "IRL",
            "DEU",
            "MNE",
            "HUN",
            "UKR",
            "POL",
            "LVA",
            "ROU",
            "NOR",
            "PHL",
            "VEN",
            "CRI",
            "NLD",
            "UGA",
            "MWI",
            "MAC",
            "ARM",
            "JPN",
            "GHA",
            "SWE",
            "TWN",
            "DNK",
            "PRI",
            "LKA",
            "LBN",
            "QAT",
            "COL",
            "SGP",
            "BHR",
            "HKG",
            "SVK",
            "TUN",
            "MLT",
            "KOR",
            "EGY",
            "AUT",
            "SEN",
            "IDN",
            "GLP",
            "GUY",
            "KAZ",
            "LAO",
            "KNA",
            "IRQ",
            "MDA",
            "GUF",
            "SUR",
            "AFG",
            "BRN",
            "LBY",
            "NPL",
            "PAN",
            "KHM",
            "MKD",
            "ECU",
            "MLI",
            "CYM",
            "ETH",
            "LBR",
            "RWA",
            "GRD",
            "LIE",
            "GTM",
            "MCO",
            "VNM",
            "GMB",
            "NAM",
            "PRY",
            "BWA",
            "TLS",
            "VUT",
            "BDI",
            "BFA",
            "GRL",
            "FLK",
            "PSE",
            "SDN",
            "BIH",
            "CUW",
            "COG",
            "UZB",
            "DMA",
            "BMU",
            "ERI",
            "TJK",
            "FJI",
            "ZWE",
            "LSO",
            "AZE",
            "VCT",
            "LCA",
            "YEM",
            "SUX",
            "GNB",
            "BHS",
            "MDG",
            "MUS",
            "BEN",
            "FRO",
            "ANT",
            "SYC",
            "CIV",
            "ZMB",
            "KIR",
            "SYR",
            "SHN",
            "HND",
            "PYF",
            "MTQ",
            "HTI",
            "SCG",
            "MNG",
            "SLE",
            "AIA",
            "DOM",
            "KGZ",
            "MRT",
            "COD"
           ],
           "name": "",
           "type": "choropleth",
           "z": [
            23.733398764977707,
            20.043025514553648,
            23.61476166148292,
            23.748381132756126,
            20.789802925832333,
            18.63730158730159,
            23.84497071555894,
            20.460714285714282,
            21.576851680858013,
            21.091991341991342,
            16.82321428571429,
            21.048051495769435,
            13.02466534597444,
            20.360295157577738,
            17.74158382467206,
            21.83333333333334,
            22.94337634722917,
            18.004258343780403,
            20.96527777777778,
            15.9709849790732,
            21.042610820551992,
            17.58174603174603,
            23.12614468864468,
            21.204140272166107,
            18.08914053775076,
            20.954344613719613,
            22.758928571428562,
            17.61390766755318,
            20.26432139645557,
            16.31686507936508,
            26.10696248196248,
            13.27397504456328,
            17.814087301587296,
            18.2488455988456,
            18.591964285714283,
            19.964285714285705,
            16.826101186395295,
            22.005675592635473,
            18.70238095238095,
            22.979817497436485,
            21.89884184443007,
            21.802856135092966,
            23.91094877344877,
            17.0876827520061,
            18.111115618496193,
            19.43333333333333,
            19.54285714285714,
            20.92976190476191,
            19.273939144048192,
            21.133814869341183,
            23.41666666666667,
            20.251785714285717,
            25.99757639448041,
            20.80569685289834,
            21.61561355311354,
            23.202200577200575,
            19.4401136591,
            21.04931457431456,
            22.88986126006956,
            23.7845238095238,
            18.12083333333333,
            20.909827196704498,
            17.796040764790764,
            19.716528887778875,
            19.646031746031746,
            20.563095238095226,
            21.45895057886028,
            18.32903628629434,
            17.76286375661375,
            16.80635563267141,
            24.873481376890165,
            17.56363082521456,
            19.078112354720567,
            21.300793650793636,
            17.081673881673886,
            21.982648100953043,
            16.34286017393675,
            22.927048840341122,
            21.42613029516212,
            23.096891017479244,
            25.83755733986672,
            16.47619047619047,
            19.541476578976575,
            20.359880932681097,
            18.95041849591245,
            25.56944444444443,
            20.059557704309626,
            25.96328116328116,
            19.502251143679164,
            15.630753968253964,
            20.57650726466515,
            21.68571428571429,
            18.45782134532134,
            21.989749062427062,
            17.046643788913656,
            15.684775980660696,
            0,
            0,
            17.60833333333332,
            12.67087400404474,
            18.44252871311694,
            17.458735708735706,
            19.181780719280706,
            15.885710461438306,
            0,
            9.166666666666666,
            16.791620879120877,
            17.54166666666667,
            15.93248973248973,
            26.93184637000425,
            16.96761594383876,
            18.03817253996448,
            15.505860458985454,
            21.9892460563248,
            0,
            16.11758782374496,
            18.105878214922324,
            15.28849206349206,
            19.51350316350316,
            17.8511655011655,
            23.204923548673552,
            33.54429147984257,
            20.08674242424243,
            33.123655642325346,
            15.847258297258296,
            16.116465488684987,
            16.73687978687978,
            0,
            12.613446969696973,
            14.90940170940171,
            0,
            15.64620141772291,
            21.99361471861472,
            16.271428571428572,
            15.86587301587301,
            15.88849206349206,
            0,
            0,
            18.87146464646464,
            19.54954212454212,
            42.05838397615403,
            0,
            0,
            14.06785714285714,
            14.783814102564108,
            12.36666666666667,
            11.858333333333333,
            0,
            0,
            11.29484126984127,
            13.25,
            30.28689876082061,
            19.99081196581196,
            30.181874907302824,
            17.50512820512821,
            14.68949694096752,
            18.581852869352865,
            0,
            14.86153822231407,
            9.783333333333333,
            16.619085628518707,
            14.033333333333335,
            12.46458333333333,
            0,
            37.49880952380953,
            9.468659861810014,
            12.92822177822177,
            12.20410561660562,
            8.850000000000001,
            10.95595238095238,
            13.90595238095238,
            14.77065077994682,
            9.591509498413522,
            26.47690185830428,
            7.310714285714286,
            11.1093253968254
           ]
          }
         ],
         "name": "hm"
        },
        {
         "data": [
          {
           "coloraxis": "coloraxis",
           "customdata": [
            [
             "United States",
             "# citations to single auth papers"
            ],
            [
             "Lithuania",
             "# citations to single auth papers"
            ],
            [
             "Canada",
             "# citations to single auth papers"
            ],
            [
             "Australia",
             "# citations to single auth papers"
            ],
            [
             "Greece",
             "# citations to single auth papers"
            ],
            [
             "Morocco",
             "# citations to single auth papers"
            ],
            [
             "Belgium",
             "# citations to single auth papers"
            ],
            [
             "Russia",
             "# citations to single auth papers"
            ],
            [
             "India",
             "# citations to single auth papers"
            ],
            [
             "Mexico",
             "# citations to single auth papers"
            ],
            [
             "Jordan",
             "# citations to single auth papers"
            ],
            [
             "Luxembourg",
             "# citations to single auth papers"
            ],
            [
             "Tanzania",
             "# citations to single auth papers"
            ],
            [
             "Estonia",
             "# citations to single auth papers"
            ],
            [
             "Bangladesh",
             "# citations to single auth papers"
            ],
            [
             "Pakistan",
             "# citations to single auth papers"
            ],
            [
             "Portugal",
             "# citations to single auth papers"
            ],
            [
             "Kuwait",
             "# citations to single auth papers"
            ],
            [
             "Malaysia",
             "# citations to single auth papers"
            ],
            [
             "Cameroon",
             "# citations to single auth papers"
            ],
            [
             "Brazil",
             "# citations to single auth papers"
            ],
            [
             "Serbia",
             "# citations to single auth papers"
            ],
            [
             "Finland",
             "# citations to single auth papers"
            ],
            [
             "Italy",
             "# citations to single auth papers"
            ],
            [
             "Croatia",
             "# citations to single auth papers"
            ],
            [
             "Slovenia",
             "# citations to single auth papers"
            ],
            [
             "Iran",
             "# citations to single auth papers"
            ],
            [
             "Peru",
             "# citations to single auth papers"
            ],
            [
             "Cyprus",
             "# citations to single auth papers"
            ],
            [
             "Nigeria",
             "# citations to single auth papers"
            ],
            [
             "Georgia",
             "# citations to single auth papers"
            ],
            [
             "Barbados",
             "# citations to single auth papers"
            ],
            [
             "Algeria",
             "# citations to single auth papers"
            ],
            [
             "Trinidad and Tobago",
             "# citations to single auth papers"
            ],
            [
             "Türkiye",
             "# citations to single auth papers"
            ],
            [
             "Chile",
             "# citations to single auth papers"
            ],
            [
             "Belarus",
             "# citations to single auth papers"
            ],
            [
             "Saudi Arabia",
             "# citations to single auth papers"
            ],
            [
             "Oman",
             "# citations to single auth papers"
            ],
            [
             "Spain",
             "# citations to single auth papers"
            ],
            [
             "South Africa",
             "# citations to single auth papers"
            ],
            [
             "Israel",
             "# citations to single auth papers"
            ],
            [
             "Switzerland",
             "# citations to single auth papers"
            ],
            [
             "New Caledonia",
             "# citations to single auth papers"
            ],
            [
             "Kenya",
             "# citations to single auth papers"
            ],
            [
             "United Arab Emirates",
             "# citations to single auth papers"
            ],
            [
             "Thailand",
             "# citations to single auth papers"
            ],
            [
             "Argentina",
             "# citations to single auth papers"
            ],
            [
             "Jamaica",
             "# citations to single auth papers"
            ],
            [
             "France",
             "# citations to single auth papers"
            ],
            [
             "China",
             "# citations to single auth papers"
            ],
            [
             "Cuba",
             "# citations to single auth papers"
            ],
            [
             "Uruguay",
             "# citations to single auth papers"
            ],
            [
             "Iceland",
             "# citations to single auth papers"
            ],
            [
             "New Zealand",
             "# citations to single auth papers"
            ],
            [
             "United Kingdom",
             "# citations to single auth papers"
            ],
            [
             "Bulgaria",
             "# citations to single auth papers"
            ],
            [
             "Czechia",
             "# citations to single auth papers"
            ],
            [
             "Ireland",
             "# citations to single auth papers"
            ],
            [
             "Germany",
             "# citations to single auth papers"
            ],
            [
             "Montenegro",
             "# citations to single auth papers"
            ],
            [
             "Hungary",
             "# citations to single auth papers"
            ],
            [
             "Ukraine",
             "# citations to single auth papers"
            ],
            [
             "Poland",
             "# citations to single auth papers"
            ],
            [
             "Latvia",
             "# citations to single auth papers"
            ],
            [
             "Romania",
             "# citations to single auth papers"
            ],
            [
             "Norway",
             "# citations to single auth papers"
            ],
            [
             "Philippines",
             "# citations to single auth papers"
            ],
            [
             "Venezuela",
             "# citations to single auth papers"
            ],
            [
             "Costa Rica",
             "# citations to single auth papers"
            ],
            [
             "Netherlands",
             "# citations to single auth papers"
            ],
            [
             "Uganda",
             "# citations to single auth papers"
            ],
            [
             "Malawi",
             "# citations to single auth papers"
            ],
            [
             "Macau",
             "# citations to single auth papers"
            ],
            [
             "Armenia",
             "# citations to single auth papers"
            ],
            [
             "Japan",
             "# citations to single auth papers"
            ],
            [
             "Ghana",
             "# citations to single auth papers"
            ],
            [
             "Sweden",
             "# citations to single auth papers"
            ],
            [
             "Taiwan",
             "# citations to single auth papers"
            ],
            [
             "Denmark",
             "# citations to single auth papers"
            ],
            [
             "Puerto Rico",
             "# citations to single auth papers"
            ],
            [
             "Sri Lanka",
             "# citations to single auth papers"
            ],
            [
             "Lebanon",
             "# citations to single auth papers"
            ],
            [
             "Qatar",
             "# citations to single auth papers"
            ],
            [
             "Colombia",
             "# citations to single auth papers"
            ],
            [
             "Singapore",
             "# citations to single auth papers"
            ],
            [
             "Bahrain",
             "# citations to single auth papers"
            ],
            [
             "Hong Kong",
             "# citations to single auth papers"
            ],
            [
             "Slovakia",
             "# citations to single auth papers"
            ],
            [
             "Tunisia",
             "# citations to single auth papers"
            ],
            [
             "Malta",
             "# citations to single auth papers"
            ],
            [
             "South Korea",
             "# citations to single auth papers"
            ],
            [
             "Egypt",
             "# citations to single auth papers"
            ],
            [
             "Austria",
             "# citations to single auth papers"
            ],
            [
             "Senegal",
             "# citations to single auth papers"
            ],
            [
             "Indonesia",
             "# citations to single auth papers"
            ],
            [
             "Guadeloupe",
             "lel"
            ],
            [
             "Guyana",
             "lel"
            ],
            [
             "Kazakhstan",
             "# citations to single auth papers"
            ],
            [
             "Laos",
             "# citations to single auth papers"
            ],
            [
             "St. Kitts and Nevis",
             "# citations to single auth papers"
            ],
            [
             "Iraq",
             "# citations to single auth papers"
            ],
            [
             "Moldova",
             "# citations to single auth papers"
            ],
            [
             "French Guiana",
             "# citations to single auth papers"
            ],
            [
             "Suriname",
             "lel"
            ],
            [
             "Afghanistan",
             "# citations to single auth papers"
            ],
            [
             "Brunei Darussalam",
             "# citations to single auth papers"
            ],
            [
             "Libya",
             "# citations to single auth papers"
            ],
            [
             "Nepal",
             "# citations to single auth papers"
            ],
            [
             "Panama",
             "# citations to single auth papers"
            ],
            [
             "Cambodia",
             "# citations to single auth papers"
            ],
            [
             "North Macedonia",
             "# citations to single auth papers"
            ],
            [
             "Ecuador",
             "# citations to single auth papers"
            ],
            [
             "Mali",
             "# citations to single auth papers"
            ],
            [
             "Cayman Islands",
             "lel"
            ],
            [
             "Ethiopia",
             "# citations to single auth papers"
            ],
            [
             "Liberia",
             "# citations to single auth papers"
            ],
            [
             "Rwanda",
             "# citations to single auth papers"
            ],
            [
             "Grenada",
             "# citations to single auth papers"
            ],
            [
             "Liechtenstein",
             "# citations to single auth papers"
            ],
            [
             "Guatemala",
             "# citations to single auth papers"
            ],
            [
             "Monaco",
             "# citations to single auth papers"
            ],
            [
             "Vietnam",
             "# citations to single auth papers"
            ],
            [
             "Gambia",
             "# citations to single auth papers"
            ],
            [
             "Namibia",
             "# citations to single auth papers"
            ],
            [
             "Paraguay",
             "# citations to single auth papers"
            ],
            [
             "Botswana",
             "# citations to single auth papers"
            ],
            [
             "Timor-Leste",
             "lel"
            ],
            [
             "Vanuatu",
             "# citations to single auth papers"
            ],
            [
             "Burundi",
             "# citations to single auth papers"
            ],
            [
             "Burkina Faso",
             "lel"
            ],
            [
             "Greenland",
             "# citations to single auth papers"
            ],
            [
             "Falkland Islands",
             "# citations to single auth papers"
            ],
            [
             "Palestine",
             "# citations to single auth papers"
            ],
            [
             "Sudan",
             "# citations to single auth papers"
            ],
            [
             "Bosnia and Herzegovina",
             "# citations to single auth papers"
            ],
            [
             "Curacao",
             "lel"
            ],
            [
             "Congo Republic",
             "lel"
            ],
            [
             "Uzbekistan",
             "# citations to single auth papers"
            ],
            [
             "Dominica",
             "# citations to single auth papers"
            ],
            [
             "Bermuda",
             "# citations to single auth papers"
            ],
            [
             "Eritrea",
             "lel"
            ],
            [
             "Tajikistan",
             "lel"
            ],
            [
             "Fiji",
             "# citations to single auth papers"
            ],
            [
             "Zimbabwe",
             "# citations to single auth papers"
            ],
            [
             "Lesotho",
             "# citations to single auth papers"
            ],
            [
             "Azerbaijan",
             "# citations to single auth papers"
            ],
            [
             "St. Vincent and the Grenadines",
             "lel"
            ],
            [
             "St. Lucia",
             "lel"
            ],
            [
             "Yemen",
             "# citations to single auth papers"
            ],
            [
             "Russia",
             "# citations to single auth papers"
            ],
            [
             "Guinea-Bissau",
             "# citations to single auth papers"
            ],
            [
             "Bahamas",
             "# citations to single auth papers"
            ],
            [
             "Madagascar",
             "# citations to single auth papers"
            ],
            [
             "Mauritius",
             "# citations to single auth papers"
            ],
            [
             "Benin",
             "# citations to single auth papers"
            ],
            [
             "Faroe Islands",
             "# citations to single auth papers"
            ],
            [
             "Netherlands",
             "lel"
            ],
            [
             "Seychelles",
             "# citations to single auth papers"
            ],
            [
             "Cote d'Ivoire",
             "# citations to single auth papers"
            ],
            [
             "Zambia",
             "# citations to single auth papers"
            ],
            [
             "Kiribati",
             "# citations to single auth papers"
            ],
            [
             "Syria",
             "# citations to single auth papers"
            ],
            [
             "St. Helena",
             "lel"
            ],
            [
             "Honduras",
             "# citations to single auth papers"
            ],
            [
             "French Polynesia",
             "# citations to single auth papers"
            ],
            [
             "Martinique",
             "# citations to single auth papers"
            ],
            [
             "Haiti",
             "# citations to single auth papers"
            ],
            [
             "Czech Republic",
             "# citations to single auth papers"
            ],
            [
             "Mongolia",
             "# citations to single auth papers"
            ],
            [
             "Sierra Leone",
             "# citations to single auth papers"
            ],
            [
             "Anguilla",
             "# citations to single auth papers"
            ],
            [
             "Dominican Republic",
             "# citations to single auth papers"
            ],
            [
             "Kyrgyz Republic",
             "# citations to single auth papers"
            ],
            [
             "Mauritania",
             "# citations to single auth papers"
            ],
            [
             "DR Congo",
             "# citations to single auth papers"
            ]
           ],
           "geo": "geo",
           "hovertemplate": "metric=ncs<br>code=%{location}<br>country=%{customdata[0]}<br>metric_name=%{customdata[1]}<br>median=%{z}<extra></extra>",
           "locations": [
            "USA",
            "LTU",
            "CAN",
            "AUS",
            "GRC",
            "MAR",
            "BEL",
            "RUS",
            "IND",
            "MEX",
            "JOR",
            "LUX",
            "TZA",
            "EST",
            "BGD",
            "PAK",
            "PRT",
            "KWT",
            "MYS",
            "CMR",
            "BRA",
            "SRB",
            "FIN",
            "ITA",
            "HRV",
            "SVN",
            "IRN",
            "PER",
            "CYP",
            "NGA",
            "GEO",
            "BRB",
            "DZA",
            "TTO",
            "TUR",
            "CHL",
            "BLR",
            "SAU",
            "OMN",
            "ESP",
            "ZAF",
            "ISR",
            "CHE",
            "NCL",
            "KEN",
            "ARE",
            "THA",
            "ARG",
            "JAM",
            "FRA",
            "CHN",
            "CUB",
            "URY",
            "ISL",
            "NZL",
            "GBR",
            "BGR",
            "CZE",
            "IRL",
            "DEU",
            "MNE",
            "HUN",
            "UKR",
            "POL",
            "LVA",
            "ROU",
            "NOR",
            "PHL",
            "VEN",
            "CRI",
            "NLD",
            "UGA",
            "MWI",
            "MAC",
            "ARM",
            "JPN",
            "GHA",
            "SWE",
            "TWN",
            "DNK",
            "PRI",
            "LKA",
            "LBN",
            "QAT",
            "COL",
            "SGP",
            "BHR",
            "HKG",
            "SVK",
            "TUN",
            "MLT",
            "KOR",
            "EGY",
            "AUT",
            "SEN",
            "IDN",
            "GLP",
            "GUY",
            "KAZ",
            "LAO",
            "KNA",
            "IRQ",
            "MDA",
            "GUF",
            "SUR",
            "AFG",
            "BRN",
            "LBY",
            "NPL",
            "PAN",
            "KHM",
            "MKD",
            "ECU",
            "MLI",
            "CYM",
            "ETH",
            "LBR",
            "RWA",
            "GRD",
            "LIE",
            "GTM",
            "MCO",
            "VNM",
            "GMB",
            "NAM",
            "PRY",
            "BWA",
            "TLS",
            "VUT",
            "BDI",
            "BFA",
            "GRL",
            "FLK",
            "PSE",
            "SDN",
            "BIH",
            "CUW",
            "COG",
            "UZB",
            "DMA",
            "BMU",
            "ERI",
            "TJK",
            "FJI",
            "ZWE",
            "LSO",
            "AZE",
            "VCT",
            "LCA",
            "YEM",
            "SUX",
            "GNB",
            "BHS",
            "MDG",
            "MUS",
            "BEN",
            "FRO",
            "ANT",
            "SYC",
            "CIV",
            "ZMB",
            "KIR",
            "SYR",
            "SHN",
            "HND",
            "PYF",
            "MTQ",
            "HTI",
            "SCG",
            "MNG",
            "SLE",
            "AIA",
            "DOM",
            "KGZ",
            "MRT",
            "COD"
           ],
           "name": "",
           "type": "choropleth",
           "z": [
            544,
            237.5,
            451,
            454.5,
            270.5,
            93,
            240,
            478.5,
            229,
            330.75,
            373.75,
            290.25,
            331,
            406.5,
            115,
            148,
            243,
            464.5,
            130.75,
            151,
            266,
            271,
            323.5,
            221,
            362,
            328.5,
            190.5,
            318.5,
            506.5,
            358,
            497,
            251,
            236,
            236,
            348.75,
            356.5,
            483.5,
            358.5,
            347,
            227,
            476,
            503.75,
            407,
            175,
            335,
            316,
            192,
            337,
            664.5,
            327.25,
            94,
            552.75,
            531,
            567,
            478,
            591,
            426.25,
            437,
            386,
            401,
            164,
            602,
            419,
            376.75,
            465.5,
            429.25,
            424,
            250,
            383.75,
            386,
            333,
            103.25,
            325.5,
            280.5,
            327.25,
            239,
            270,
            404,
            245,
            405,
            314,
            299,
            341.25,
            225.25,
            399.25,
            230,
            847,
            291,
            488.5,
            170.5,
            524.5,
            139,
            403,
            383.5,
            775.5,
            209.75,
            0,
            0,
            303,
            52,
            161,
            342.5,
            1119.5,
            195,
            0,
            301,
            228,
            645,
            235,
            1179,
            125,
            551.5,
            329.5,
            38,
            0,
            291,
            80.5,
            154,
            371,
            143,
            929.25,
            286.75,
            309.5,
            971,
            340.5,
            75.75,
            615,
            0,
            135,
            287,
            0,
            40,
            522,
            200,
            133,
            434,
            0,
            0,
            768,
            591,
            672.75,
            0,
            0,
            132,
            267.75,
            438,
            325,
            0,
            0,
            265,
            2041,
            162,
            48,
            1742,
            213,
            45,
            99.5,
            0,
            39,
            522,
            272.75,
            675.5,
            112.25,
            0,
            2235,
            108,
            6,
            160,
            54,
            2,
            778,
            319,
            88,
            416,
            55,
            177
           ]
          }
         ],
         "name": "ncs"
        },
        {
         "data": [
          {
           "coloraxis": "coloraxis",
           "customdata": [
            [
             "United States",
             "# citations to single/first auth papers"
            ],
            [
             "Lithuania",
             "# citations to single/first auth papers"
            ],
            [
             "Canada",
             "# citations to single/first auth papers"
            ],
            [
             "Australia",
             "# citations to single/first auth papers"
            ],
            [
             "Greece",
             "# citations to single/first auth papers"
            ],
            [
             "Morocco",
             "# citations to single/first auth papers"
            ],
            [
             "Belgium",
             "# citations to single/first auth papers"
            ],
            [
             "Russia",
             "# citations to single/first auth papers"
            ],
            [
             "India",
             "# citations to single/first auth papers"
            ],
            [
             "Mexico",
             "# citations to single/first auth papers"
            ],
            [
             "Jordan",
             "# citations to single/first auth papers"
            ],
            [
             "Luxembourg",
             "# citations to single/first auth papers"
            ],
            [
             "Tanzania",
             "# citations to single/first auth papers"
            ],
            [
             "Estonia",
             "# citations to single/first auth papers"
            ],
            [
             "Bangladesh",
             "# citations to single/first auth papers"
            ],
            [
             "Pakistan",
             "# citations to single/first auth papers"
            ],
            [
             "Portugal",
             "# citations to single/first auth papers"
            ],
            [
             "Kuwait",
             "# citations to single/first auth papers"
            ],
            [
             "Malaysia",
             "# citations to single/first auth papers"
            ],
            [
             "Cameroon",
             "# citations to single/first auth papers"
            ],
            [
             "Brazil",
             "# citations to single/first auth papers"
            ],
            [
             "Serbia",
             "# citations to single/first auth papers"
            ],
            [
             "Finland",
             "# citations to single/first auth papers"
            ],
            [
             "Italy",
             "# citations to single/first auth papers"
            ],
            [
             "Croatia",
             "# citations to single/first auth papers"
            ],
            [
             "Slovenia",
             "# citations to single/first auth papers"
            ],
            [
             "Iran",
             "# citations to single/first auth papers"
            ],
            [
             "Peru",
             "# citations to single/first auth papers"
            ],
            [
             "Cyprus",
             "# citations to single/first auth papers"
            ],
            [
             "Nigeria",
             "# citations to single/first auth papers"
            ],
            [
             "Georgia",
             "# citations to single/first auth papers"
            ],
            [
             "Barbados",
             "# citations to single/first auth papers"
            ],
            [
             "Algeria",
             "# citations to single/first auth papers"
            ],
            [
             "Trinidad and Tobago",
             "# citations to single/first auth papers"
            ],
            [
             "Türkiye",
             "# citations to single/first auth papers"
            ],
            [
             "Chile",
             "# citations to single/first auth papers"
            ],
            [
             "Belarus",
             "# citations to single/first auth papers"
            ],
            [
             "Saudi Arabia",
             "# citations to single/first auth papers"
            ],
            [
             "Oman",
             "# citations to single/first auth papers"
            ],
            [
             "Spain",
             "# citations to single/first auth papers"
            ],
            [
             "South Africa",
             "# citations to single/first auth papers"
            ],
            [
             "Israel",
             "# citations to single/first auth papers"
            ],
            [
             "Switzerland",
             "# citations to single/first auth papers"
            ],
            [
             "New Caledonia",
             "# citations to single/first auth papers"
            ],
            [
             "Kenya",
             "# citations to single/first auth papers"
            ],
            [
             "United Arab Emirates",
             "# citations to single/first auth papers"
            ],
            [
             "Thailand",
             "# citations to single/first auth papers"
            ],
            [
             "Argentina",
             "# citations to single/first auth papers"
            ],
            [
             "Jamaica",
             "# citations to single/first auth papers"
            ],
            [
             "France",
             "# citations to single/first auth papers"
            ],
            [
             "China",
             "# citations to single/first auth papers"
            ],
            [
             "Cuba",
             "# citations to single/first auth papers"
            ],
            [
             "Uruguay",
             "# citations to single/first auth papers"
            ],
            [
             "Iceland",
             "# citations to single/first auth papers"
            ],
            [
             "New Zealand",
             "# citations to single/first auth papers"
            ],
            [
             "United Kingdom",
             "# citations to single/first auth papers"
            ],
            [
             "Bulgaria",
             "# citations to single/first auth papers"
            ],
            [
             "Czechia",
             "# citations to single/first auth papers"
            ],
            [
             "Ireland",
             "# citations to single/first auth papers"
            ],
            [
             "Germany",
             "# citations to single/first auth papers"
            ],
            [
             "Montenegro",
             "# citations to single/first auth papers"
            ],
            [
             "Hungary",
             "# citations to single/first auth papers"
            ],
            [
             "Ukraine",
             "# citations to single/first auth papers"
            ],
            [
             "Poland",
             "# citations to single/first auth papers"
            ],
            [
             "Latvia",
             "# citations to single/first auth papers"
            ],
            [
             "Romania",
             "# citations to single/first auth papers"
            ],
            [
             "Norway",
             "# citations to single/first auth papers"
            ],
            [
             "Philippines",
             "# citations to single/first auth papers"
            ],
            [
             "Venezuela",
             "# citations to single/first auth papers"
            ],
            [
             "Costa Rica",
             "# citations to single/first auth papers"
            ],
            [
             "Netherlands",
             "# citations to single/first auth papers"
            ],
            [
             "Uganda",
             "# citations to single/first auth papers"
            ],
            [
             "Malawi",
             "# citations to single/first auth papers"
            ],
            [
             "Macau",
             "# citations to single/first auth papers"
            ],
            [
             "Armenia",
             "# citations to single/first auth papers"
            ],
            [
             "Japan",
             "# citations to single/first auth papers"
            ],
            [
             "Ghana",
             "# citations to single/first auth papers"
            ],
            [
             "Sweden",
             "# citations to single/first auth papers"
            ],
            [
             "Taiwan",
             "# citations to single/first auth papers"
            ],
            [
             "Denmark",
             "# citations to single/first auth papers"
            ],
            [
             "Puerto Rico",
             "# citations to single/first auth papers"
            ],
            [
             "Sri Lanka",
             "# citations to single/first auth papers"
            ],
            [
             "Lebanon",
             "# citations to single/first auth papers"
            ],
            [
             "Qatar",
             "# citations to single/first auth papers"
            ],
            [
             "Colombia",
             "# citations to single/first auth papers"
            ],
            [
             "Singapore",
             "# citations to single/first auth papers"
            ],
            [
             "Bahrain",
             "# citations to single/first auth papers"
            ],
            [
             "Hong Kong",
             "# citations to single/first auth papers"
            ],
            [
             "Slovakia",
             "# citations to single/first auth papers"
            ],
            [
             "Tunisia",
             "# citations to single/first auth papers"
            ],
            [
             "Malta",
             "# citations to single/first auth papers"
            ],
            [
             "South Korea",
             "# citations to single/first auth papers"
            ],
            [
             "Egypt",
             "# citations to single/first auth papers"
            ],
            [
             "Austria",
             "# citations to single/first auth papers"
            ],
            [
             "Senegal",
             "# citations to single/first auth papers"
            ],
            [
             "Indonesia",
             "# citations to single/first auth papers"
            ],
            [
             "Guadeloupe",
             "lel"
            ],
            [
             "Guyana",
             "lel"
            ],
            [
             "Kazakhstan",
             "# citations to single/first auth papers"
            ],
            [
             "Laos",
             "# citations to single/first auth papers"
            ],
            [
             "St. Kitts and Nevis",
             "# citations to single/first auth papers"
            ],
            [
             "Iraq",
             "# citations to single/first auth papers"
            ],
            [
             "Moldova",
             "# citations to single/first auth papers"
            ],
            [
             "French Guiana",
             "# citations to single/first auth papers"
            ],
            [
             "Suriname",
             "lel"
            ],
            [
             "Afghanistan",
             "# citations to single/first auth papers"
            ],
            [
             "Brunei Darussalam",
             "# citations to single/first auth papers"
            ],
            [
             "Libya",
             "# citations to single/first auth papers"
            ],
            [
             "Nepal",
             "# citations to single/first auth papers"
            ],
            [
             "Panama",
             "# citations to single/first auth papers"
            ],
            [
             "Cambodia",
             "# citations to single/first auth papers"
            ],
            [
             "North Macedonia",
             "# citations to single/first auth papers"
            ],
            [
             "Ecuador",
             "# citations to single/first auth papers"
            ],
            [
             "Mali",
             "# citations to single/first auth papers"
            ],
            [
             "Cayman Islands",
             "lel"
            ],
            [
             "Ethiopia",
             "# citations to single/first auth papers"
            ],
            [
             "Liberia",
             "# citations to single/first auth papers"
            ],
            [
             "Rwanda",
             "# citations to single/first auth papers"
            ],
            [
             "Grenada",
             "# citations to single/first auth papers"
            ],
            [
             "Liechtenstein",
             "# citations to single/first auth papers"
            ],
            [
             "Guatemala",
             "# citations to single/first auth papers"
            ],
            [
             "Monaco",
             "# citations to single/first auth papers"
            ],
            [
             "Vietnam",
             "# citations to single/first auth papers"
            ],
            [
             "Gambia",
             "# citations to single/first auth papers"
            ],
            [
             "Namibia",
             "# citations to single/first auth papers"
            ],
            [
             "Paraguay",
             "# citations to single/first auth papers"
            ],
            [
             "Botswana",
             "# citations to single/first auth papers"
            ],
            [
             "Timor-Leste",
             "lel"
            ],
            [
             "Vanuatu",
             "# citations to single/first auth papers"
            ],
            [
             "Burundi",
             "# citations to single/first auth papers"
            ],
            [
             "Burkina Faso",
             "lel"
            ],
            [
             "Greenland",
             "# citations to single/first auth papers"
            ],
            [
             "Falkland Islands",
             "# citations to single/first auth papers"
            ],
            [
             "Palestine",
             "# citations to single/first auth papers"
            ],
            [
             "Sudan",
             "# citations to single/first auth papers"
            ],
            [
             "Bosnia and Herzegovina",
             "# citations to single/first auth papers"
            ],
            [
             "Curacao",
             "lel"
            ],
            [
             "Congo Republic",
             "lel"
            ],
            [
             "Uzbekistan",
             "# citations to single/first auth papers"
            ],
            [
             "Dominica",
             "# citations to single/first auth papers"
            ],
            [
             "Bermuda",
             "# citations to single/first auth papers"
            ],
            [
             "Eritrea",
             "lel"
            ],
            [
             "Tajikistan",
             "lel"
            ],
            [
             "Fiji",
             "# citations to single/first auth papers"
            ],
            [
             "Zimbabwe",
             "# citations to single/first auth papers"
            ],
            [
             "Lesotho",
             "# citations to single/first auth papers"
            ],
            [
             "Azerbaijan",
             "# citations to single/first auth papers"
            ],
            [
             "St. Vincent and the Grenadines",
             "lel"
            ],
            [
             "St. Lucia",
             "lel"
            ],
            [
             "Yemen",
             "# citations to single/first auth papers"
            ],
            [
             "Russia",
             "# citations to single/first auth papers"
            ],
            [
             "Guinea-Bissau",
             "# citations to single/first auth papers"
            ],
            [
             "Bahamas",
             "# citations to single/first auth papers"
            ],
            [
             "Madagascar",
             "# citations to single/first auth papers"
            ],
            [
             "Mauritius",
             "# citations to single/first auth papers"
            ],
            [
             "Benin",
             "# citations to single/first auth papers"
            ],
            [
             "Faroe Islands",
             "# citations to single/first auth papers"
            ],
            [
             "Netherlands",
             "lel"
            ],
            [
             "Seychelles",
             "# citations to single/first auth papers"
            ],
            [
             "Cote d'Ivoire",
             "# citations to single/first auth papers"
            ],
            [
             "Zambia",
             "# citations to single/first auth papers"
            ],
            [
             "Kiribati",
             "# citations to single/first auth papers"
            ],
            [
             "Syria",
             "# citations to single/first auth papers"
            ],
            [
             "St. Helena",
             "lel"
            ],
            [
             "Honduras",
             "# citations to single/first auth papers"
            ],
            [
             "French Polynesia",
             "# citations to single/first auth papers"
            ],
            [
             "Martinique",
             "# citations to single/first auth papers"
            ],
            [
             "Haiti",
             "# citations to single/first auth papers"
            ],
            [
             "Czech Republic",
             "# citations to single/first auth papers"
            ],
            [
             "Mongolia",
             "# citations to single/first auth papers"
            ],
            [
             "Sierra Leone",
             "# citations to single/first auth papers"
            ],
            [
             "Anguilla",
             "# citations to single/first auth papers"
            ],
            [
             "Dominican Republic",
             "# citations to single/first auth papers"
            ],
            [
             "Kyrgyz Republic",
             "# citations to single/first auth papers"
            ],
            [
             "Mauritania",
             "# citations to single/first auth papers"
            ],
            [
             "DR Congo",
             "# citations to single/first auth papers"
            ]
           ],
           "geo": "geo",
           "hovertemplate": "metric=ncsf<br>code=%{location}<br>country=%{customdata[0]}<br>metric_name=%{customdata[1]}<br>median=%{z}<extra></extra>",
           "locations": [
            "USA",
            "LTU",
            "CAN",
            "AUS",
            "GRC",
            "MAR",
            "BEL",
            "RUS",
            "IND",
            "MEX",
            "JOR",
            "LUX",
            "TZA",
            "EST",
            "BGD",
            "PAK",
            "PRT",
            "KWT",
            "MYS",
            "CMR",
            "BRA",
            "SRB",
            "FIN",
            "ITA",
            "HRV",
            "SVN",
            "IRN",
            "PER",
            "CYP",
            "NGA",
            "GEO",
            "BRB",
            "DZA",
            "TTO",
            "TUR",
            "CHL",
            "BLR",
            "SAU",
            "OMN",
            "ESP",
            "ZAF",
            "ISR",
            "CHE",
            "NCL",
            "KEN",
            "ARE",
            "THA",
            "ARG",
            "JAM",
            "FRA",
            "CHN",
            "CUB",
            "URY",
            "ISL",
            "NZL",
            "GBR",
            "BGR",
            "CZE",
            "IRL",
            "DEU",
            "MNE",
            "HUN",
            "UKR",
            "POL",
            "LVA",
            "ROU",
            "NOR",
            "PHL",
            "VEN",
            "CRI",
            "NLD",
            "UGA",
            "MWI",
            "MAC",
            "ARM",
            "JPN",
            "GHA",
            "SWE",
            "TWN",
            "DNK",
            "PRI",
            "LKA",
            "LBN",
            "QAT",
            "COL",
            "SGP",
            "BHR",
            "HKG",
            "SVK",
            "TUN",
            "MLT",
            "KOR",
            "EGY",
            "AUT",
            "SEN",
            "IDN",
            "GLP",
            "GUY",
            "KAZ",
            "LAO",
            "KNA",
            "IRQ",
            "MDA",
            "GUF",
            "SUR",
            "AFG",
            "BRN",
            "LBY",
            "NPL",
            "PAN",
            "KHM",
            "MKD",
            "ECU",
            "MLI",
            "CYM",
            "ETH",
            "LBR",
            "RWA",
            "GRD",
            "LIE",
            "GTM",
            "MCO",
            "VNM",
            "GMB",
            "NAM",
            "PRY",
            "BWA",
            "TLS",
            "VUT",
            "BDI",
            "BFA",
            "GRL",
            "FLK",
            "PSE",
            "SDN",
            "BIH",
            "CUW",
            "COG",
            "UZB",
            "DMA",
            "BMU",
            "ERI",
            "TJK",
            "FJI",
            "ZWE",
            "LSO",
            "AZE",
            "VCT",
            "LCA",
            "YEM",
            "SUX",
            "GNB",
            "BHS",
            "MDG",
            "MUS",
            "BEN",
            "FRO",
            "ANT",
            "SYC",
            "CIV",
            "ZMB",
            "KIR",
            "SYR",
            "SHN",
            "HND",
            "PYF",
            "MTQ",
            "HTI",
            "SCG",
            "MNG",
            "SLE",
            "AIA",
            "DOM",
            "KGZ",
            "MRT",
            "COD"
           ],
           "name": "",
           "type": "choropleth",
           "z": [
            2569,
            1862.5,
            2254,
            2189.5,
            1793.5,
            1889,
            2036,
            2096,
            1725.5,
            2070.25,
            1462,
            2278.75,
            1604,
            1733.5,
            2154,
            2219,
            1664.5,
            1986.25,
            1492.25,
            905,
            1627,
            1398,
            1855.75,
            2364,
            1529,
            1554.75,
            2024.75,
            1803.5,
            2062.5,
            1451,
            3716.5,
            896,
            1884.25,
            1568,
            1635.5,
            2020.5,
            1467,
            1842.75,
            1687,
            2234.75,
            1873,
            2260,
            2354,
            1447,
            1488,
            1865,
            1581,
            1649,
            2213,
            2060,
            2159,
            3044,
            3322,
            2140.5,
            2103,
            2275,
            2091,
            2015,
            1797,
            2124,
            1226.75,
            2109.75,
            1581.75,
            1657,
            1809.5,
            1672.5,
            1843,
            1883,
            1621.75,
            1096,
            1996.5,
            989,
            1183.75,
            1795,
            9687.5,
            1919,
            1583,
            1936.75,
            1868,
            2057.5,
            2652,
            1312,
            1950.75,
            1823.25,
            1607.25,
            2074,
            1966,
            2261.5,
            2048.5,
            1044.5,
            1877,
            1690,
            1723,
            2044,
            1735,
            1576.75,
            0,
            0,
            1154,
            298,
            1195,
            1096.5,
            6057.5,
            1572,
            0,
            513,
            1634.75,
            1033,
            1532,
            1981,
            1475.75,
            1520.75,
            1843.75,
            312,
            0,
            1154,
            1966.5,
            1208,
            1671,
            2816,
            2129.25,
            2519.5,
            1661.25,
            4188.5,
            2272.5,
            1534.5,
            1444,
            0,
            794.25,
            830,
            0,
            449,
            1923,
            1307.5,
            633,
            987,
            0,
            0,
            2810,
            1449,
            2851,
            0,
            0,
            1399,
            763.25,
            591,
            346.75,
            0,
            0,
            636,
            2280.5,
            4307,
            404,
            2512.5,
            805,
            421,
            338,
            0,
            654,
            1316,
            1039.75,
            919,
            1010.25,
            0,
            3534,
            2446,
            906,
            481,
            281,
            2715,
            829,
            1094,
            2391,
            2947,
            1880,
            703.25
           ]
          }
         ],
         "name": "ncsf"
        },
        {
         "data": [
          {
           "coloraxis": "coloraxis",
           "customdata": [
            [
             "United States",
             "# citations to single/first/last auth papers"
            ],
            [
             "Lithuania",
             "# citations to single/first/last auth papers"
            ],
            [
             "Canada",
             "# citations to single/first/last auth papers"
            ],
            [
             "Australia",
             "# citations to single/first/last auth papers"
            ],
            [
             "Greece",
             "# citations to single/first/last auth papers"
            ],
            [
             "Morocco",
             "# citations to single/first/last auth papers"
            ],
            [
             "Belgium",
             "# citations to single/first/last auth papers"
            ],
            [
             "Russia",
             "# citations to single/first/last auth papers"
            ],
            [
             "India",
             "# citations to single/first/last auth papers"
            ],
            [
             "Mexico",
             "# citations to single/first/last auth papers"
            ],
            [
             "Jordan",
             "# citations to single/first/last auth papers"
            ],
            [
             "Luxembourg",
             "# citations to single/first/last auth papers"
            ],
            [
             "Tanzania",
             "# citations to single/first/last auth papers"
            ],
            [
             "Estonia",
             "# citations to single/first/last auth papers"
            ],
            [
             "Bangladesh",
             "# citations to single/first/last auth papers"
            ],
            [
             "Pakistan",
             "# citations to single/first/last auth papers"
            ],
            [
             "Portugal",
             "# citations to single/first/last auth papers"
            ],
            [
             "Kuwait",
             "# citations to single/first/last auth papers"
            ],
            [
             "Malaysia",
             "# citations to single/first/last auth papers"
            ],
            [
             "Cameroon",
             "# citations to single/first/last auth papers"
            ],
            [
             "Brazil",
             "# citations to single/first/last auth papers"
            ],
            [
             "Serbia",
             "# citations to single/first/last auth papers"
            ],
            [
             "Finland",
             "# citations to single/first/last auth papers"
            ],
            [
             "Italy",
             "# citations to single/first/last auth papers"
            ],
            [
             "Croatia",
             "# citations to single/first/last auth papers"
            ],
            [
             "Slovenia",
             "# citations to single/first/last auth papers"
            ],
            [
             "Iran",
             "# citations to single/first/last auth papers"
            ],
            [
             "Peru",
             "# citations to single/first/last auth papers"
            ],
            [
             "Cyprus",
             "# citations to single/first/last auth papers"
            ],
            [
             "Nigeria",
             "# citations to single/first/last auth papers"
            ],
            [
             "Georgia",
             "# citations to single/first/last auth papers"
            ],
            [
             "Barbados",
             "# citations to single/first/last auth papers"
            ],
            [
             "Algeria",
             "# citations to single/first/last auth papers"
            ],
            [
             "Trinidad and Tobago",
             "# citations to single/first/last auth papers"
            ],
            [
             "Türkiye",
             "# citations to single/first/last auth papers"
            ],
            [
             "Chile",
             "# citations to single/first/last auth papers"
            ],
            [
             "Belarus",
             "# citations to single/first/last auth papers"
            ],
            [
             "Saudi Arabia",
             "# citations to single/first/last auth papers"
            ],
            [
             "Oman",
             "# citations to single/first/last auth papers"
            ],
            [
             "Spain",
             "# citations to single/first/last auth papers"
            ],
            [
             "South Africa",
             "# citations to single/first/last auth papers"
            ],
            [
             "Israel",
             "# citations to single/first/last auth papers"
            ],
            [
             "Switzerland",
             "# citations to single/first/last auth papers"
            ],
            [
             "New Caledonia",
             "# citations to single/first/last auth papers"
            ],
            [
             "Kenya",
             "# citations to single/first/last auth papers"
            ],
            [
             "United Arab Emirates",
             "# citations to single/first/last auth papers"
            ],
            [
             "Thailand",
             "# citations to single/first/last auth papers"
            ],
            [
             "Argentina",
             "# citations to single/first/last auth papers"
            ],
            [
             "Jamaica",
             "# citations to single/first/last auth papers"
            ],
            [
             "France",
             "# citations to single/first/last auth papers"
            ],
            [
             "China",
             "# citations to single/first/last auth papers"
            ],
            [
             "Cuba",
             "# citations to single/first/last auth papers"
            ],
            [
             "Uruguay",
             "# citations to single/first/last auth papers"
            ],
            [
             "Iceland",
             "# citations to single/first/last auth papers"
            ],
            [
             "New Zealand",
             "# citations to single/first/last auth papers"
            ],
            [
             "United Kingdom",
             "# citations to single/first/last auth papers"
            ],
            [
             "Bulgaria",
             "# citations to single/first/last auth papers"
            ],
            [
             "Czechia",
             "# citations to single/first/last auth papers"
            ],
            [
             "Ireland",
             "# citations to single/first/last auth papers"
            ],
            [
             "Germany",
             "# citations to single/first/last auth papers"
            ],
            [
             "Montenegro",
             "# citations to single/first/last auth papers"
            ],
            [
             "Hungary",
             "# citations to single/first/last auth papers"
            ],
            [
             "Ukraine",
             "# citations to single/first/last auth papers"
            ],
            [
             "Poland",
             "# citations to single/first/last auth papers"
            ],
            [
             "Latvia",
             "# citations to single/first/last auth papers"
            ],
            [
             "Romania",
             "# citations to single/first/last auth papers"
            ],
            [
             "Norway",
             "# citations to single/first/last auth papers"
            ],
            [
             "Philippines",
             "# citations to single/first/last auth papers"
            ],
            [
             "Venezuela",
             "# citations to single/first/last auth papers"
            ],
            [
             "Costa Rica",
             "# citations to single/first/last auth papers"
            ],
            [
             "Netherlands",
             "# citations to single/first/last auth papers"
            ],
            [
             "Uganda",
             "# citations to single/first/last auth papers"
            ],
            [
             "Malawi",
             "# citations to single/first/last auth papers"
            ],
            [
             "Macau",
             "# citations to single/first/last auth papers"
            ],
            [
             "Armenia",
             "# citations to single/first/last auth papers"
            ],
            [
             "Japan",
             "# citations to single/first/last auth papers"
            ],
            [
             "Ghana",
             "# citations to single/first/last auth papers"
            ],
            [
             "Sweden",
             "# citations to single/first/last auth papers"
            ],
            [
             "Taiwan",
             "# citations to single/first/last auth papers"
            ],
            [
             "Denmark",
             "# citations to single/first/last auth papers"
            ],
            [
             "Puerto Rico",
             "# citations to single/first/last auth papers"
            ],
            [
             "Sri Lanka",
             "# citations to single/first/last auth papers"
            ],
            [
             "Lebanon",
             "# citations to single/first/last auth papers"
            ],
            [
             "Qatar",
             "# citations to single/first/last auth papers"
            ],
            [
             "Colombia",
             "# citations to single/first/last auth papers"
            ],
            [
             "Singapore",
             "# citations to single/first/last auth papers"
            ],
            [
             "Bahrain",
             "# citations to single/first/last auth papers"
            ],
            [
             "Hong Kong",
             "# citations to single/first/last auth papers"
            ],
            [
             "Slovakia",
             "# citations to single/first/last auth papers"
            ],
            [
             "Tunisia",
             "# citations to single/first/last auth papers"
            ],
            [
             "Malta",
             "# citations to single/first/last auth papers"
            ],
            [
             "South Korea",
             "# citations to single/first/last auth papers"
            ],
            [
             "Egypt",
             "# citations to single/first/last auth papers"
            ],
            [
             "Austria",
             "# citations to single/first/last auth papers"
            ],
            [
             "Senegal",
             "# citations to single/first/last auth papers"
            ],
            [
             "Indonesia",
             "# citations to single/first/last auth papers"
            ],
            [
             "Guadeloupe",
             "lel"
            ],
            [
             "Guyana",
             "lel"
            ],
            [
             "Kazakhstan",
             "# citations to single/first/last auth papers"
            ],
            [
             "Laos",
             "# citations to single/first/last auth papers"
            ],
            [
             "St. Kitts and Nevis",
             "# citations to single/first/last auth papers"
            ],
            [
             "Iraq",
             "# citations to single/first/last auth papers"
            ],
            [
             "Moldova",
             "# citations to single/first/last auth papers"
            ],
            [
             "French Guiana",
             "# citations to single/first/last auth papers"
            ],
            [
             "Suriname",
             "lel"
            ],
            [
             "Afghanistan",
             "# citations to single/first/last auth papers"
            ],
            [
             "Brunei Darussalam",
             "# citations to single/first/last auth papers"
            ],
            [
             "Libya",
             "# citations to single/first/last auth papers"
            ],
            [
             "Nepal",
             "# citations to single/first/last auth papers"
            ],
            [
             "Panama",
             "# citations to single/first/last auth papers"
            ],
            [
             "Cambodia",
             "# citations to single/first/last auth papers"
            ],
            [
             "North Macedonia",
             "# citations to single/first/last auth papers"
            ],
            [
             "Ecuador",
             "# citations to single/first/last auth papers"
            ],
            [
             "Mali",
             "# citations to single/first/last auth papers"
            ],
            [
             "Cayman Islands",
             "lel"
            ],
            [
             "Ethiopia",
             "# citations to single/first/last auth papers"
            ],
            [
             "Liberia",
             "# citations to single/first/last auth papers"
            ],
            [
             "Rwanda",
             "# citations to single/first/last auth papers"
            ],
            [
             "Grenada",
             "# citations to single/first/last auth papers"
            ],
            [
             "Liechtenstein",
             "# citations to single/first/last auth papers"
            ],
            [
             "Guatemala",
             "# citations to single/first/last auth papers"
            ],
            [
             "Monaco",
             "# citations to single/first/last auth papers"
            ],
            [
             "Vietnam",
             "# citations to single/first/last auth papers"
            ],
            [
             "Gambia",
             "# citations to single/first/last auth papers"
            ],
            [
             "Namibia",
             "# citations to single/first/last auth papers"
            ],
            [
             "Paraguay",
             "# citations to single/first/last auth papers"
            ],
            [
             "Botswana",
             "# citations to single/first/last auth papers"
            ],
            [
             "Timor-Leste",
             "lel"
            ],
            [
             "Vanuatu",
             "# citations to single/first/last auth papers"
            ],
            [
             "Burundi",
             "# citations to single/first/last auth papers"
            ],
            [
             "Burkina Faso",
             "lel"
            ],
            [
             "Greenland",
             "# citations to single/first/last auth papers"
            ],
            [
             "Falkland Islands",
             "# citations to single/first/last auth papers"
            ],
            [
             "Palestine",
             "# citations to single/first/last auth papers"
            ],
            [
             "Sudan",
             "# citations to single/first/last auth papers"
            ],
            [
             "Bosnia and Herzegovina",
             "# citations to single/first/last auth papers"
            ],
            [
             "Curacao",
             "lel"
            ],
            [
             "Congo Republic",
             "lel"
            ],
            [
             "Uzbekistan",
             "# citations to single/first/last auth papers"
            ],
            [
             "Dominica",
             "# citations to single/first/last auth papers"
            ],
            [
             "Bermuda",
             "# citations to single/first/last auth papers"
            ],
            [
             "Eritrea",
             "lel"
            ],
            [
             "Tajikistan",
             "lel"
            ],
            [
             "Fiji",
             "# citations to single/first/last auth papers"
            ],
            [
             "Zimbabwe",
             "# citations to single/first/last auth papers"
            ],
            [
             "Lesotho",
             "# citations to single/first/last auth papers"
            ],
            [
             "Azerbaijan",
             "# citations to single/first/last auth papers"
            ],
            [
             "St. Vincent and the Grenadines",
             "lel"
            ],
            [
             "St. Lucia",
             "lel"
            ],
            [
             "Yemen",
             "# citations to single/first/last auth papers"
            ],
            [
             "Russia",
             "# citations to single/first/last auth papers"
            ],
            [
             "Guinea-Bissau",
             "# citations to single/first/last auth papers"
            ],
            [
             "Bahamas",
             "# citations to single/first/last auth papers"
            ],
            [
             "Madagascar",
             "# citations to single/first/last auth papers"
            ],
            [
             "Mauritius",
             "# citations to single/first/last auth papers"
            ],
            [
             "Benin",
             "# citations to single/first/last auth papers"
            ],
            [
             "Faroe Islands",
             "# citations to single/first/last auth papers"
            ],
            [
             "Netherlands",
             "lel"
            ],
            [
             "Seychelles",
             "# citations to single/first/last auth papers"
            ],
            [
             "Cote d'Ivoire",
             "# citations to single/first/last auth papers"
            ],
            [
             "Zambia",
             "# citations to single/first/last auth papers"
            ],
            [
             "Kiribati",
             "# citations to single/first/last auth papers"
            ],
            [
             "Syria",
             "# citations to single/first/last auth papers"
            ],
            [
             "St. Helena",
             "lel"
            ],
            [
             "Honduras",
             "# citations to single/first/last auth papers"
            ],
            [
             "French Polynesia",
             "# citations to single/first/last auth papers"
            ],
            [
             "Martinique",
             "# citations to single/first/last auth papers"
            ],
            [
             "Haiti",
             "# citations to single/first/last auth papers"
            ],
            [
             "Czech Republic",
             "# citations to single/first/last auth papers"
            ],
            [
             "Mongolia",
             "# citations to single/first/last auth papers"
            ],
            [
             "Sierra Leone",
             "# citations to single/first/last auth papers"
            ],
            [
             "Anguilla",
             "# citations to single/first/last auth papers"
            ],
            [
             "Dominican Republic",
             "# citations to single/first/last auth papers"
            ],
            [
             "Kyrgyz Republic",
             "# citations to single/first/last auth papers"
            ],
            [
             "Mauritania",
             "# citations to single/first/last auth papers"
            ],
            [
             "DR Congo",
             "# citations to single/first/last auth papers"
            ]
           ],
           "geo": "geo",
           "hovertemplate": "metric=ncsfl<br>code=%{location}<br>country=%{customdata[0]}<br>metric_name=%{customdata[1]}<br>median=%{z}<extra></extra>",
           "locations": [
            "USA",
            "LTU",
            "CAN",
            "AUS",
            "GRC",
            "MAR",
            "BEL",
            "RUS",
            "IND",
            "MEX",
            "JOR",
            "LUX",
            "TZA",
            "EST",
            "BGD",
            "PAK",
            "PRT",
            "KWT",
            "MYS",
            "CMR",
            "BRA",
            "SRB",
            "FIN",
            "ITA",
            "HRV",
            "SVN",
            "IRN",
            "PER",
            "CYP",
            "NGA",
            "GEO",
            "BRB",
            "DZA",
            "TTO",
            "TUR",
            "CHL",
            "BLR",
            "SAU",
            "OMN",
            "ESP",
            "ZAF",
            "ISR",
            "CHE",
            "NCL",
            "KEN",
            "ARE",
            "THA",
            "ARG",
            "JAM",
            "FRA",
            "CHN",
            "CUB",
            "URY",
            "ISL",
            "NZL",
            "GBR",
            "BGR",
            "CZE",
            "IRL",
            "DEU",
            "MNE",
            "HUN",
            "UKR",
            "POL",
            "LVA",
            "ROU",
            "NOR",
            "PHL",
            "VEN",
            "CRI",
            "NLD",
            "UGA",
            "MWI",
            "MAC",
            "ARM",
            "JPN",
            "GHA",
            "SWE",
            "TWN",
            "DNK",
            "PRI",
            "LKA",
            "LBN",
            "QAT",
            "COL",
            "SGP",
            "BHR",
            "HKG",
            "SVK",
            "TUN",
            "MLT",
            "KOR",
            "EGY",
            "AUT",
            "SEN",
            "IDN",
            "GLP",
            "GUY",
            "KAZ",
            "LAO",
            "KNA",
            "IRQ",
            "MDA",
            "GUF",
            "SUR",
            "AFG",
            "BRN",
            "LBY",
            "NPL",
            "PAN",
            "KHM",
            "MKD",
            "ECU",
            "MLI",
            "CYM",
            "ETH",
            "LBR",
            "RWA",
            "GRD",
            "LIE",
            "GTM",
            "MCO",
            "VNM",
            "GMB",
            "NAM",
            "PRY",
            "BWA",
            "TLS",
            "VUT",
            "BDI",
            "BFA",
            "GRL",
            "FLK",
            "PSE",
            "SDN",
            "BIH",
            "CUW",
            "COG",
            "UZB",
            "DMA",
            "BMU",
            "ERI",
            "TJK",
            "FJI",
            "ZWE",
            "LSO",
            "AZE",
            "VCT",
            "LCA",
            "YEM",
            "SUX",
            "GNB",
            "BHS",
            "MDG",
            "MUS",
            "BEN",
            "FRO",
            "ANT",
            "SYC",
            "CIV",
            "ZMB",
            "KIR",
            "SYR",
            "SHN",
            "HND",
            "PYF",
            "MTQ",
            "HTI",
            "SCG",
            "MNG",
            "SLE",
            "AIA",
            "DOM",
            "KGZ",
            "MRT",
            "COD"
           ],
           "name": "",
           "type": "choropleth",
           "z": [
            5966,
            3182,
            5167,
            4916.5,
            3915.5,
            3294,
            5613,
            3653,
            3963,
            4033.25,
            2601.25,
            4745,
            2119,
            3991.25,
            3385,
            3475,
            4655,
            2660,
            3467.75,
            2852,
            4052,
            2639,
            4793.5,
            4808.25,
            2885,
            3816.5,
            3523.25,
            3206.5,
            4019,
            1988,
            7118.5,
            1141,
            2262,
            2096,
            2898,
            3735.5,
            2897.5,
            4199.25,
            2279,
            5098.5,
            3792,
            4638,
            6157,
            3028.5,
            4110,
            3502,
            3366,
            3960,
            4432.5,
            4681.25,
            5493,
            3489.5,
            4527,
            3428,
            4049,
            5099,
            3040.5,
            3537,
            4776,
            5601,
            1794.75,
            3854,
            2673.5,
            3239.75,
            3303,
            2701,
            4020,
            3565,
            2199.75,
            2641,
            5822,
            2698.25,
            3250.75,
            5146,
            9818.5,
            5066.75,
            2531,
            4777.75,
            4075,
            4806.5,
            6488,
            3112,
            3130.75,
            3952,
            4005.75,
            5839,
            2592.5,
            5854.5,
            3400.25,
            2136.5,
            3324,
            4821,
            2406,
            4865.5,
            2375.5,
            2392.25,
            0,
            0,
            2400,
            2038,
            3398,
            2019.5,
            6607.5,
            2666,
            0,
            843,
            2261.5,
            1500.25,
            2286,
            4531,
            4185.75,
            2719.75,
            2096.25,
            4779,
            0,
            1798,
            4504,
            2563.5,
            2594,
            3446,
            3602.25,
            13698.75,
            3422,
            11534.5,
            2840.5,
            2823.25,
            1877,
            0,
            1694.5,
            1092,
            0,
            1095,
            2513,
            1814.5,
            1404,
            2120,
            0,
            0,
            3443,
            1723,
            16380.25,
            0,
            0,
            1738,
            1557,
            633,
            914,
            0,
            0,
            1121,
            2622,
            9644,
            1781,
            3740.5,
            2922,
            1489,
            1987.25,
            0,
            3280,
            1316,
            1184.25,
            1211.5,
            1325,
            0,
            10227,
            4514,
            2711,
            828,
            816,
            2773,
            1751,
            1437,
            5490,
            4744,
            1887,
            819.75
           ]
          }
         ],
         "name": "ncsfl"
        },
        {
         "data": [
          {
           "coloraxis": "coloraxis",
           "customdata": [
            [
             "United States",
             "Composite score"
            ],
            [
             "Lithuania",
             "Composite score"
            ],
            [
             "Canada",
             "Composite score"
            ],
            [
             "Australia",
             "Composite score"
            ],
            [
             "Greece",
             "Composite score"
            ],
            [
             "Morocco",
             "Composite score"
            ],
            [
             "Belgium",
             "Composite score"
            ],
            [
             "Russia",
             "Composite score"
            ],
            [
             "India",
             "Composite score"
            ],
            [
             "Mexico",
             "Composite score"
            ],
            [
             "Jordan",
             "Composite score"
            ],
            [
             "Luxembourg",
             "Composite score"
            ],
            [
             "Tanzania",
             "Composite score"
            ],
            [
             "Estonia",
             "Composite score"
            ],
            [
             "Bangladesh",
             "Composite score"
            ],
            [
             "Pakistan",
             "Composite score"
            ],
            [
             "Portugal",
             "Composite score"
            ],
            [
             "Kuwait",
             "Composite score"
            ],
            [
             "Malaysia",
             "Composite score"
            ],
            [
             "Cameroon",
             "Composite score"
            ],
            [
             "Brazil",
             "Composite score"
            ],
            [
             "Serbia",
             "Composite score"
            ],
            [
             "Finland",
             "Composite score"
            ],
            [
             "Italy",
             "Composite score"
            ],
            [
             "Croatia",
             "Composite score"
            ],
            [
             "Slovenia",
             "Composite score"
            ],
            [
             "Iran",
             "Composite score"
            ],
            [
             "Peru",
             "Composite score"
            ],
            [
             "Cyprus",
             "Composite score"
            ],
            [
             "Nigeria",
             "Composite score"
            ],
            [
             "Georgia",
             "Composite score"
            ],
            [
             "Barbados",
             "Composite score"
            ],
            [
             "Algeria",
             "Composite score"
            ],
            [
             "Trinidad and Tobago",
             "Composite score"
            ],
            [
             "Türkiye",
             "Composite score"
            ],
            [
             "Chile",
             "Composite score"
            ],
            [
             "Belarus",
             "Composite score"
            ],
            [
             "Saudi Arabia",
             "Composite score"
            ],
            [
             "Oman",
             "Composite score"
            ],
            [
             "Spain",
             "Composite score"
            ],
            [
             "South Africa",
             "Composite score"
            ],
            [
             "Israel",
             "Composite score"
            ],
            [
             "Switzerland",
             "Composite score"
            ],
            [
             "New Caledonia",
             "Composite score"
            ],
            [
             "Kenya",
             "Composite score"
            ],
            [
             "United Arab Emirates",
             "Composite score"
            ],
            [
             "Thailand",
             "Composite score"
            ],
            [
             "Argentina",
             "Composite score"
            ],
            [
             "Jamaica",
             "Composite score"
            ],
            [
             "France",
             "Composite score"
            ],
            [
             "China",
             "Composite score"
            ],
            [
             "Cuba",
             "Composite score"
            ],
            [
             "Uruguay",
             "Composite score"
            ],
            [
             "Iceland",
             "Composite score"
            ],
            [
             "New Zealand",
             "Composite score"
            ],
            [
             "United Kingdom",
             "Composite score"
            ],
            [
             "Bulgaria",
             "Composite score"
            ],
            [
             "Czechia",
             "Composite score"
            ],
            [
             "Ireland",
             "Composite score"
            ],
            [
             "Germany",
             "Composite score"
            ],
            [
             "Montenegro",
             "Composite score"
            ],
            [
             "Hungary",
             "Composite score"
            ],
            [
             "Ukraine",
             "Composite score"
            ],
            [
             "Poland",
             "Composite score"
            ],
            [
             "Latvia",
             "Composite score"
            ],
            [
             "Romania",
             "Composite score"
            ],
            [
             "Norway",
             "Composite score"
            ],
            [
             "Philippines",
             "Composite score"
            ],
            [
             "Venezuela",
             "Composite score"
            ],
            [
             "Costa Rica",
             "Composite score"
            ],
            [
             "Netherlands",
             "Composite score"
            ],
            [
             "Uganda",
             "Composite score"
            ],
            [
             "Malawi",
             "Composite score"
            ],
            [
             "Macau",
             "Composite score"
            ],
            [
             "Armenia",
             "Composite score"
            ],
            [
             "Japan",
             "Composite score"
            ],
            [
             "Ghana",
             "Composite score"
            ],
            [
             "Sweden",
             "Composite score"
            ],
            [
             "Taiwan",
             "Composite score"
            ],
            [
             "Denmark",
             "Composite score"
            ],
            [
             "Puerto Rico",
             "Composite score"
            ],
            [
             "Sri Lanka",
             "Composite score"
            ],
            [
             "Lebanon",
             "Composite score"
            ],
            [
             "Qatar",
             "Composite score"
            ],
            [
             "Colombia",
             "Composite score"
            ],
            [
             "Singapore",
             "Composite score"
            ],
            [
             "Bahrain",
             "Composite score"
            ],
            [
             "Hong Kong",
             "Composite score"
            ],
            [
             "Slovakia",
             "Composite score"
            ],
            [
             "Tunisia",
             "Composite score"
            ],
            [
             "Malta",
             "Composite score"
            ],
            [
             "South Korea",
             "Composite score"
            ],
            [
             "Egypt",
             "Composite score"
            ],
            [
             "Austria",
             "Composite score"
            ],
            [
             "Senegal",
             "Composite score"
            ],
            [
             "Indonesia",
             "Composite score"
            ],
            [
             "Guadeloupe",
             "lel"
            ],
            [
             "Guyana",
             "lel"
            ],
            [
             "Kazakhstan",
             "Composite score"
            ],
            [
             "Laos",
             "Composite score"
            ],
            [
             "St. Kitts and Nevis",
             "Composite score"
            ],
            [
             "Iraq",
             "Composite score"
            ],
            [
             "Moldova",
             "Composite score"
            ],
            [
             "French Guiana",
             "Composite score"
            ],
            [
             "Suriname",
             "lel"
            ],
            [
             "Afghanistan",
             "Composite score"
            ],
            [
             "Brunei Darussalam",
             "Composite score"
            ],
            [
             "Libya",
             "Composite score"
            ],
            [
             "Nepal",
             "Composite score"
            ],
            [
             "Panama",
             "Composite score"
            ],
            [
             "Cambodia",
             "Composite score"
            ],
            [
             "North Macedonia",
             "Composite score"
            ],
            [
             "Ecuador",
             "Composite score"
            ],
            [
             "Mali",
             "Composite score"
            ],
            [
             "Cayman Islands",
             "lel"
            ],
            [
             "Ethiopia",
             "Composite score"
            ],
            [
             "Liberia",
             "Composite score"
            ],
            [
             "Rwanda",
             "Composite score"
            ],
            [
             "Grenada",
             "Composite score"
            ],
            [
             "Liechtenstein",
             "Composite score"
            ],
            [
             "Guatemala",
             "Composite score"
            ],
            [
             "Monaco",
             "Composite score"
            ],
            [
             "Vietnam",
             "Composite score"
            ],
            [
             "Gambia",
             "Composite score"
            ],
            [
             "Namibia",
             "Composite score"
            ],
            [
             "Paraguay",
             "Composite score"
            ],
            [
             "Botswana",
             "Composite score"
            ],
            [
             "Timor-Leste",
             "lel"
            ],
            [
             "Vanuatu",
             "Composite score"
            ],
            [
             "Burundi",
             "Composite score"
            ],
            [
             "Burkina Faso",
             "lel"
            ],
            [
             "Greenland",
             "Composite score"
            ],
            [
             "Falkland Islands",
             "Composite score"
            ],
            [
             "Palestine",
             "Composite score"
            ],
            [
             "Sudan",
             "Composite score"
            ],
            [
             "Bosnia and Herzegovina",
             "Composite score"
            ],
            [
             "Curacao",
             "lel"
            ],
            [
             "Congo Republic",
             "lel"
            ],
            [
             "Uzbekistan",
             "Composite score"
            ],
            [
             "Dominica",
             "Composite score"
            ],
            [
             "Bermuda",
             "Composite score"
            ],
            [
             "Eritrea",
             "lel"
            ],
            [
             "Tajikistan",
             "lel"
            ],
            [
             "Fiji",
             "Composite score"
            ],
            [
             "Zimbabwe",
             "Composite score"
            ],
            [
             "Lesotho",
             "Composite score"
            ],
            [
             "Azerbaijan",
             "Composite score"
            ],
            [
             "St. Vincent and the Grenadines",
             "lel"
            ],
            [
             "St. Lucia",
             "lel"
            ],
            [
             "Yemen",
             "Composite score"
            ],
            [
             "Russia",
             "Composite score"
            ],
            [
             "Guinea-Bissau",
             "Composite score"
            ],
            [
             "Bahamas",
             "Composite score"
            ],
            [
             "Madagascar",
             "Composite score"
            ],
            [
             "Mauritius",
             "Composite score"
            ],
            [
             "Benin",
             "Composite score"
            ],
            [
             "Faroe Islands",
             "Composite score"
            ],
            [
             "Netherlands",
             "lel"
            ],
            [
             "Seychelles",
             "Composite score"
            ],
            [
             "Cote d'Ivoire",
             "Composite score"
            ],
            [
             "Zambia",
             "Composite score"
            ],
            [
             "Kiribati",
             "Composite score"
            ],
            [
             "Syria",
             "Composite score"
            ],
            [
             "St. Helena",
             "lel"
            ],
            [
             "Honduras",
             "Composite score"
            ],
            [
             "French Polynesia",
             "Composite score"
            ],
            [
             "Martinique",
             "Composite score"
            ],
            [
             "Haiti",
             "Composite score"
            ],
            [
             "Czech Republic",
             "Composite score"
            ],
            [
             "Mongolia",
             "Composite score"
            ],
            [
             "Sierra Leone",
             "Composite score"
            ],
            [
             "Anguilla",
             "Composite score"
            ],
            [
             "Dominican Republic",
             "Composite score"
            ],
            [
             "Kyrgyz Republic",
             "Composite score"
            ],
            [
             "Mauritania",
             "Composite score"
            ],
            [
             "DR Congo",
             "Composite score"
            ]
           ],
           "geo": "geo",
           "hovertemplate": "metric=c<br>code=%{location}<br>country=%{customdata[0]}<br>metric_name=%{customdata[1]}<br>median=%{z}<extra></extra>",
           "locations": [
            "USA",
            "LTU",
            "CAN",
            "AUS",
            "GRC",
            "MAR",
            "BEL",
            "RUS",
            "IND",
            "MEX",
            "JOR",
            "LUX",
            "TZA",
            "EST",
            "BGD",
            "PAK",
            "PRT",
            "KWT",
            "MYS",
            "CMR",
            "BRA",
            "SRB",
            "FIN",
            "ITA",
            "HRV",
            "SVN",
            "IRN",
            "PER",
            "CYP",
            "NGA",
            "GEO",
            "BRB",
            "DZA",
            "TTO",
            "TUR",
            "CHL",
            "BLR",
            "SAU",
            "OMN",
            "ESP",
            "ZAF",
            "ISR",
            "CHE",
            "NCL",
            "KEN",
            "ARE",
            "THA",
            "ARG",
            "JAM",
            "FRA",
            "CHN",
            "CUB",
            "URY",
            "ISL",
            "NZL",
            "GBR",
            "BGR",
            "CZE",
            "IRL",
            "DEU",
            "MNE",
            "HUN",
            "UKR",
            "POL",
            "LVA",
            "ROU",
            "NOR",
            "PHL",
            "VEN",
            "CRI",
            "NLD",
            "UGA",
            "MWI",
            "MAC",
            "ARM",
            "JPN",
            "GHA",
            "SWE",
            "TWN",
            "DNK",
            "PRI",
            "LKA",
            "LBN",
            "QAT",
            "COL",
            "SGP",
            "BHR",
            "HKG",
            "SVK",
            "TUN",
            "MLT",
            "KOR",
            "EGY",
            "AUT",
            "SEN",
            "IDN",
            "GLP",
            "GUY",
            "KAZ",
            "LAO",
            "KNA",
            "IRQ",
            "MDA",
            "GUF",
            "SUR",
            "AFG",
            "BRN",
            "LBY",
            "NPL",
            "PAN",
            "KHM",
            "MKD",
            "ECU",
            "MLI",
            "CYM",
            "ETH",
            "LBR",
            "RWA",
            "GRD",
            "LIE",
            "GTM",
            "MCO",
            "VNM",
            "GMB",
            "NAM",
            "PRY",
            "BWA",
            "TLS",
            "VUT",
            "BDI",
            "BFA",
            "GRL",
            "FLK",
            "PSE",
            "SDN",
            "BIH",
            "CUW",
            "COG",
            "UZB",
            "DMA",
            "BMU",
            "ERI",
            "TJK",
            "FJI",
            "ZWE",
            "LSO",
            "AZE",
            "VCT",
            "LCA",
            "YEM",
            "SUX",
            "GNB",
            "BHS",
            "MDG",
            "MUS",
            "BEN",
            "FRO",
            "ANT",
            "SYC",
            "CIV",
            "ZMB",
            "KIR",
            "SYR",
            "SHN",
            "HND",
            "PYF",
            "MTQ",
            "HTI",
            "SCG",
            "MNG",
            "SLE",
            "AIA",
            "DOM",
            "KGZ",
            "MRT",
            "COD"
           ],
           "name": "",
           "type": "choropleth",
           "z": [
            3.8213165815917174,
            3.6456439085380494,
            3.76603872940312,
            3.746428925574542,
            3.5985144032335343,
            3.407955228602858,
            3.72034606967044,
            3.658555788716531,
            3.545928129245281,
            3.6651450065086535,
            3.4351466283466046,
            3.682581947521418,
            3.482934975491335,
            3.623441360403155,
            3.468011277564982,
            3.452309990379649,
            3.630290487390843,
            3.5556792577179195,
            3.443023690521006,
            3.497453983916533,
            3.584433513402447,
            3.451667242498641,
            3.7312892576139136,
            3.669483250968967,
            3.512759914136645,
            3.616808985304838,
            3.5009452388176365,
            3.5752108321924574,
            3.594055485848034,
            3.4755404273868864,
            3.9863230365171636,
            3.249714859226681,
            3.3566969629957484,
            3.391484330629449,
            3.4980918166195107,
            3.6560365278579203,
            3.461862035802649,
            3.634242891314506,
            3.451497077960018,
            3.6791207225307296,
            3.675061251998582,
            3.714220311076616,
            3.804354563571515,
            3.5487550436834168,
            3.6412887118626047,
            3.537598901972556,
            3.4738964614019,
            3.625451648085283,
            3.6234836009381315,
            3.7029829011050444,
            3.543027039378783,
            3.6268059175844334,
            3.842230434273482,
            3.692236332435022,
            3.67452442264885,
            3.7869386098628803,
            3.5618286638139285,
            3.6484108722675,
            3.698482547085814,
            3.771277682294174,
            3.3487100267527947,
            3.706550942138448,
            3.5164274222477414,
            3.579375537774812,
            3.5596221217120725,
            3.553727535899833,
            3.651320898738001,
            3.581613691339949,
            3.5258356452183657,
            3.598860675120218,
            3.7691936267515396,
            3.4532678658777534,
            3.574291070411983,
            3.4350690967893236,
            3.537214715732803,
            3.6578708400988997,
            3.524344019559165,
            3.7334912566950083,
            3.548434801047907,
            3.748814405147958,
            3.882059190940158,
            3.38819153132065,
            3.6032844929119956,
            3.5890184848595177,
            3.5993013683377333,
            3.703811133840079,
            3.670448304346908,
            3.7259430599308327,
            3.5816874732421566,
            3.317243256513001,
            3.600634327656045,
            3.505274496596404,
            3.516946210582292,
            3.70610626242271,
            3.520342364642435,
            3.4333747369346943,
            0,
            0,
            3.420478468260872,
            3.23863932201769,
            3.619113417602792,
            3.2908515126426234,
            3.7318728882232177,
            3.5290974125491834,
            0,
            3.014201264818486,
            3.4353341389859247,
            3.3855602367559405,
            3.411747716636485,
            3.879794448233662,
            3.53133202543774,
            3.4868370343143873,
            3.496049409698723,
            3.611769012248535,
            0,
            3.3699242947942833,
            3.6230542994316517,
            3.3584556370146874,
            3.505904684492738,
            3.667399916521165,
            3.762659621465319,
            4.091349357994057,
            3.5412582491648745,
            4.103730989649662,
            3.4325109338674036,
            3.46582925471431,
            3.551777025548041,
            0,
            3.2122282385335073,
            3.276556344851522,
            0,
            3.290120714604522,
            3.659613179416792,
            3.3664976448203587,
            3.153032870127042,
            3.452327368081527,
            0,
            0,
            3.545569432895841,
            3.584082835524537,
            4.229766661232471,
            0,
            0,
            3.212840319665193,
            3.240765554598322,
            3.064668406850013,
            3.070798846385664,
            0,
            0,
            3.206288821290625,
            3.4942961033679882,
            4.078054452999449,
            3.305371957176292,
            3.8262196012582086,
            3.504810543702622,
            3.285785068238543,
            3.2121221053738243,
            0,
            3.340159027346258,
            3.195014074617063,
            3.242525287873966,
            3.241507224328916,
            3.17555849764075,
            0,
            4.248618320209906,
            3.470968849528854,
            3.205153573524747,
            3.116632523567071,
            2.871397132774971,
            3.104972497961099,
            3.377060703677562,
            3.682404754467226,
            3.503352576427418,
            3.888478496674239,
            3.166700024522011,
            2.8909410445129193
           ]
          }
         ],
         "name": "c"
        },
        {
         "data": [
          {
           "coloraxis": "coloraxis",
           "customdata": [
            [
             "United States",
             "Number of papers"
            ],
            [
             "Lithuania",
             "Number of papers"
            ],
            [
             "Canada",
             "Number of papers"
            ],
            [
             "Australia",
             "Number of papers"
            ],
            [
             "Greece",
             "Number of papers"
            ],
            [
             "Morocco",
             "Number of papers"
            ],
            [
             "Belgium",
             "Number of papers"
            ],
            [
             "Russia",
             "Number of papers"
            ],
            [
             "India",
             "Number of papers"
            ],
            [
             "Mexico",
             "Number of papers"
            ],
            [
             "Jordan",
             "Number of papers"
            ],
            [
             "Luxembourg",
             "Number of papers"
            ],
            [
             "Tanzania",
             "Number of papers"
            ],
            [
             "Estonia",
             "Number of papers"
            ],
            [
             "Bangladesh",
             "Number of papers"
            ],
            [
             "Pakistan",
             "Number of papers"
            ],
            [
             "Portugal",
             "Number of papers"
            ],
            [
             "Kuwait",
             "Number of papers"
            ],
            [
             "Malaysia",
             "Number of papers"
            ],
            [
             "Cameroon",
             "Number of papers"
            ],
            [
             "Brazil",
             "Number of papers"
            ],
            [
             "Serbia",
             "Number of papers"
            ],
            [
             "Finland",
             "Number of papers"
            ],
            [
             "Italy",
             "Number of papers"
            ],
            [
             "Croatia",
             "Number of papers"
            ],
            [
             "Slovenia",
             "Number of papers"
            ],
            [
             "Iran",
             "Number of papers"
            ],
            [
             "Peru",
             "Number of papers"
            ],
            [
             "Cyprus",
             "Number of papers"
            ],
            [
             "Nigeria",
             "Number of papers"
            ],
            [
             "Georgia",
             "Number of papers"
            ],
            [
             "Barbados",
             "Number of papers"
            ],
            [
             "Algeria",
             "Number of papers"
            ],
            [
             "Trinidad and Tobago",
             "Number of papers"
            ],
            [
             "Türkiye",
             "Number of papers"
            ],
            [
             "Chile",
             "Number of papers"
            ],
            [
             "Belarus",
             "Number of papers"
            ],
            [
             "Saudi Arabia",
             "Number of papers"
            ],
            [
             "Oman",
             "Number of papers"
            ],
            [
             "Spain",
             "Number of papers"
            ],
            [
             "South Africa",
             "Number of papers"
            ],
            [
             "Israel",
             "Number of papers"
            ],
            [
             "Switzerland",
             "Number of papers"
            ],
            [
             "New Caledonia",
             "Number of papers"
            ],
            [
             "Kenya",
             "Number of papers"
            ],
            [
             "United Arab Emirates",
             "Number of papers"
            ],
            [
             "Thailand",
             "Number of papers"
            ],
            [
             "Argentina",
             "Number of papers"
            ],
            [
             "Jamaica",
             "Number of papers"
            ],
            [
             "France",
             "Number of papers"
            ],
            [
             "China",
             "Number of papers"
            ],
            [
             "Cuba",
             "Number of papers"
            ],
            [
             "Uruguay",
             "Number of papers"
            ],
            [
             "Iceland",
             "Number of papers"
            ],
            [
             "New Zealand",
             "Number of papers"
            ],
            [
             "United Kingdom",
             "Number of papers"
            ],
            [
             "Bulgaria",
             "Number of papers"
            ],
            [
             "Czechia",
             "Number of papers"
            ],
            [
             "Ireland",
             "Number of papers"
            ],
            [
             "Germany",
             "Number of papers"
            ],
            [
             "Montenegro",
             "Number of papers"
            ],
            [
             "Hungary",
             "Number of papers"
            ],
            [
             "Ukraine",
             "Number of papers"
            ],
            [
             "Poland",
             "Number of papers"
            ],
            [
             "Latvia",
             "Number of papers"
            ],
            [
             "Romania",
             "Number of papers"
            ],
            [
             "Norway",
             "Number of papers"
            ],
            [
             "Philippines",
             "Number of papers"
            ],
            [
             "Venezuela",
             "Number of papers"
            ],
            [
             "Costa Rica",
             "Number of papers"
            ],
            [
             "Netherlands",
             "Number of papers"
            ],
            [
             "Uganda",
             "Number of papers"
            ],
            [
             "Malawi",
             "Number of papers"
            ],
            [
             "Macau",
             "Number of papers"
            ],
            [
             "Armenia",
             "Number of papers"
            ],
            [
             "Japan",
             "Number of papers"
            ],
            [
             "Ghana",
             "Number of papers"
            ],
            [
             "Sweden",
             "Number of papers"
            ],
            [
             "Taiwan",
             "Number of papers"
            ],
            [
             "Denmark",
             "Number of papers"
            ],
            [
             "Puerto Rico",
             "Number of papers"
            ],
            [
             "Sri Lanka",
             "Number of papers"
            ],
            [
             "Lebanon",
             "Number of papers"
            ],
            [
             "Qatar",
             "Number of papers"
            ],
            [
             "Colombia",
             "Number of papers"
            ],
            [
             "Singapore",
             "Number of papers"
            ],
            [
             "Bahrain",
             "Number of papers"
            ],
            [
             "Hong Kong",
             "Number of papers"
            ],
            [
             "Slovakia",
             "Number of papers"
            ],
            [
             "Tunisia",
             "Number of papers"
            ],
            [
             "Malta",
             "Number of papers"
            ],
            [
             "South Korea",
             "Number of papers"
            ],
            [
             "Egypt",
             "Number of papers"
            ],
            [
             "Austria",
             "Number of papers"
            ],
            [
             "Senegal",
             "Number of papers"
            ],
            [
             "Indonesia",
             "Number of papers"
            ],
            [
             "Guadeloupe",
             "lel"
            ],
            [
             "Guyana",
             "lel"
            ],
            [
             "Kazakhstan",
             "Number of papers"
            ],
            [
             "Laos",
             "Number of papers"
            ],
            [
             "St. Kitts and Nevis",
             "Number of papers"
            ],
            [
             "Iraq",
             "Number of papers"
            ],
            [
             "Moldova",
             "Number of papers"
            ],
            [
             "French Guiana",
             "Number of papers"
            ],
            [
             "Suriname",
             "lel"
            ],
            [
             "Afghanistan",
             "Number of papers"
            ],
            [
             "Brunei Darussalam",
             "Number of papers"
            ],
            [
             "Libya",
             "Number of papers"
            ],
            [
             "Nepal",
             "Number of papers"
            ],
            [
             "Panama",
             "Number of papers"
            ],
            [
             "Cambodia",
             "Number of papers"
            ],
            [
             "North Macedonia",
             "Number of papers"
            ],
            [
             "Ecuador",
             "Number of papers"
            ],
            [
             "Mali",
             "Number of papers"
            ],
            [
             "Cayman Islands",
             "lel"
            ],
            [
             "Ethiopia",
             "Number of papers"
            ],
            [
             "Liberia",
             "Number of papers"
            ],
            [
             "Rwanda",
             "Number of papers"
            ],
            [
             "Grenada",
             "Number of papers"
            ],
            [
             "Liechtenstein",
             "Number of papers"
            ],
            [
             "Guatemala",
             "Number of papers"
            ],
            [
             "Monaco",
             "Number of papers"
            ],
            [
             "Vietnam",
             "Number of papers"
            ],
            [
             "Gambia",
             "Number of papers"
            ],
            [
             "Namibia",
             "Number of papers"
            ],
            [
             "Paraguay",
             "Number of papers"
            ],
            [
             "Botswana",
             "Number of papers"
            ],
            [
             "Timor-Leste",
             "lel"
            ],
            [
             "Vanuatu",
             "Number of papers"
            ],
            [
             "Burundi",
             "Number of papers"
            ],
            [
             "Burkina Faso",
             "lel"
            ],
            [
             "Greenland",
             "Number of papers"
            ],
            [
             "Falkland Islands",
             "Number of papers"
            ],
            [
             "Palestine",
             "Number of papers"
            ],
            [
             "Sudan",
             "Number of papers"
            ],
            [
             "Bosnia and Herzegovina",
             "Number of papers"
            ],
            [
             "Curacao",
             "lel"
            ],
            [
             "Congo Republic",
             "lel"
            ],
            [
             "Uzbekistan",
             "Number of papers"
            ],
            [
             "Dominica",
             "Number of papers"
            ],
            [
             "Bermuda",
             "Number of papers"
            ],
            [
             "Eritrea",
             "lel"
            ],
            [
             "Tajikistan",
             "lel"
            ],
            [
             "Fiji",
             "Number of papers"
            ],
            [
             "Zimbabwe",
             "Number of papers"
            ],
            [
             "Lesotho",
             "Number of papers"
            ],
            [
             "Azerbaijan",
             "Number of papers"
            ],
            [
             "St. Vincent and the Grenadines",
             "lel"
            ],
            [
             "St. Lucia",
             "lel"
            ],
            [
             "Yemen",
             "Number of papers"
            ],
            [
             "Russia",
             "Number of papers"
            ],
            [
             "Guinea-Bissau",
             "Number of papers"
            ],
            [
             "Bahamas",
             "Number of papers"
            ],
            [
             "Madagascar",
             "Number of papers"
            ],
            [
             "Mauritius",
             "Number of papers"
            ],
            [
             "Benin",
             "Number of papers"
            ],
            [
             "Faroe Islands",
             "Number of papers"
            ],
            [
             "Netherlands",
             "lel"
            ],
            [
             "Seychelles",
             "Number of papers"
            ],
            [
             "Cote d'Ivoire",
             "Number of papers"
            ],
            [
             "Zambia",
             "Number of papers"
            ],
            [
             "Kiribati",
             "Number of papers"
            ],
            [
             "Syria",
             "Number of papers"
            ],
            [
             "St. Helena",
             "lel"
            ],
            [
             "Honduras",
             "Number of papers"
            ],
            [
             "French Polynesia",
             "Number of papers"
            ],
            [
             "Martinique",
             "Number of papers"
            ],
            [
             "Haiti",
             "Number of papers"
            ],
            [
             "Czech Republic",
             "Number of papers"
            ],
            [
             "Mongolia",
             "Number of papers"
            ],
            [
             "Sierra Leone",
             "Number of papers"
            ],
            [
             "Anguilla",
             "Number of papers"
            ],
            [
             "Dominican Republic",
             "Number of papers"
            ],
            [
             "Kyrgyz Republic",
             "Number of papers"
            ],
            [
             "Mauritania",
             "Number of papers"
            ],
            [
             "DR Congo",
             "Number of papers"
            ]
           ],
           "geo": "geo",
           "hovertemplate": "metric=np<br>code=%{location}<br>country=%{customdata[0]}<br>metric_name=%{customdata[1]}<br>median=%{z}<extra></extra>",
           "locations": [
            "USA",
            "LTU",
            "CAN",
            "AUS",
            "GRC",
            "MAR",
            "BEL",
            "RUS",
            "IND",
            "MEX",
            "JOR",
            "LUX",
            "TZA",
            "EST",
            "BGD",
            "PAK",
            "PRT",
            "KWT",
            "MYS",
            "CMR",
            "BRA",
            "SRB",
            "FIN",
            "ITA",
            "HRV",
            "SVN",
            "IRN",
            "PER",
            "CYP",
            "NGA",
            "GEO",
            "BRB",
            "DZA",
            "TTO",
            "TUR",
            "CHL",
            "BLR",
            "SAU",
            "OMN",
            "ESP",
            "ZAF",
            "ISR",
            "CHE",
            "NCL",
            "KEN",
            "ARE",
            "THA",
            "ARG",
            "JAM",
            "FRA",
            "CHN",
            "CUB",
            "URY",
            "ISL",
            "NZL",
            "GBR",
            "BGR",
            "CZE",
            "IRL",
            "DEU",
            "MNE",
            "HUN",
            "UKR",
            "POL",
            "LVA",
            "ROU",
            "NOR",
            "PHL",
            "VEN",
            "CRI",
            "NLD",
            "UGA",
            "MWI",
            "MAC",
            "ARM",
            "JPN",
            "GHA",
            "SWE",
            "TWN",
            "DNK",
            "PRI",
            "LKA",
            "LBN",
            "QAT",
            "COL",
            "SGP",
            "BHR",
            "HKG",
            "SVK",
            "TUN",
            "MLT",
            "KOR",
            "EGY",
            "AUT",
            "SEN",
            "IDN",
            "GLP",
            "GUY",
            "KAZ",
            "LAO",
            "KNA",
            "IRQ",
            "MDA",
            "GUF",
            "SUR",
            "AFG",
            "BRN",
            "LBY",
            "NPL",
            "PAN",
            "KHM",
            "MKD",
            "ECU",
            "MLI",
            "CYM",
            "ETH",
            "LBR",
            "RWA",
            "GRD",
            "LIE",
            "GTM",
            "MCO",
            "VNM",
            "GMB",
            "NAM",
            "PRY",
            "BWA",
            "TLS",
            "VUT",
            "BDI",
            "BFA",
            "GRL",
            "FLK",
            "PSE",
            "SDN",
            "BIH",
            "CUW",
            "COG",
            "UZB",
            "DMA",
            "BMU",
            "ERI",
            "TJK",
            "FJI",
            "ZWE",
            "LSO",
            "AZE",
            "VCT",
            "LCA",
            "YEM",
            "SUX",
            "GNB",
            "BHS",
            "MDG",
            "MUS",
            "BEN",
            "FRO",
            "ANT",
            "SYC",
            "CIV",
            "ZMB",
            "KIR",
            "SYR",
            "SHN",
            "HND",
            "PYF",
            "MTQ",
            "HTI",
            "SCG",
            "MNG",
            "SLE",
            "AIA",
            "DOM",
            "KGZ",
            "MRT",
            "COD"
           ],
           "name": "",
           "type": "choropleth",
           "z": [
            224,
            229,
            230,
            245,
            236,
            246,
            329,
            296.5,
            232,
            246.75,
            145.75,
            252.5,
            153,
            202,
            213,
            303,
            284,
            131.75,
            284,
            238,
            262.5,
            195,
            268.25,
            299,
            226,
            251.5,
            241,
            228.5,
            192.5,
            162,
            252,
            65,
            191.5,
            130,
            163.75,
            195,
            244,
            267,
            183,
            274,
            228,
            206.75,
            260,
            189.5,
            179,
            183,
            240,
            187,
            176,
            270,
            356,
            245,
            214,
            185.5,
            191,
            225,
            163,
            252,
            241,
            303,
            233,
            232.75,
            255,
            230,
            219,
            243.75,
            205,
            153,
            152.25,
            138,
            295,
            366,
            272.5,
            334.25,
            305.75,
            324.75,
            153,
            231,
            253,
            246,
            221,
            191,
            221.75,
            256,
            203.5,
            295,
            159.75,
            319,
            227.25,
            239.5,
            192,
            280,
            163,
            268.5,
            284.75,
            194,
            0,
            0,
            175,
            124,
            152,
            153.5,
            180,
            299,
            0,
            80,
            198.25,
            80.75,
            135,
            170,
            264.5,
            233.75,
            151.75,
            488,
            0,
            182.75,
            218.5,
            157.5,
            161,
            198,
            417,
            419.25,
            207.5,
            457,
            125,
            134,
            133,
            0,
            98.5,
            59,
            0,
            130,
            156,
            114.5,
            178,
            233,
            0,
            0,
            142,
            123,
            472.25,
            0,
            0,
            130,
            119.25,
            48,
            73.75,
            0,
            0,
            51,
            30,
            648,
            111,
            263,
            102,
            167,
            156.75,
            0,
            196,
            17,
            168.25,
            88,
            66.25,
            0,
            299,
            75,
            181,
            147,
            177,
            93,
            66,
            220,
            62,
            203,
            28,
            57.5
           ]
          }
         ],
         "name": "np"
        }
       ],
       "layout": {
        "coloraxis": {
         "cmax": 15000,
         "cmin": 0,
         "colorbar": {
          "thickness": 23,
          "title": {
           "text": "median"
          }
         },
         "colorscale": [
          [
           0,
           "#440154"
          ],
          [
           0.1111111111111111,
           "#482878"
          ],
          [
           0.2222222222222222,
           "#3e4989"
          ],
          [
           0.3333333333333333,
           "#31688e"
          ],
          [
           0.4444444444444444,
           "#26828e"
          ],
          [
           0.5555555555555556,
           "#1f9e89"
          ],
          [
           0.6666666666666666,
           "#35b779"
          ],
          [
           0.7777777777777778,
           "#6ece58"
          ],
          [
           0.8888888888888888,
           "#b5de2b"
          ],
          [
           1,
           "#fde725"
          ]
         ]
        },
        "geo": {
         "center": {},
         "domain": {
          "x": [
           0,
           1
          ],
          "y": [
           0,
           1
          ]
         }
        },
        "height": 800,
        "legend": {
         "tracegroupgap": 0
        },
        "margin": {
         "t": 60
        },
        "sliders": [
         {
          "active": 0,
          "currentvalue": {
           "prefix": "metric="
          },
          "len": 0.9,
          "pad": {
           "b": 10,
           "t": 60
          },
          "steps": [
           {
            "args": [
             [
              "nc"
             ],
             {
              "frame": {
               "duration": 0,
               "redraw": true
              },
              "fromcurrent": true,
              "mode": "immediate",
              "transition": {
               "duration": 0,
               "easing": "linear"
              }
             }
            ],
            "label": "nc",
            "method": "animate"
           },
           {
            "args": [
             [
              "h"
             ],
             {
              "frame": {
               "duration": 0,
               "redraw": true
              },
              "fromcurrent": true,
              "mode": "immediate",
              "transition": {
               "duration": 0,
               "easing": "linear"
              }
             }
            ],
            "label": "h",
            "method": "animate"
           },
           {
            "args": [
             [
              "hm"
             ],
             {
              "frame": {
               "duration": 0,
               "redraw": true
              },
              "fromcurrent": true,
              "mode": "immediate",
              "transition": {
               "duration": 0,
               "easing": "linear"
              }
             }
            ],
            "label": "hm",
            "method": "animate"
           },
           {
            "args": [
             [
              "ncs"
             ],
             {
              "frame": {
               "duration": 0,
               "redraw": true
              },
              "fromcurrent": true,
              "mode": "immediate",
              "transition": {
               "duration": 0,
               "easing": "linear"
              }
             }
            ],
            "label": "ncs",
            "method": "animate"
           },
           {
            "args": [
             [
              "ncsf"
             ],
             {
              "frame": {
               "duration": 0,
               "redraw": true
              },
              "fromcurrent": true,
              "mode": "immediate",
              "transition": {
               "duration": 0,
               "easing": "linear"
              }
             }
            ],
            "label": "ncsf",
            "method": "animate"
           },
           {
            "args": [
             [
              "ncsfl"
             ],
             {
              "frame": {
               "duration": 0,
               "redraw": true
              },
              "fromcurrent": true,
              "mode": "immediate",
              "transition": {
               "duration": 0,
               "easing": "linear"
              }
             }
            ],
            "label": "ncsfl",
            "method": "animate"
           },
           {
            "args": [
             [
              "c"
             ],
             {
              "frame": {
               "duration": 0,
               "redraw": true
              },
              "fromcurrent": true,
              "mode": "immediate",
              "transition": {
               "duration": 0,
               "easing": "linear"
              }
             }
            ],
            "label": "c",
            "method": "animate"
           },
           {
            "args": [
             [
              "np"
             ],
             {
              "frame": {
               "duration": 0,
               "redraw": true
              },
              "fromcurrent": true,
              "mode": "immediate",
              "transition": {
               "duration": 0,
               "easing": "linear"
              }
             }
            ],
            "label": "np",
            "method": "animate"
           }
          ],
          "x": 0.1,
          "xanchor": "left",
          "y": 0,
          "yanchor": "top"
         }
        ],
        "template": {
         "data": {
          "bar": [
           {
            "error_x": {
             "color": "#2a3f5f"
            },
            "error_y": {
             "color": "#2a3f5f"
            },
            "marker": {
             "line": {
              "color": "#E5ECF6",
              "width": 0.5
             },
             "pattern": {
              "fillmode": "overlay",
              "size": 10,
              "solidity": 0.2
             }
            },
            "type": "bar"
           }
          ],
          "barpolar": [
           {
            "marker": {
             "line": {
              "color": "#E5ECF6",
              "width": 0.5
             },
             "pattern": {
              "fillmode": "overlay",
              "size": 10,
              "solidity": 0.2
             }
            },
            "type": "barpolar"
           }
          ],
          "carpet": [
           {
            "aaxis": {
             "endlinecolor": "#2a3f5f",
             "gridcolor": "white",
             "linecolor": "white",
             "minorgridcolor": "white",
             "startlinecolor": "#2a3f5f"
            },
            "baxis": {
             "endlinecolor": "#2a3f5f",
             "gridcolor": "white",
             "linecolor": "white",
             "minorgridcolor": "white",
             "startlinecolor": "#2a3f5f"
            },
            "type": "carpet"
           }
          ],
          "choropleth": [
           {
            "colorbar": {
             "outlinewidth": 0,
             "ticks": ""
            },
            "type": "choropleth"
           }
          ],
          "contour": [
           {
            "colorbar": {
             "outlinewidth": 0,
             "ticks": ""
            },
            "colorscale": [
             [
              0,
              "#0d0887"
             ],
             [
              0.1111111111111111,
              "#46039f"
             ],
             [
              0.2222222222222222,
              "#7201a8"
             ],
             [
              0.3333333333333333,
              "#9c179e"
             ],
             [
              0.4444444444444444,
              "#bd3786"
             ],
             [
              0.5555555555555556,
              "#d8576b"
             ],
             [
              0.6666666666666666,
              "#ed7953"
             ],
             [
              0.7777777777777778,
              "#fb9f3a"
             ],
             [
              0.8888888888888888,
              "#fdca26"
             ],
             [
              1,
              "#f0f921"
             ]
            ],
            "type": "contour"
           }
          ],
          "contourcarpet": [
           {
            "colorbar": {
             "outlinewidth": 0,
             "ticks": ""
            },
            "type": "contourcarpet"
           }
          ],
          "heatmap": [
           {
            "colorbar": {
             "outlinewidth": 0,
             "ticks": ""
            },
            "colorscale": [
             [
              0,
              "#0d0887"
             ],
             [
              0.1111111111111111,
              "#46039f"
             ],
             [
              0.2222222222222222,
              "#7201a8"
             ],
             [
              0.3333333333333333,
              "#9c179e"
             ],
             [
              0.4444444444444444,
              "#bd3786"
             ],
             [
              0.5555555555555556,
              "#d8576b"
             ],
             [
              0.6666666666666666,
              "#ed7953"
             ],
             [
              0.7777777777777778,
              "#fb9f3a"
             ],
             [
              0.8888888888888888,
              "#fdca26"
             ],
             [
              1,
              "#f0f921"
             ]
            ],
            "type": "heatmap"
           }
          ],
          "heatmapgl": [
           {
            "colorbar": {
             "outlinewidth": 0,
             "ticks": ""
            },
            "colorscale": [
             [
              0,
              "#0d0887"
             ],
             [
              0.1111111111111111,
              "#46039f"
             ],
             [
              0.2222222222222222,
              "#7201a8"
             ],
             [
              0.3333333333333333,
              "#9c179e"
             ],
             [
              0.4444444444444444,
              "#bd3786"
             ],
             [
              0.5555555555555556,
              "#d8576b"
             ],
             [
              0.6666666666666666,
              "#ed7953"
             ],
             [
              0.7777777777777778,
              "#fb9f3a"
             ],
             [
              0.8888888888888888,
              "#fdca26"
             ],
             [
              1,
              "#f0f921"
             ]
            ],
            "type": "heatmapgl"
           }
          ],
          "histogram": [
           {
            "marker": {
             "pattern": {
              "fillmode": "overlay",
              "size": 10,
              "solidity": 0.2
             }
            },
            "type": "histogram"
           }
          ],
          "histogram2d": [
           {
            "colorbar": {
             "outlinewidth": 0,
             "ticks": ""
            },
            "colorscale": [
             [
              0,
              "#0d0887"
             ],
             [
              0.1111111111111111,
              "#46039f"
             ],
             [
              0.2222222222222222,
              "#7201a8"
             ],
             [
              0.3333333333333333,
              "#9c179e"
             ],
             [
              0.4444444444444444,
              "#bd3786"
             ],
             [
              0.5555555555555556,
              "#d8576b"
             ],
             [
              0.6666666666666666,
              "#ed7953"
             ],
             [
              0.7777777777777778,
              "#fb9f3a"
             ],
             [
              0.8888888888888888,
              "#fdca26"
             ],
             [
              1,
              "#f0f921"
             ]
            ],
            "type": "histogram2d"
           }
          ],
          "histogram2dcontour": [
           {
            "colorbar": {
             "outlinewidth": 0,
             "ticks": ""
            },
            "colorscale": [
             [
              0,
              "#0d0887"
             ],
             [
              0.1111111111111111,
              "#46039f"
             ],
             [
              0.2222222222222222,
              "#7201a8"
             ],
             [
              0.3333333333333333,
              "#9c179e"
             ],
             [
              0.4444444444444444,
              "#bd3786"
             ],
             [
              0.5555555555555556,
              "#d8576b"
             ],
             [
              0.6666666666666666,
              "#ed7953"
             ],
             [
              0.7777777777777778,
              "#fb9f3a"
             ],
             [
              0.8888888888888888,
              "#fdca26"
             ],
             [
              1,
              "#f0f921"
             ]
            ],
            "type": "histogram2dcontour"
           }
          ],
          "mesh3d": [
           {
            "colorbar": {
             "outlinewidth": 0,
             "ticks": ""
            },
            "type": "mesh3d"
           }
          ],
          "parcoords": [
           {
            "line": {
             "colorbar": {
              "outlinewidth": 0,
              "ticks": ""
             }
            },
            "type": "parcoords"
           }
          ],
          "pie": [
           {
            "automargin": true,
            "type": "pie"
           }
          ],
          "scatter": [
           {
            "fillpattern": {
             "fillmode": "overlay",
             "size": 10,
             "solidity": 0.2
            },
            "type": "scatter"
           }
          ],
          "scatter3d": [
           {
            "line": {
             "colorbar": {
              "outlinewidth": 0,
              "ticks": ""
             }
            },
            "marker": {
             "colorbar": {
              "outlinewidth": 0,
              "ticks": ""
             }
            },
            "type": "scatter3d"
           }
          ],
          "scattercarpet": [
           {
            "marker": {
             "colorbar": {
              "outlinewidth": 0,
              "ticks": ""
             }
            },
            "type": "scattercarpet"
           }
          ],
          "scattergeo": [
           {
            "marker": {
             "colorbar": {
              "outlinewidth": 0,
              "ticks": ""
             }
            },
            "type": "scattergeo"
           }
          ],
          "scattergl": [
           {
            "marker": {
             "colorbar": {
              "outlinewidth": 0,
              "ticks": ""
             }
            },
            "type": "scattergl"
           }
          ],
          "scattermapbox": [
           {
            "marker": {
             "colorbar": {
              "outlinewidth": 0,
              "ticks": ""
             }
            },
            "type": "scattermapbox"
           }
          ],
          "scatterpolar": [
           {
            "marker": {
             "colorbar": {
              "outlinewidth": 0,
              "ticks": ""
             }
            },
            "type": "scatterpolar"
           }
          ],
          "scatterpolargl": [
           {
            "marker": {
             "colorbar": {
              "outlinewidth": 0,
              "ticks": ""
             }
            },
            "type": "scatterpolargl"
           }
          ],
          "scatterternary": [
           {
            "marker": {
             "colorbar": {
              "outlinewidth": 0,
              "ticks": ""
             }
            },
            "type": "scatterternary"
           }
          ],
          "surface": [
           {
            "colorbar": {
             "outlinewidth": 0,
             "ticks": ""
            },
            "colorscale": [
             [
              0,
              "#0d0887"
             ],
             [
              0.1111111111111111,
              "#46039f"
             ],
             [
              0.2222222222222222,
              "#7201a8"
             ],
             [
              0.3333333333333333,
              "#9c179e"
             ],
             [
              0.4444444444444444,
              "#bd3786"
             ],
             [
              0.5555555555555556,
              "#d8576b"
             ],
             [
              0.6666666666666666,
              "#ed7953"
             ],
             [
              0.7777777777777778,
              "#fb9f3a"
             ],
             [
              0.8888888888888888,
              "#fdca26"
             ],
             [
              1,
              "#f0f921"
             ]
            ],
            "type": "surface"
           }
          ],
          "table": [
           {
            "cells": {
             "fill": {
              "color": "#EBF0F8"
             },
             "line": {
              "color": "white"
             }
            },
            "header": {
             "fill": {
              "color": "#C8D4E3"
             },
             "line": {
              "color": "white"
             }
            },
            "type": "table"
           }
          ]
         },
         "layout": {
          "annotationdefaults": {
           "arrowcolor": "#2a3f5f",
           "arrowhead": 0,
           "arrowwidth": 1
          },
          "autotypenumbers": "strict",
          "coloraxis": {
           "colorbar": {
            "outlinewidth": 0,
            "ticks": ""
           }
          },
          "colorscale": {
           "diverging": [
            [
             0,
             "#8e0152"
            ],
            [
             0.1,
             "#c51b7d"
            ],
            [
             0.2,
             "#de77ae"
            ],
            [
             0.3,
             "#f1b6da"
            ],
            [
             0.4,
             "#fde0ef"
            ],
            [
             0.5,
             "#f7f7f7"
            ],
            [
             0.6,
             "#e6f5d0"
            ],
            [
             0.7,
             "#b8e186"
            ],
            [
             0.8,
             "#7fbc41"
            ],
            [
             0.9,
             "#4d9221"
            ],
            [
             1,
             "#276419"
            ]
           ],
           "sequential": [
            [
             0,
             "#0d0887"
            ],
            [
             0.1111111111111111,
             "#46039f"
            ],
            [
             0.2222222222222222,
             "#7201a8"
            ],
            [
             0.3333333333333333,
             "#9c179e"
            ],
            [
             0.4444444444444444,
             "#bd3786"
            ],
            [
             0.5555555555555556,
             "#d8576b"
            ],
            [
             0.6666666666666666,
             "#ed7953"
            ],
            [
             0.7777777777777778,
             "#fb9f3a"
            ],
            [
             0.8888888888888888,
             "#fdca26"
            ],
            [
             1,
             "#f0f921"
            ]
           ],
           "sequentialminus": [
            [
             0,
             "#0d0887"
            ],
            [
             0.1111111111111111,
             "#46039f"
            ],
            [
             0.2222222222222222,
             "#7201a8"
            ],
            [
             0.3333333333333333,
             "#9c179e"
            ],
            [
             0.4444444444444444,
             "#bd3786"
            ],
            [
             0.5555555555555556,
             "#d8576b"
            ],
            [
             0.6666666666666666,
             "#ed7953"
            ],
            [
             0.7777777777777778,
             "#fb9f3a"
            ],
            [
             0.8888888888888888,
             "#fdca26"
            ],
            [
             1,
             "#f0f921"
            ]
           ]
          },
          "colorway": [
           "#636efa",
           "#EF553B",
           "#00cc96",
           "#ab63fa",
           "#FFA15A",
           "#19d3f3",
           "#FF6692",
           "#B6E880",
           "#FF97FF",
           "#FECB52"
          ],
          "font": {
           "color": "#2a3f5f"
          },
          "geo": {
           "bgcolor": "white",
           "lakecolor": "white",
           "landcolor": "#E5ECF6",
           "showlakes": true,
           "showland": true,
           "subunitcolor": "white"
          },
          "hoverlabel": {
           "align": "left"
          },
          "hovermode": "closest",
          "mapbox": {
           "style": "light"
          },
          "paper_bgcolor": "white",
          "plot_bgcolor": "#E5ECF6",
          "polar": {
           "angularaxis": {
            "gridcolor": "white",
            "linecolor": "white",
            "ticks": ""
           },
           "bgcolor": "#E5ECF6",
           "radialaxis": {
            "gridcolor": "white",
            "linecolor": "white",
            "ticks": ""
           }
          },
          "scene": {
           "xaxis": {
            "backgroundcolor": "#E5ECF6",
            "gridcolor": "white",
            "gridwidth": 2,
            "linecolor": "white",
            "showbackground": true,
            "ticks": "",
            "zerolinecolor": "white"
           },
           "yaxis": {
            "backgroundcolor": "#E5ECF6",
            "gridcolor": "white",
            "gridwidth": 2,
            "linecolor": "white",
            "showbackground": true,
            "ticks": "",
            "zerolinecolor": "white"
           },
           "zaxis": {
            "backgroundcolor": "#E5ECF6",
            "gridcolor": "white",
            "gridwidth": 2,
            "linecolor": "white",
            "showbackground": true,
            "ticks": "",
            "zerolinecolor": "white"
           }
          },
          "shapedefaults": {
           "line": {
            "color": "#2a3f5f"
           }
          },
          "ternary": {
           "aaxis": {
            "gridcolor": "white",
            "linecolor": "white",
            "ticks": ""
           },
           "baxis": {
            "gridcolor": "white",
            "linecolor": "white",
            "ticks": ""
           },
           "bgcolor": "#E5ECF6",
           "caxis": {
            "gridcolor": "white",
            "linecolor": "white",
            "ticks": ""
           }
          },
          "title": {
           "x": 0.05
          },
          "xaxis": {
           "automargin": true,
           "gridcolor": "white",
           "linecolor": "white",
           "ticks": "",
           "title": {
            "standoff": 15
           },
           "zerolinecolor": "white",
           "zerolinewidth": 2
          },
          "yaxis": {
           "automargin": true,
           "gridcolor": "white",
           "linecolor": "white",
           "ticks": "",
           "title": {
            "standoff": 15
           },
           "zerolinecolor": "white",
           "zerolinewidth": 2
          }
         }
        },
        "updatemenus": [
         {
          "buttons": [
           {
            "args": [
             null,
             {
              "frame": {
               "duration": 500,
               "redraw": true
              },
              "fromcurrent": true,
              "mode": "immediate",
              "transition": {
               "duration": 500,
               "easing": "linear"
              }
             }
            ],
            "label": "&#9654;",
            "method": "animate"
           },
           {
            "args": [
             [
              null
             ],
             {
              "frame": {
               "duration": 0,
               "redraw": true
              },
              "fromcurrent": true,
              "mode": "immediate",
              "transition": {
               "duration": 0,
               "easing": "linear"
              }
             }
            ],
            "label": "&#9724;",
            "method": "animate"
           }
          ],
          "direction": "left",
          "pad": {
           "r": 10,
           "t": 70
          },
          "showactive": false,
          "type": "buttons",
          "x": 0.1,
          "xanchor": "right",
          "y": 0,
          "yanchor": "top"
         }
        ],
        "width": 800
       }
      },
      "image/png": "[encoded data removed]",
      "text/html": [
       "<div>                            <div id=\"dc88faec-429f-4662-80b9-95b52ab764d2\" class=\"plotly-graph-div\" style=\"height:800px; width:800px;\"></div>            <script type=\"text/javascript\">                require([\"plotly\"], function(Plotly) {                    window.PLOTLYENV=window.PLOTLYENV || {};                                    if (document.getElementById(\"dc88faec-429f-4662-80b9-95b52ab764d2\")) {                    Plotly.newPlot(                        \"dc88faec-429f-4662-80b9-95b52ab764d2\",                        [{\"coloraxis\":\"coloraxis\",\"customdata\":[[\"United States\",\"# Citations\"],[\"Lithuania\",\"# Citations\"],[\"Canada\",\"# Citations\"],[\"Australia\",\"# Citations\"],[\"Greece\",\"# Citations\"],[\"Morocco\",\"# Citations\"],[\"Belgium\",\"# Citations\"],[\"Russia\",\"# Citations\"],[\"India\",\"# Citations\"],[\"Mexico\",\"# Citations\"],[\"Jordan\",\"# Citations\"],[\"Luxembourg\",\"# Citations\"],[\"Tanzania\",\"# Citations\"],[\"Estonia\",\"# Citations\"],[\"Bangladesh\",\"# Citations\"],[\"Pakistan\",\"# Citations\"],[\"Portugal\",\"# Citations\"],[\"Kuwait\",\"# Citations\"],[\"Malaysia\",\"# Citations\"],[\"Cameroon\",\"# Citations\"],[\"Brazil\",\"# Citations\"],[\"Serbia\",\"# Citations\"],[\"Finland\",\"# Citations\"],[\"Italy\",\"# Citations\"],[\"Croatia\",\"# Citations\"],[\"Slovenia\",\"# Citations\"],[\"Iran\",\"# Citations\"],[\"Peru\",\"# Citations\"],[\"Cyprus\",\"# Citations\"],[\"Nigeria\",\"# Citations\"],[\"Georgia\",\"# Citations\"],[\"Barbados\",\"# Citations\"],[\"Algeria\",\"# Citations\"],[\"Trinidad and Tobago\",\"# Citations\"],[\"T\\u00fcrkiye\",\"# Citations\"],[\"Chile\",\"# Citations\"],[\"Belarus\",\"# Citations\"],[\"Saudi Arabia\",\"# Citations\"],[\"Oman\",\"# Citations\"],[\"Spain\",\"# Citations\"],[\"South Africa\",\"# Citations\"],[\"Israel\",\"# Citations\"],[\"Switzerland\",\"# Citations\"],[\"New Caledonia\",\"# Citations\"],[\"Kenya\",\"# Citations\"],[\"United Arab Emirates\",\"# Citations\"],[\"Thailand\",\"# Citations\"],[\"Argentina\",\"# Citations\"],[\"Jamaica\",\"# Citations\"],[\"France\",\"# Citations\"],[\"China\",\"# Citations\"],[\"Cuba\",\"# Citations\"],[\"Uruguay\",\"# Citations\"],[\"Iceland\",\"# Citations\"],[\"New Zealand\",\"# Citations\"],[\"United Kingdom\",\"# Citations\"],[\"Bulgaria\",\"# Citations\"],[\"Czechia\",\"# Citations\"],[\"Ireland\",\"# Citations\"],[\"Germany\",\"# Citations\"],[\"Montenegro\",\"# Citations\"],[\"Hungary\",\"# Citations\"],[\"Ukraine\",\"# Citations\"],[\"Poland\",\"# Citations\"],[\"Latvia\",\"# Citations\"],[\"Romania\",\"# Citations\"],[\"Norway\",\"# Citations\"],[\"Philippines\",\"# Citations\"],[\"Venezuela\",\"# Citations\"],[\"Costa Rica\",\"# Citations\"],[\"Netherlands\",\"# Citations\"],[\"Uganda\",\"# Citations\"],[\"Malawi\",\"# Citations\"],[\"Macau\",\"# Citations\"],[\"Armenia\",\"# Citations\"],[\"Japan\",\"# Citations\"],[\"Ghana\",\"# Citations\"],[\"Sweden\",\"# Citations\"],[\"Taiwan\",\"# Citations\"],[\"Denmark\",\"# Citations\"],[\"Puerto Rico\",\"# Citations\"],[\"Sri Lanka\",\"# Citations\"],[\"Lebanon\",\"# Citations\"],[\"Qatar\",\"# Citations\"],[\"Colombia\",\"# Citations\"],[\"Singapore\",\"# Citations\"],[\"Bahrain\",\"# Citations\"],[\"Hong Kong\",\"# Citations\"],[\"Slovakia\",\"# Citations\"],[\"Tunisia\",\"# Citations\"],[\"Malta\",\"# Citations\"],[\"South Korea\",\"# Citations\"],[\"Egypt\",\"# Citations\"],[\"Austria\",\"# Citations\"],[\"Senegal\",\"# Citations\"],[\"Indonesia\",\"# Citations\"],[\"Guadeloupe\",\"lel\"],[\"Guyana\",\"lel\"],[\"Kazakhstan\",\"# Citations\"],[\"Laos\",\"# Citations\"],[\"St. Kitts and Nevis\",\"# Citations\"],[\"Iraq\",\"# Citations\"],[\"Moldova\",\"# Citations\"],[\"French Guiana\",\"# Citations\"],[\"Suriname\",\"lel\"],[\"Afghanistan\",\"# Citations\"],[\"Brunei Darussalam\",\"# Citations\"],[\"Libya\",\"# Citations\"],[\"Nepal\",\"# Citations\"],[\"Panama\",\"# Citations\"],[\"Cambodia\",\"# Citations\"],[\"North Macedonia\",\"# Citations\"],[\"Ecuador\",\"# Citations\"],[\"Mali\",\"# Citations\"],[\"Cayman Islands\",\"lel\"],[\"Ethiopia\",\"# Citations\"],[\"Liberia\",\"# Citations\"],[\"Rwanda\",\"# Citations\"],[\"Grenada\",\"# Citations\"],[\"Liechtenstein\",\"# Citations\"],[\"Guatemala\",\"# Citations\"],[\"Monaco\",\"# Citations\"],[\"Vietnam\",\"# Citations\"],[\"Gambia\",\"# Citations\"],[\"Namibia\",\"# Citations\"],[\"Paraguay\",\"# Citations\"],[\"Botswana\",\"# Citations\"],[\"Timor-Leste\",\"lel\"],[\"Vanuatu\",\"# Citations\"],[\"Burundi\",\"# Citations\"],[\"Burkina Faso\",\"lel\"],[\"Greenland\",\"# Citations\"],[\"Falkland Islands\",\"# Citations\"],[\"Palestine\",\"# Citations\"],[\"Sudan\",\"# Citations\"],[\"Bosnia and Herzegovina\",\"# Citations\"],[\"Curacao\",\"lel\"],[\"Congo Republic\",\"lel\"],[\"Uzbekistan\",\"# Citations\"],[\"Dominica\",\"# Citations\"],[\"Bermuda\",\"# Citations\"],[\"Eritrea\",\"lel\"],[\"Tajikistan\",\"lel\"],[\"Fiji\",\"# Citations\"],[\"Zimbabwe\",\"# Citations\"],[\"Lesotho\",\"# Citations\"],[\"Azerbaijan\",\"# Citations\"],[\"St. Vincent and the Grenadines\",\"lel\"],[\"St. Lucia\",\"lel\"],[\"Yemen\",\"# Citations\"],[\"Russia\",\"# Citations\"],[\"Guinea-Bissau\",\"# Citations\"],[\"Bahamas\",\"# Citations\"],[\"Madagascar\",\"# Citations\"],[\"Mauritius\",\"# Citations\"],[\"Benin\",\"# Citations\"],[\"Faroe Islands\",\"# Citations\"],[\"Netherlands\",\"lel\"],[\"Seychelles\",\"# Citations\"],[\"Cote d'Ivoire\",\"# Citations\"],[\"Zambia\",\"# Citations\"],[\"Kiribati\",\"# Citations\"],[\"Syria\",\"# Citations\"],[\"St. Helena\",\"lel\"],[\"Honduras\",\"# Citations\"],[\"French Polynesia\",\"# Citations\"],[\"Martinique\",\"# Citations\"],[\"Haiti\",\"# Citations\"],[\"Czech Republic\",\"# Citations\"],[\"Mongolia\",\"# Citations\"],[\"Sierra Leone\",\"# Citations\"],[\"Anguilla\",\"# Citations\"],[\"Dominican Republic\",\"# Citations\"],[\"Kyrgyz Republic\",\"# Citations\"],[\"Mauritania\",\"# Citations\"],[\"DR Congo\",\"# Citations\"]],\"geo\":\"geo\",\"hovertemplate\":\"metric=nc<br>code=%{location}<br>country=%{customdata[0]}<br>metric_name=%{customdata[1]}<br>median=%{z}<extra></extra>\",\"locations\":[\"USA\",\"LTU\",\"CAN\",\"AUS\",\"GRC\",\"MAR\",\"BEL\",\"RUS\",\"IND\",\"MEX\",\"JOR\",\"LUX\",\"TZA\",\"EST\",\"BGD\",\"PAK\",\"PRT\",\"KWT\",\"MYS\",\"CMR\",\"BRA\",\"SRB\",\"FIN\",\"ITA\",\"HRV\",\"SVN\",\"IRN\",\"PER\",\"CYP\",\"NGA\",\"GEO\",\"BRB\",\"DZA\",\"TTO\",\"TUR\",\"CHL\",\"BLR\",\"SAU\",\"OMN\",\"ESP\",\"ZAF\",\"ISR\",\"CHE\",\"NCL\",\"KEN\",\"ARE\",\"THA\",\"ARG\",\"JAM\",\"FRA\",\"CHN\",\"CUB\",\"URY\",\"ISL\",\"NZL\",\"GBR\",\"BGR\",\"CZE\",\"IRL\",\"DEU\",\"MNE\",\"HUN\",\"UKR\",\"POL\",\"LVA\",\"ROU\",\"NOR\",\"PHL\",\"VEN\",\"CRI\",\"NLD\",\"UGA\",\"MWI\",\"MAC\",\"ARM\",\"JPN\",\"GHA\",\"SWE\",\"TWN\",\"DNK\",\"PRI\",\"LKA\",\"LBN\",\"QAT\",\"COL\",\"SGP\",\"BHR\",\"HKG\",\"SVK\",\"TUN\",\"MLT\",\"KOR\",\"EGY\",\"AUT\",\"SEN\",\"IDN\",\"GLP\",\"GUY\",\"KAZ\",\"LAO\",\"KNA\",\"IRQ\",\"MDA\",\"GUF\",\"SUR\",\"AFG\",\"BRN\",\"LBY\",\"NPL\",\"PAN\",\"KHM\",\"MKD\",\"ECU\",\"MLI\",\"CYM\",\"ETH\",\"LBR\",\"RWA\",\"GRD\",\"LIE\",\"GTM\",\"MCO\",\"VNM\",\"GMB\",\"NAM\",\"PRY\",\"BWA\",\"TLS\",\"VUT\",\"BDI\",\"BFA\",\"GRL\",\"FLK\",\"PSE\",\"SDN\",\"BIH\",\"CUW\",\"COG\",\"UZB\",\"DMA\",\"BMU\",\"ERI\",\"TJK\",\"FJI\",\"ZWE\",\"LSO\",\"AZE\",\"VCT\",\"LCA\",\"YEM\",\"SUX\",\"GNB\",\"BHS\",\"MDG\",\"MUS\",\"BEN\",\"FRO\",\"ANT\",\"SYC\",\"CIV\",\"ZMB\",\"KIR\",\"SYR\",\"SHN\",\"HND\",\"PYF\",\"MTQ\",\"HTI\",\"SCG\",\"MNG\",\"SLE\",\"AIA\",\"DOM\",\"KGZ\",\"MRT\",\"COD\"],\"name\":\"\",\"z\":[11912.25,6148.5,9894.0,10000.0,7052.0,8790.0,13632.0,6356.5,6523.75,7336.75,4371.5,9928.75,4609.0,7869.0,6206.0,7054.0,9596.0,3611.5,8110.0,6674.0,7635.0,4433.0,10708.0,11124.0,5389.0,6847.5,6297.25,8992.0,5218.0,3677.0,16045.5,1648.0,5049.0,3233.0,4406.5,7246.0,5735.5,7372.0,3950.0,10789.25,7812.0,7903.25,12674.0,6489.5,9455.5,5744.0,6280.0,7110.0,10833.5,10986.5,11291.0,4801.0,7431.0,10115.0,7242.0,10265.0,4840.25,6664.0,10020.0,11776.0,3238.75,6910.5,4442.75,5450.75,4995.0,5139.0,7847.0,9211.0,4424.5,6767.0,13783.5,14013.5,7526.25,9031.5,30682.25,10482.0,8559.0,10048.75,6768.0,10662.0,16519.0,6170.0,6234.0,7763.0,9928.0,12373.0,4967.75,11531.0,5612.5,4846.0,6019.0,9174.0,3622.0,10310.0,9613.75,5269.75,0.0,0.0,3947.0,6422.0,6423.0,3162.5,8643.0,4827.5,0.0,981.0,4587.25,1568.0,4911.0,8927.0,7125.0,4168.75,4869.25,22183.0,0.0,8362.25,18052.0,7243.5,3920.0,5340.0,4992.25,34955.0,5473.25,24668.0,6172.5,6452.25,3305.0,0.0,2217.75,1885.0,0.0,6130.0,3569.0,3305.75,3522.0,2943.0,0.0,0.0,4120.0,3601.0,20837.25,0.0,0.0,2887.0,3624.25,697.0,1355.5,0.0,0.0,1932.0,2622.0,23062.0,3845.0,8717.0,4041.0,5729.0,9217.25,0.0,4845.0,1316.0,7866.25,1340.5,1498.75,0.0,13100.0,8465.0,5398.0,1728.0,1235.0,3408.0,1925.0,43285.0,7599.0,8497.0,3056.0,1139.5],\"type\":\"choropleth\"}],                        {\"template\":{\"data\":{\"histogram2dcontour\":[{\"type\":\"histogram2dcontour\",\"colorbar\":{\"outlinewidth\":0,\"ticks\":\"\"},\"colorscale\":[[0.0,\"#0d0887\"],[0.1111111111111111,\"#46039f\"],[0.2222222222222222,\"#7201a8\"],[0.3333333333333333,\"#9c179e\"],[0.4444444444444444,\"#bd3786\"],[0.5555555555555556,\"#d8576b\"],[0.6666666666666666,\"#ed7953\"],[0.7777777777777778,\"#fb9f3a\"],[0.8888888888888888,\"#fdca26\"],[1.0,\"#f0f921\"]]}],\"choropleth\":[{\"type\":\"choropleth\",\"colorbar\":{\"outlinewidth\":0,\"ticks\":\"\"}}],\"histogram2d\":[{\"type\":\"histogram2d\",\"colorbar\":{\"outlinewidth\":0,\"ticks\":\"\"},\"colorscale\":[[0.0,\"#0d0887\"],[0.1111111111111111,\"#46039f\"],[0.2222222222222222,\"#7201a8\"],[0.3333333333333333,\"#9c179e\"],[0.4444444444444444,\"#bd3786\"],[0.5555555555555556,\"#d8576b\"],[0.6666666666666666,\"#ed7953\"],[0.7777777777777778,\"#fb9f3a\"],[0.8888888888888888,\"#fdca26\"],[1.0,\"#f0f921\"]]}],\"heatmap\":[{\"type\":\"heatmap\",\"colorbar\":{\"outlinewidth\":0,\"ticks\":\"\"},\"colorscale\":[[0.0,\"#0d0887\"],[0.1111111111111111,\"#46039f\"],[0.2222222222222222,\"#7201a8\"],[0.3333333333333333,\"#9c179e\"],[0.4444444444444444,\"#bd3786\"],[0.5555555555555556,\"#d8576b\"],[0.6666666666666666,\"#ed7953\"],[0.7777777777777778,\"#fb9f3a\"],[0.8888888888888888,\"#fdca26\"],[1.0,\"#f0f921\"]]}],\"heatmapgl\":[{\"type\":\"heatmapgl\",\"colorbar\":{\"outlinewidth\":0,\"ticks\":\"\"},\"colorscale\":[[0.0,\"#0d0887\"],[0.1111111111111111,\"#46039f\"],[0.2222222222222222,\"#7201a8\"],[0.3333333333333333,\"#9c179e\"],[0.4444444444444444,\"#bd3786\"],[0.5555555555555556,\"#d8576b\"],[0.6666666666666666,\"#ed7953\"],[0.7777777777777778,\"#fb9f3a\"],[0.8888888888888888,\"#fdca26\"],[1.0,\"#f0f921\"]]}],\"contourcarpet\":[{\"type\":\"contourcarpet\",\"colorbar\":{\"outlinewidth\":0,\"ticks\":\"\"}}],\"contour\":[{\"type\":\"contour\",\"colorbar\":{\"outlinewidth\":0,\"ticks\":\"\"},\"colorscale\":[[0.0,\"#0d0887\"],[0.1111111111111111,\"#46039f\"],[0.2222222222222222,\"#7201a8\"],[0.3333333333333333,\"#9c179e\"],[0.4444444444444444,\"#bd3786\"],[0.5555555555555556,\"#d8576b\"],[0.6666666666666666,\"#ed7953\"],[0.7777777777777778,\"#fb9f3a\"],[0.8888888888888888,\"#fdca26\"],[1.0,\"#f0f921\"]]}],\"surface\":[{\"type\":\"surface\",\"colorbar\":{\"outlinewidth\":0,\"ticks\":\"\"},\"colorscale\":[[0.0,\"#0d0887\"],[0.1111111111111111,\"#46039f\"],[0.2222222222222222,\"#7201a8\"],[0.3333333333333333,\"#9c179e\"],[0.4444444444444444,\"#bd3786\"],[0.5555555555555556,\"#d8576b\"],[0.6666666666666666,\"#ed7953\"],[0.7777777777777778,\"#fb9f3a\"],[0.8888888888888888,\"#fdca26\"],[1.0,\"#f0f921\"]]}],\"mesh3d\":[{\"type\":\"mesh3d\",\"colorbar\":{\"outlinewidth\":0,\"ticks\":\"\"}}],\"scatter\":[{\"fillpattern\":{\"fillmode\":\"overlay\",\"size\":10,\"solidity\":0.2},\"type\":\"scatter\"}],\"parcoords\":[{\"type\":\"parcoords\",\"line\":{\"colorbar\":{\"outlinewidth\":0,\"ticks\":\"\"}}}],\"scatterpolargl\":[{\"type\":\"scatterpolargl\",\"marker\":{\"colorbar\":{\"outlinewidth\":0,\"ticks\":\"\"}}}],\"bar\":[{\"error_x\":{\"color\":\"#2a3f5f\"},\"error_y\":{\"color\":\"#2a3f5f\"},\"marker\":{\"line\":{\"color\":\"#E5ECF6\",\"width\":0.5},\"pattern\":{\"fillmode\":\"overlay\",\"size\":10,\"solidity\":0.2}},\"type\":\"bar\"}],\"scattergeo\":[{\"type\":\"scattergeo\",\"marker\":{\"colorbar\":{\"outlinewidth\":0,\"ticks\":\"\"}}}],\"scatterpolar\":[{\"type\":\"scatterpolar\",\"marker\":{\"colorbar\":{\"outlinewidth\":0,\"ticks\":\"\"}}}],\"histogram\":[{\"marker\":{\"pattern\":{\"fillmode\":\"overlay\",\"size\":10,\"solidity\":0.2}},\"type\":\"histogram\"}],\"scattergl\":[{\"type\":\"scattergl\",\"marker\":{\"colorbar\":{\"outlinewidth\":0,\"ticks\":\"\"}}}],\"scatter3d\":[{\"type\":\"scatter3d\",\"line\":{\"colorbar\":{\"outlinewidth\":0,\"ticks\":\"\"}},\"marker\":{\"colorbar\":{\"outlinewidth\":0,\"ticks\":\"\"}}}],\"scattermapbox\":[{\"type\":\"scattermapbox\",\"marker\":{\"colorbar\":{\"outlinewidth\":0,\"ticks\":\"\"}}}],\"scatterternary\":[{\"type\":\"scatterternary\",\"marker\":{\"colorbar\":{\"outlinewidth\":0,\"ticks\":\"\"}}}],\"scattercarpet\":[{\"type\":\"scattercarpet\",\"marker\":{\"colorbar\":{\"outlinewidth\":0,\"ticks\":\"\"}}}],\"carpet\":[{\"aaxis\":{\"endlinecolor\":\"#2a3f5f\",\"gridcolor\":\"white\",\"linecolor\":\"white\",\"minorgridcolor\":\"white\",\"startlinecolor\":\"#2a3f5f\"},\"baxis\":{\"endlinecolor\":\"#2a3f5f\",\"gridcolor\":\"white\",\"linecolor\":\"white\",\"minorgridcolor\":\"white\",\"startlinecolor\":\"#2a3f5f\"},\"type\":\"carpet\"}],\"table\":[{\"cells\":{\"fill\":{\"color\":\"#EBF0F8\"},\"line\":{\"color\":\"white\"}},\"header\":{\"fill\":{\"color\":\"#C8D4E3\"},\"line\":{\"color\":\"white\"}},\"type\":\"table\"}],\"barpolar\":[{\"marker\":{\"line\":{\"color\":\"#E5ECF6\",\"width\":0.5},\"pattern\":{\"fillmode\":\"overlay\",\"size\":10,\"solidity\":0.2}},\"type\":\"barpolar\"}],\"pie\":[{\"automargin\":true,\"type\":\"pie\"}]},\"layout\":{\"autotypenumbers\":\"strict\",\"colorway\":[\"#636efa\",\"#EF553B\",\"#00cc96\",\"#ab63fa\",\"#FFA15A\",\"#19d3f3\",\"#FF6692\",\"#B6E880\",\"#FF97FF\",\"#FECB52\"],\"font\":{\"color\":\"#2a3f5f\"},\"hovermode\":\"closest\",\"hoverlabel\":{\"align\":\"left\"},\"paper_bgcolor\":\"white\",\"plot_bgcolor\":\"#E5ECF6\",\"polar\":{\"bgcolor\":\"#E5ECF6\",\"angularaxis\":{\"gridcolor\":\"white\",\"linecolor\":\"white\",\"ticks\":\"\"},\"radialaxis\":{\"gridcolor\":\"white\",\"linecolor\":\"white\",\"ticks\":\"\"}},\"ternary\":{\"bgcolor\":\"#E5ECF6\",\"aaxis\":{\"gridcolor\":\"white\",\"linecolor\":\"white\",\"ticks\":\"\"},\"baxis\":{\"gridcolor\":\"white\",\"linecolor\":\"white\",\"ticks\":\"\"},\"caxis\":{\"gridcolor\":\"white\",\"linecolor\":\"white\",\"ticks\":\"\"}},\"coloraxis\":{\"colorbar\":{\"outlinewidth\":0,\"ticks\":\"\"}},\"colorscale\":{\"sequential\":[[0.0,\"#0d0887\"],[0.1111111111111111,\"#46039f\"],[0.2222222222222222,\"#7201a8\"],[0.3333333333333333,\"#9c179e\"],[0.4444444444444444,\"#bd3786\"],[0.5555555555555556,\"#d8576b\"],[0.6666666666666666,\"#ed7953\"],[0.7777777777777778,\"#fb9f3a\"],[0.8888888888888888,\"#fdca26\"],[1.0,\"#f0f921\"]],\"sequentialminus\":[[0.0,\"#0d0887\"],[0.1111111111111111,\"#46039f\"],[0.2222222222222222,\"#7201a8\"],[0.3333333333333333,\"#9c179e\"],[0.4444444444444444,\"#bd3786\"],[0.5555555555555556,\"#d8576b\"],[0.6666666666666666,\"#ed7953\"],[0.7777777777777778,\"#fb9f3a\"],[0.8888888888888888,\"#fdca26\"],[1.0,\"#f0f921\"]],\"diverging\":[[0,\"#8e0152\"],[0.1,\"#c51b7d\"],[0.2,\"#de77ae\"],[0.3,\"#f1b6da\"],[0.4,\"#fde0ef\"],[0.5,\"#f7f7f7\"],[0.6,\"#e6f5d0\"],[0.7,\"#b8e186\"],[0.8,\"#7fbc41\"],[0.9,\"#4d9221\"],[1,\"#276419\"]]},\"xaxis\":{\"gridcolor\":\"white\",\"linecolor\":\"white\",\"ticks\":\"\",\"title\":{\"standoff\":15},\"zerolinecolor\":\"white\",\"automargin\":true,\"zerolinewidth\":2},\"yaxis\":{\"gridcolor\":\"white\",\"linecolor\":\"white\",\"ticks\":\"\",\"title\":{\"standoff\":15},\"zerolinecolor\":\"white\",\"automargin\":true,\"zerolinewidth\":2},\"scene\":{\"xaxis\":{\"backgroundcolor\":\"#E5ECF6\",\"gridcolor\":\"white\",\"linecolor\":\"white\",\"showbackground\":true,\"ticks\":\"\",\"zerolinecolor\":\"white\",\"gridwidth\":2},\"yaxis\":{\"backgroundcolor\":\"#E5ECF6\",\"gridcolor\":\"white\",\"linecolor\":\"white\",\"showbackground\":true,\"ticks\":\"\",\"zerolinecolor\":\"white\",\"gridwidth\":2},\"zaxis\":{\"backgroundcolor\":\"#E5ECF6\",\"gridcolor\":\"white\",\"linecolor\":\"white\",\"showbackground\":true,\"ticks\":\"\",\"zerolinecolor\":\"white\",\"gridwidth\":2}},\"shapedefaults\":{\"line\":{\"color\":\"#2a3f5f\"}},\"annotationdefaults\":{\"arrowcolor\":\"#2a3f5f\",\"arrowhead\":0,\"arrowwidth\":1},\"geo\":{\"bgcolor\":\"white\",\"landcolor\":\"#E5ECF6\",\"subunitcolor\":\"white\",\"showland\":true,\"showlakes\":true,\"lakecolor\":\"white\"},\"title\":{\"x\":0.05},\"mapbox\":{\"style\":\"light\"}}},\"geo\":{\"domain\":{\"x\":[0.0,1.0],\"y\":[0.0,1.0]},\"center\":{}},\"coloraxis\":{\"colorbar\":{\"title\":{\"text\":\"median\"},\"thickness\":23},\"colorscale\":[[0.0,\"#440154\"],[0.1111111111111111,\"#482878\"],[0.2222222222222222,\"#3e4989\"],[0.3333333333333333,\"#31688e\"],[0.4444444444444444,\"#26828e\"],[0.5555555555555556,\"#1f9e89\"],[0.6666666666666666,\"#35b779\"],[0.7777777777777778,\"#6ece58\"],[0.8888888888888888,\"#b5de2b\"],[1.0,\"#fde725\"]],\"cmin\":0,\"cmax\":15000},\"legend\":{\"tracegroupgap\":0},\"margin\":{\"t\":60},\"updatemenus\":[{\"buttons\":[{\"args\":[null,{\"frame\":{\"duration\":500,\"redraw\":true},\"mode\":\"immediate\",\"fromcurrent\":true,\"transition\":{\"duration\":500,\"easing\":\"linear\"}}],\"label\":\"&#9654;\",\"method\":\"animate\"},{\"args\":[[null],{\"frame\":{\"duration\":0,\"redraw\":true},\"mode\":\"immediate\",\"fromcurrent\":true,\"transition\":{\"duration\":0,\"easing\":\"linear\"}}],\"label\":\"&#9724;\",\"method\":\"animate\"}],\"direction\":\"left\",\"pad\":{\"r\":10,\"t\":70},\"showactive\":false,\"type\":\"buttons\",\"x\":0.1,\"xanchor\":\"right\",\"y\":0,\"yanchor\":\"top\"}],\"sliders\":[{\"active\":0,\"currentvalue\":{\"prefix\":\"metric=\"},\"len\":0.9,\"pad\":{\"b\":10,\"t\":60},\"steps\":[{\"args\":[[\"nc\"],{\"frame\":{\"duration\":0,\"redraw\":true},\"mode\":\"immediate\",\"fromcurrent\":true,\"transition\":{\"duration\":0,\"easing\":\"linear\"}}],\"label\":\"nc\",\"method\":\"animate\"},{\"args\":[[\"h\"],{\"frame\":{\"duration\":0,\"redraw\":true},\"mode\":\"immediate\",\"fromcurrent\":true,\"transition\":{\"duration\":0,\"easing\":\"linear\"}}],\"label\":\"h\",\"method\":\"animate\"},{\"args\":[[\"hm\"],{\"frame\":{\"duration\":0,\"redraw\":true},\"mode\":\"immediate\",\"fromcurrent\":true,\"transition\":{\"duration\":0,\"easing\":\"linear\"}}],\"label\":\"hm\",\"method\":\"animate\"},{\"args\":[[\"ncs\"],{\"frame\":{\"duration\":0,\"redraw\":true},\"mode\":\"immediate\",\"fromcurrent\":true,\"transition\":{\"duration\":0,\"easing\":\"linear\"}}],\"label\":\"ncs\",\"method\":\"animate\"},{\"args\":[[\"ncsf\"],{\"frame\":{\"duration\":0,\"redraw\":true},\"mode\":\"immediate\",\"fromcurrent\":true,\"transition\":{\"duration\":0,\"easing\":\"linear\"}}],\"label\":\"ncsf\",\"method\":\"animate\"},{\"args\":[[\"ncsfl\"],{\"frame\":{\"duration\":0,\"redraw\":true},\"mode\":\"immediate\",\"fromcurrent\":true,\"transition\":{\"duration\":0,\"easing\":\"linear\"}}],\"label\":\"ncsfl\",\"method\":\"animate\"},{\"args\":[[\"c\"],{\"frame\":{\"duration\":0,\"redraw\":true},\"mode\":\"immediate\",\"fromcurrent\":true,\"transition\":{\"duration\":0,\"easing\":\"linear\"}}],\"label\":\"c\",\"method\":\"animate\"},{\"args\":[[\"np\"],{\"frame\":{\"duration\":0,\"redraw\":true},\"mode\":\"immediate\",\"fromcurrent\":true,\"transition\":{\"duration\":0,\"easing\":\"linear\"}}],\"label\":\"np\",\"method\":\"animate\"}],\"x\":0.1,\"xanchor\":\"left\",\"y\":0,\"yanchor\":\"top\"}],\"width\":800,\"height\":800},                        {\"responsive\": true}                    ).then(function(){\n",
       "                            Plotly.addFrames('dc88faec-429f-4662-80b9-95b52ab764d2', [{\"data\":[{\"coloraxis\":\"coloraxis\",\"customdata\":[[\"United States\",\"# Citations\"],[\"Lithuania\",\"# Citations\"],[\"Canada\",\"# Citations\"],[\"Australia\",\"# Citations\"],[\"Greece\",\"# Citations\"],[\"Morocco\",\"# Citations\"],[\"Belgium\",\"# Citations\"],[\"Russia\",\"# Citations\"],[\"India\",\"# Citations\"],[\"Mexico\",\"# Citations\"],[\"Jordan\",\"# Citations\"],[\"Luxembourg\",\"# Citations\"],[\"Tanzania\",\"# Citations\"],[\"Estonia\",\"# Citations\"],[\"Bangladesh\",\"# Citations\"],[\"Pakistan\",\"# Citations\"],[\"Portugal\",\"# Citations\"],[\"Kuwait\",\"# Citations\"],[\"Malaysia\",\"# Citations\"],[\"Cameroon\",\"# Citations\"],[\"Brazil\",\"# Citations\"],[\"Serbia\",\"# Citations\"],[\"Finland\",\"# Citations\"],[\"Italy\",\"# Citations\"],[\"Croatia\",\"# Citations\"],[\"Slovenia\",\"# Citations\"],[\"Iran\",\"# Citations\"],[\"Peru\",\"# Citations\"],[\"Cyprus\",\"# Citations\"],[\"Nigeria\",\"# Citations\"],[\"Georgia\",\"# Citations\"],[\"Barbados\",\"# Citations\"],[\"Algeria\",\"# Citations\"],[\"Trinidad and Tobago\",\"# Citations\"],[\"T\\u00fcrkiye\",\"# Citations\"],[\"Chile\",\"# Citations\"],[\"Belarus\",\"# Citations\"],[\"Saudi Arabia\",\"# Citations\"],[\"Oman\",\"# Citations\"],[\"Spain\",\"# Citations\"],[\"South Africa\",\"# Citations\"],[\"Israel\",\"# Citations\"],[\"Switzerland\",\"# Citations\"],[\"New Caledonia\",\"# Citations\"],[\"Kenya\",\"# Citations\"],[\"United Arab Emirates\",\"# Citations\"],[\"Thailand\",\"# Citations\"],[\"Argentina\",\"# Citations\"],[\"Jamaica\",\"# Citations\"],[\"France\",\"# Citations\"],[\"China\",\"# Citations\"],[\"Cuba\",\"# Citations\"],[\"Uruguay\",\"# Citations\"],[\"Iceland\",\"# Citations\"],[\"New Zealand\",\"# Citations\"],[\"United Kingdom\",\"# Citations\"],[\"Bulgaria\",\"# Citations\"],[\"Czechia\",\"# Citations\"],[\"Ireland\",\"# Citations\"],[\"Germany\",\"# Citations\"],[\"Montenegro\",\"# Citations\"],[\"Hungary\",\"# Citations\"],[\"Ukraine\",\"# Citations\"],[\"Poland\",\"# Citations\"],[\"Latvia\",\"# Citations\"],[\"Romania\",\"# Citations\"],[\"Norway\",\"# Citations\"],[\"Philippines\",\"# Citations\"],[\"Venezuela\",\"# Citations\"],[\"Costa Rica\",\"# Citations\"],[\"Netherlands\",\"# Citations\"],[\"Uganda\",\"# Citations\"],[\"Malawi\",\"# Citations\"],[\"Macau\",\"# Citations\"],[\"Armenia\",\"# Citations\"],[\"Japan\",\"# Citations\"],[\"Ghana\",\"# Citations\"],[\"Sweden\",\"# Citations\"],[\"Taiwan\",\"# Citations\"],[\"Denmark\",\"# Citations\"],[\"Puerto Rico\",\"# Citations\"],[\"Sri Lanka\",\"# Citations\"],[\"Lebanon\",\"# Citations\"],[\"Qatar\",\"# Citations\"],[\"Colombia\",\"# Citations\"],[\"Singapore\",\"# Citations\"],[\"Bahrain\",\"# Citations\"],[\"Hong Kong\",\"# Citations\"],[\"Slovakia\",\"# Citations\"],[\"Tunisia\",\"# Citations\"],[\"Malta\",\"# Citations\"],[\"South Korea\",\"# Citations\"],[\"Egypt\",\"# Citations\"],[\"Austria\",\"# Citations\"],[\"Senegal\",\"# Citations\"],[\"Indonesia\",\"# Citations\"],[\"Guadeloupe\",\"lel\"],[\"Guyana\",\"lel\"],[\"Kazakhstan\",\"# Citations\"],[\"Laos\",\"# Citations\"],[\"St. Kitts and Nevis\",\"# Citations\"],[\"Iraq\",\"# Citations\"],[\"Moldova\",\"# Citations\"],[\"French Guiana\",\"# Citations\"],[\"Suriname\",\"lel\"],[\"Afghanistan\",\"# Citations\"],[\"Brunei Darussalam\",\"# Citations\"],[\"Libya\",\"# Citations\"],[\"Nepal\",\"# Citations\"],[\"Panama\",\"# Citations\"],[\"Cambodia\",\"# Citations\"],[\"North Macedonia\",\"# Citations\"],[\"Ecuador\",\"# Citations\"],[\"Mali\",\"# Citations\"],[\"Cayman Islands\",\"lel\"],[\"Ethiopia\",\"# Citations\"],[\"Liberia\",\"# Citations\"],[\"Rwanda\",\"# Citations\"],[\"Grenada\",\"# Citations\"],[\"Liechtenstein\",\"# Citations\"],[\"Guatemala\",\"# Citations\"],[\"Monaco\",\"# Citations\"],[\"Vietnam\",\"# Citations\"],[\"Gambia\",\"# Citations\"],[\"Namibia\",\"# Citations\"],[\"Paraguay\",\"# Citations\"],[\"Botswana\",\"# Citations\"],[\"Timor-Leste\",\"lel\"],[\"Vanuatu\",\"# Citations\"],[\"Burundi\",\"# Citations\"],[\"Burkina Faso\",\"lel\"],[\"Greenland\",\"# Citations\"],[\"Falkland Islands\",\"# Citations\"],[\"Palestine\",\"# Citations\"],[\"Sudan\",\"# Citations\"],[\"Bosnia and Herzegovina\",\"# Citations\"],[\"Curacao\",\"lel\"],[\"Congo Republic\",\"lel\"],[\"Uzbekistan\",\"# Citations\"],[\"Dominica\",\"# Citations\"],[\"Bermuda\",\"# Citations\"],[\"Eritrea\",\"lel\"],[\"Tajikistan\",\"lel\"],[\"Fiji\",\"# Citations\"],[\"Zimbabwe\",\"# Citations\"],[\"Lesotho\",\"# Citations\"],[\"Azerbaijan\",\"# Citations\"],[\"St. Vincent and the Grenadines\",\"lel\"],[\"St. Lucia\",\"lel\"],[\"Yemen\",\"# Citations\"],[\"Russia\",\"# Citations\"],[\"Guinea-Bissau\",\"# Citations\"],[\"Bahamas\",\"# Citations\"],[\"Madagascar\",\"# Citations\"],[\"Mauritius\",\"# Citations\"],[\"Benin\",\"# Citations\"],[\"Faroe Islands\",\"# Citations\"],[\"Netherlands\",\"lel\"],[\"Seychelles\",\"# Citations\"],[\"Cote d'Ivoire\",\"# Citations\"],[\"Zambia\",\"# Citations\"],[\"Kiribati\",\"# Citations\"],[\"Syria\",\"# Citations\"],[\"St. Helena\",\"lel\"],[\"Honduras\",\"# Citations\"],[\"French Polynesia\",\"# Citations\"],[\"Martinique\",\"# Citations\"],[\"Haiti\",\"# Citations\"],[\"Czech Republic\",\"# Citations\"],[\"Mongolia\",\"# Citations\"],[\"Sierra Leone\",\"# Citations\"],[\"Anguilla\",\"# Citations\"],[\"Dominican Republic\",\"# Citations\"],[\"Kyrgyz Republic\",\"# Citations\"],[\"Mauritania\",\"# Citations\"],[\"DR Congo\",\"# Citations\"]],\"geo\":\"geo\",\"hovertemplate\":\"metric=nc<br>code=%{location}<br>country=%{customdata[0]}<br>metric_name=%{customdata[1]}<br>median=%{z}<extra></extra>\",\"locations\":[\"USA\",\"LTU\",\"CAN\",\"AUS\",\"GRC\",\"MAR\",\"BEL\",\"RUS\",\"IND\",\"MEX\",\"JOR\",\"LUX\",\"TZA\",\"EST\",\"BGD\",\"PAK\",\"PRT\",\"KWT\",\"MYS\",\"CMR\",\"BRA\",\"SRB\",\"FIN\",\"ITA\",\"HRV\",\"SVN\",\"IRN\",\"PER\",\"CYP\",\"NGA\",\"GEO\",\"BRB\",\"DZA\",\"TTO\",\"TUR\",\"CHL\",\"BLR\",\"SAU\",\"OMN\",\"ESP\",\"ZAF\",\"ISR\",\"CHE\",\"NCL\",\"KEN\",\"ARE\",\"THA\",\"ARG\",\"JAM\",\"FRA\",\"CHN\",\"CUB\",\"URY\",\"ISL\",\"NZL\",\"GBR\",\"BGR\",\"CZE\",\"IRL\",\"DEU\",\"MNE\",\"HUN\",\"UKR\",\"POL\",\"LVA\",\"ROU\",\"NOR\",\"PHL\",\"VEN\",\"CRI\",\"NLD\",\"UGA\",\"MWI\",\"MAC\",\"ARM\",\"JPN\",\"GHA\",\"SWE\",\"TWN\",\"DNK\",\"PRI\",\"LKA\",\"LBN\",\"QAT\",\"COL\",\"SGP\",\"BHR\",\"HKG\",\"SVK\",\"TUN\",\"MLT\",\"KOR\",\"EGY\",\"AUT\",\"SEN\",\"IDN\",\"GLP\",\"GUY\",\"KAZ\",\"LAO\",\"KNA\",\"IRQ\",\"MDA\",\"GUF\",\"SUR\",\"AFG\",\"BRN\",\"LBY\",\"NPL\",\"PAN\",\"KHM\",\"MKD\",\"ECU\",\"MLI\",\"CYM\",\"ETH\",\"LBR\",\"RWA\",\"GRD\",\"LIE\",\"GTM\",\"MCO\",\"VNM\",\"GMB\",\"NAM\",\"PRY\",\"BWA\",\"TLS\",\"VUT\",\"BDI\",\"BFA\",\"GRL\",\"FLK\",\"PSE\",\"SDN\",\"BIH\",\"CUW\",\"COG\",\"UZB\",\"DMA\",\"BMU\",\"ERI\",\"TJK\",\"FJI\",\"ZWE\",\"LSO\",\"AZE\",\"VCT\",\"LCA\",\"YEM\",\"SUX\",\"GNB\",\"BHS\",\"MDG\",\"MUS\",\"BEN\",\"FRO\",\"ANT\",\"SYC\",\"CIV\",\"ZMB\",\"KIR\",\"SYR\",\"SHN\",\"HND\",\"PYF\",\"MTQ\",\"HTI\",\"SCG\",\"MNG\",\"SLE\",\"AIA\",\"DOM\",\"KGZ\",\"MRT\",\"COD\"],\"name\":\"\",\"z\":[11912.25,6148.5,9894.0,10000.0,7052.0,8790.0,13632.0,6356.5,6523.75,7336.75,4371.5,9928.75,4609.0,7869.0,6206.0,7054.0,9596.0,3611.5,8110.0,6674.0,7635.0,4433.0,10708.0,11124.0,5389.0,6847.5,6297.25,8992.0,5218.0,3677.0,16045.5,1648.0,5049.0,3233.0,4406.5,7246.0,5735.5,7372.0,3950.0,10789.25,7812.0,7903.25,12674.0,6489.5,9455.5,5744.0,6280.0,7110.0,10833.5,10986.5,11291.0,4801.0,7431.0,10115.0,7242.0,10265.0,4840.25,6664.0,10020.0,11776.0,3238.75,6910.5,4442.75,5450.75,4995.0,5139.0,7847.0,9211.0,4424.5,6767.0,13783.5,14013.5,7526.25,9031.5,30682.25,10482.0,8559.0,10048.75,6768.0,10662.0,16519.0,6170.0,6234.0,7763.0,9928.0,12373.0,4967.75,11531.0,5612.5,4846.0,6019.0,9174.0,3622.0,10310.0,9613.75,5269.75,0.0,0.0,3947.0,6422.0,6423.0,3162.5,8643.0,4827.5,0.0,981.0,4587.25,1568.0,4911.0,8927.0,7125.0,4168.75,4869.25,22183.0,0.0,8362.25,18052.0,7243.5,3920.0,5340.0,4992.25,34955.0,5473.25,24668.0,6172.5,6452.25,3305.0,0.0,2217.75,1885.0,0.0,6130.0,3569.0,3305.75,3522.0,2943.0,0.0,0.0,4120.0,3601.0,20837.25,0.0,0.0,2887.0,3624.25,697.0,1355.5,0.0,0.0,1932.0,2622.0,23062.0,3845.0,8717.0,4041.0,5729.0,9217.25,0.0,4845.0,1316.0,7866.25,1340.5,1498.75,0.0,13100.0,8465.0,5398.0,1728.0,1235.0,3408.0,1925.0,43285.0,7599.0,8497.0,3056.0,1139.5],\"type\":\"choropleth\"}],\"name\":\"nc\"},{\"data\":[{\"coloraxis\":\"coloraxis\",\"customdata\":[[\"United States\",\"H-index\"],[\"Lithuania\",\"H-index\"],[\"Canada\",\"H-index\"],[\"Australia\",\"H-index\"],[\"Greece\",\"H-index\"],[\"Morocco\",\"H-index\"],[\"Belgium\",\"H-index\"],[\"Russia\",\"H-index\"],[\"India\",\"H-index\"],[\"Mexico\",\"H-index\"],[\"Jordan\",\"H-index\"],[\"Luxembourg\",\"H-index\"],[\"Tanzania\",\"H-index\"],[\"Estonia\",\"H-index\"],[\"Bangladesh\",\"H-index\"],[\"Pakistan\",\"H-index\"],[\"Portugal\",\"H-index\"],[\"Kuwait\",\"H-index\"],[\"Malaysia\",\"H-index\"],[\"Cameroon\",\"H-index\"],[\"Brazil\",\"H-index\"],[\"Serbia\",\"H-index\"],[\"Finland\",\"H-index\"],[\"Italy\",\"H-index\"],[\"Croatia\",\"H-index\"],[\"Slovenia\",\"H-index\"],[\"Iran\",\"H-index\"],[\"Peru\",\"H-index\"],[\"Cyprus\",\"H-index\"],[\"Nigeria\",\"H-index\"],[\"Georgia\",\"H-index\"],[\"Barbados\",\"H-index\"],[\"Algeria\",\"H-index\"],[\"Trinidad and Tobago\",\"H-index\"],[\"T\\u00fcrkiye\",\"H-index\"],[\"Chile\",\"H-index\"],[\"Belarus\",\"H-index\"],[\"Saudi Arabia\",\"H-index\"],[\"Oman\",\"H-index\"],[\"Spain\",\"H-index\"],[\"South Africa\",\"H-index\"],[\"Israel\",\"H-index\"],[\"Switzerland\",\"H-index\"],[\"New Caledonia\",\"H-index\"],[\"Kenya\",\"H-index\"],[\"United Arab Emirates\",\"H-index\"],[\"Thailand\",\"H-index\"],[\"Argentina\",\"H-index\"],[\"Jamaica\",\"H-index\"],[\"France\",\"H-index\"],[\"China\",\"H-index\"],[\"Cuba\",\"H-index\"],[\"Uruguay\",\"H-index\"],[\"Iceland\",\"H-index\"],[\"New Zealand\",\"H-index\"],[\"United Kingdom\",\"H-index\"],[\"Bulgaria\",\"H-index\"],[\"Czechia\",\"H-index\"],[\"Ireland\",\"H-index\"],[\"Germany\",\"H-index\"],[\"Montenegro\",\"H-index\"],[\"Hungary\",\"H-index\"],[\"Ukraine\",\"H-index\"],[\"Poland\",\"H-index\"],[\"Latvia\",\"H-index\"],[\"Romania\",\"H-index\"],[\"Norway\",\"H-index\"],[\"Philippines\",\"H-index\"],[\"Venezuela\",\"H-index\"],[\"Costa Rica\",\"H-index\"],[\"Netherlands\",\"H-index\"],[\"Uganda\",\"H-index\"],[\"Malawi\",\"H-index\"],[\"Macau\",\"H-index\"],[\"Armenia\",\"H-index\"],[\"Japan\",\"H-index\"],[\"Ghana\",\"H-index\"],[\"Sweden\",\"H-index\"],[\"Taiwan\",\"H-index\"],[\"Denmark\",\"H-index\"],[\"Puerto Rico\",\"H-index\"],[\"Sri Lanka\",\"H-index\"],[\"Lebanon\",\"H-index\"],[\"Qatar\",\"H-index\"],[\"Colombia\",\"H-index\"],[\"Singapore\",\"H-index\"],[\"Bahrain\",\"H-index\"],[\"Hong Kong\",\"H-index\"],[\"Slovakia\",\"H-index\"],[\"Tunisia\",\"H-index\"],[\"Malta\",\"H-index\"],[\"South Korea\",\"H-index\"],[\"Egypt\",\"H-index\"],[\"Austria\",\"H-index\"],[\"Senegal\",\"H-index\"],[\"Indonesia\",\"H-index\"],[\"Guadeloupe\",\"lel\"],[\"Guyana\",\"lel\"],[\"Kazakhstan\",\"H-index\"],[\"Laos\",\"H-index\"],[\"St. Kitts and Nevis\",\"H-index\"],[\"Iraq\",\"H-index\"],[\"Moldova\",\"H-index\"],[\"French Guiana\",\"H-index\"],[\"Suriname\",\"lel\"],[\"Afghanistan\",\"H-index\"],[\"Brunei Darussalam\",\"H-index\"],[\"Libya\",\"H-index\"],[\"Nepal\",\"H-index\"],[\"Panama\",\"H-index\"],[\"Cambodia\",\"H-index\"],[\"North Macedonia\",\"H-index\"],[\"Ecuador\",\"H-index\"],[\"Mali\",\"H-index\"],[\"Cayman Islands\",\"lel\"],[\"Ethiopia\",\"H-index\"],[\"Liberia\",\"H-index\"],[\"Rwanda\",\"H-index\"],[\"Grenada\",\"H-index\"],[\"Liechtenstein\",\"H-index\"],[\"Guatemala\",\"H-index\"],[\"Monaco\",\"H-index\"],[\"Vietnam\",\"H-index\"],[\"Gambia\",\"H-index\"],[\"Namibia\",\"H-index\"],[\"Paraguay\",\"H-index\"],[\"Botswana\",\"H-index\"],[\"Timor-Leste\",\"lel\"],[\"Vanuatu\",\"H-index\"],[\"Burundi\",\"H-index\"],[\"Burkina Faso\",\"lel\"],[\"Greenland\",\"H-index\"],[\"Falkland Islands\",\"H-index\"],[\"Palestine\",\"H-index\"],[\"Sudan\",\"H-index\"],[\"Bosnia and Herzegovina\",\"H-index\"],[\"Curacao\",\"lel\"],[\"Congo Republic\",\"lel\"],[\"Uzbekistan\",\"H-index\"],[\"Dominica\",\"H-index\"],[\"Bermuda\",\"H-index\"],[\"Eritrea\",\"lel\"],[\"Tajikistan\",\"lel\"],[\"Fiji\",\"H-index\"],[\"Zimbabwe\",\"H-index\"],[\"Lesotho\",\"H-index\"],[\"Azerbaijan\",\"H-index\"],[\"St. Vincent and the Grenadines\",\"lel\"],[\"St. Lucia\",\"lel\"],[\"Yemen\",\"H-index\"],[\"Russia\",\"H-index\"],[\"Guinea-Bissau\",\"H-index\"],[\"Bahamas\",\"H-index\"],[\"Madagascar\",\"H-index\"],[\"Mauritius\",\"H-index\"],[\"Benin\",\"H-index\"],[\"Faroe Islands\",\"H-index\"],[\"Netherlands\",\"lel\"],[\"Seychelles\",\"H-index\"],[\"Cote d'Ivoire\",\"H-index\"],[\"Zambia\",\"H-index\"],[\"Kiribati\",\"H-index\"],[\"Syria\",\"H-index\"],[\"St. Helena\",\"lel\"],[\"Honduras\",\"H-index\"],[\"French Polynesia\",\"H-index\"],[\"Martinique\",\"H-index\"],[\"Haiti\",\"H-index\"],[\"Czech Republic\",\"H-index\"],[\"Mongolia\",\"H-index\"],[\"Sierra Leone\",\"H-index\"],[\"Anguilla\",\"H-index\"],[\"Dominican Republic\",\"H-index\"],[\"Kyrgyz Republic\",\"H-index\"],[\"Mauritania\",\"H-index\"],[\"DR Congo\",\"H-index\"]],\"geo\":\"geo\",\"hovertemplate\":\"metric=h<br>code=%{location}<br>country=%{customdata[0]}<br>metric_name=%{customdata[1]}<br>median=%{z}<extra></extra>\",\"locations\":[\"USA\",\"LTU\",\"CAN\",\"AUS\",\"GRC\",\"MAR\",\"BEL\",\"RUS\",\"IND\",\"MEX\",\"JOR\",\"LUX\",\"TZA\",\"EST\",\"BGD\",\"PAK\",\"PRT\",\"KWT\",\"MYS\",\"CMR\",\"BRA\",\"SRB\",\"FIN\",\"ITA\",\"HRV\",\"SVN\",\"IRN\",\"PER\",\"CYP\",\"NGA\",\"GEO\",\"BRB\",\"DZA\",\"TTO\",\"TUR\",\"CHL\",\"BLR\",\"SAU\",\"OMN\",\"ESP\",\"ZAF\",\"ISR\",\"CHE\",\"NCL\",\"KEN\",\"ARE\",\"THA\",\"ARG\",\"JAM\",\"FRA\",\"CHN\",\"CUB\",\"URY\",\"ISL\",\"NZL\",\"GBR\",\"BGR\",\"CZE\",\"IRL\",\"DEU\",\"MNE\",\"HUN\",\"UKR\",\"POL\",\"LVA\",\"ROU\",\"NOR\",\"PHL\",\"VEN\",\"CRI\",\"NLD\",\"UGA\",\"MWI\",\"MAC\",\"ARM\",\"JPN\",\"GHA\",\"SWE\",\"TWN\",\"DNK\",\"PRI\",\"LKA\",\"LBN\",\"QAT\",\"COL\",\"SGP\",\"BHR\",\"HKG\",\"SVK\",\"TUN\",\"MLT\",\"KOR\",\"EGY\",\"AUT\",\"SEN\",\"IDN\",\"GLP\",\"GUY\",\"KAZ\",\"LAO\",\"KNA\",\"IRQ\",\"MDA\",\"GUF\",\"SUR\",\"AFG\",\"BRN\",\"LBY\",\"NPL\",\"PAN\",\"KHM\",\"MKD\",\"ECU\",\"MLI\",\"CYM\",\"ETH\",\"LBR\",\"RWA\",\"GRD\",\"LIE\",\"GTM\",\"MCO\",\"VNM\",\"GMB\",\"NAM\",\"PRY\",\"BWA\",\"TLS\",\"VUT\",\"BDI\",\"BFA\",\"GRL\",\"FLK\",\"PSE\",\"SDN\",\"BIH\",\"CUW\",\"COG\",\"UZB\",\"DMA\",\"BMU\",\"ERI\",\"TJK\",\"FJI\",\"ZWE\",\"LSO\",\"AZE\",\"VCT\",\"LCA\",\"YEM\",\"SUX\",\"GNB\",\"BHS\",\"MDG\",\"MUS\",\"BEN\",\"FRO\",\"ANT\",\"SYC\",\"CIV\",\"ZMB\",\"KIR\",\"SYR\",\"SHN\",\"HND\",\"PYF\",\"MTQ\",\"HTI\",\"SCG\",\"MNG\",\"SLE\",\"AIA\",\"DOM\",\"KGZ\",\"MRT\",\"COD\"],\"name\":\"\",\"z\":[53.0,38.5,49.0,49.5,43.0,49.0,57.0,40.0,41.0,45.0,31.0,47.75,42.0,45.5,39.0,43.0,49.0,32.0,46.0,41.0,45.0,33.0,53.0,53.0,39.0,42.0,42.0,49.5,38.0,30.0,63.5,23.0,36.0,33.0,35.0,42.0,34.0,44.0,34.0,53.0,44.0,43.0,55.0,45.5,46.5,37.0,40.0,42.0,48.5,52.0,54.0,40.0,46.0,49.5,43.0,50.0,33.5,42.0,50.0,54.0,30.0,40.0,35.0,37.0,35.5,37.0,45.0,50.0,32.25,46.0,59.0,52.25,45.5,49.25,76.75,51.0,43.0,50.0,42.0,51.0,59.0,38.0,39.0,44.0,47.75,55.0,35.0,53.0,35.0,34.5,40.0,48.0,32.0,51.0,47.5,33.75,0.0,0.0,32.0,34.0,43.0,36.0,50.0,38.5,0.0,15.0,38.75,22.0,33.0,48.0,43.25,30.75,33.75,70.0,0.0,46.5,55.0,34.0,37.0,37.0,34.75,93.0,38.75,75.0,34.5,42.5,32.0,0.0,25.75,22.0,0.0,46.0,34.0,31.0,32.0,26.0,0.0,0.0,36.0,32.0,71.5,0.0,0.0,28.0,29.5,15.0,20.0,0.0,0.0,23.0,14.0,75.0,36.0,51.5,34.0,42.0,49.0,0.0,37.0,14.0,33.0,17.5,22.75,0.0,61.0,29.0,41.0,22.0,19.0,30.0,21.0,43.0,37.0,48.0,24.0,19.5],\"type\":\"choropleth\"}],\"name\":\"h\"},{\"data\":[{\"coloraxis\":\"coloraxis\",\"customdata\":[[\"United States\",\"Hm-index\"],[\"Lithuania\",\"Hm-index\"],[\"Canada\",\"Hm-index\"],[\"Australia\",\"Hm-index\"],[\"Greece\",\"Hm-index\"],[\"Morocco\",\"Hm-index\"],[\"Belgium\",\"Hm-index\"],[\"Russia\",\"Hm-index\"],[\"India\",\"Hm-index\"],[\"Mexico\",\"Hm-index\"],[\"Jordan\",\"Hm-index\"],[\"Luxembourg\",\"Hm-index\"],[\"Tanzania\",\"Hm-index\"],[\"Estonia\",\"Hm-index\"],[\"Bangladesh\",\"Hm-index\"],[\"Pakistan\",\"Hm-index\"],[\"Portugal\",\"Hm-index\"],[\"Kuwait\",\"Hm-index\"],[\"Malaysia\",\"Hm-index\"],[\"Cameroon\",\"Hm-index\"],[\"Brazil\",\"Hm-index\"],[\"Serbia\",\"Hm-index\"],[\"Finland\",\"Hm-index\"],[\"Italy\",\"Hm-index\"],[\"Croatia\",\"Hm-index\"],[\"Slovenia\",\"Hm-index\"],[\"Iran\",\"Hm-index\"],[\"Peru\",\"Hm-index\"],[\"Cyprus\",\"Hm-index\"],[\"Nigeria\",\"Hm-index\"],[\"Georgia\",\"Hm-index\"],[\"Barbados\",\"Hm-index\"],[\"Algeria\",\"Hm-index\"],[\"Trinidad and Tobago\",\"Hm-index\"],[\"T\\u00fcrkiye\",\"Hm-index\"],[\"Chile\",\"Hm-index\"],[\"Belarus\",\"Hm-index\"],[\"Saudi Arabia\",\"Hm-index\"],[\"Oman\",\"Hm-index\"],[\"Spain\",\"Hm-index\"],[\"South Africa\",\"Hm-index\"],[\"Israel\",\"Hm-index\"],[\"Switzerland\",\"Hm-index\"],[\"New Caledonia\",\"Hm-index\"],[\"Kenya\",\"Hm-index\"],[\"United Arab Emirates\",\"Hm-index\"],[\"Thailand\",\"Hm-index\"],[\"Argentina\",\"Hm-index\"],[\"Jamaica\",\"Hm-index\"],[\"France\",\"Hm-index\"],[\"China\",\"Hm-index\"],[\"Cuba\",\"Hm-index\"],[\"Uruguay\",\"Hm-index\"],[\"Iceland\",\"Hm-index\"],[\"New Zealand\",\"Hm-index\"],[\"United Kingdom\",\"Hm-index\"],[\"Bulgaria\",\"Hm-index\"],[\"Czechia\",\"Hm-index\"],[\"Ireland\",\"Hm-index\"],[\"Germany\",\"Hm-index\"],[\"Montenegro\",\"Hm-index\"],[\"Hungary\",\"Hm-index\"],[\"Ukraine\",\"Hm-index\"],[\"Poland\",\"Hm-index\"],[\"Latvia\",\"Hm-index\"],[\"Romania\",\"Hm-index\"],[\"Norway\",\"Hm-index\"],[\"Philippines\",\"Hm-index\"],[\"Venezuela\",\"Hm-index\"],[\"Costa Rica\",\"Hm-index\"],[\"Netherlands\",\"Hm-index\"],[\"Uganda\",\"Hm-index\"],[\"Malawi\",\"Hm-index\"],[\"Macau\",\"Hm-index\"],[\"Armenia\",\"Hm-index\"],[\"Japan\",\"Hm-index\"],[\"Ghana\",\"Hm-index\"],[\"Sweden\",\"Hm-index\"],[\"Taiwan\",\"Hm-index\"],[\"Denmark\",\"Hm-index\"],[\"Puerto Rico\",\"Hm-index\"],[\"Sri Lanka\",\"Hm-index\"],[\"Lebanon\",\"Hm-index\"],[\"Qatar\",\"Hm-index\"],[\"Colombia\",\"Hm-index\"],[\"Singapore\",\"Hm-index\"],[\"Bahrain\",\"Hm-index\"],[\"Hong Kong\",\"Hm-index\"],[\"Slovakia\",\"Hm-index\"],[\"Tunisia\",\"Hm-index\"],[\"Malta\",\"Hm-index\"],[\"South Korea\",\"Hm-index\"],[\"Egypt\",\"Hm-index\"],[\"Austria\",\"Hm-index\"],[\"Senegal\",\"Hm-index\"],[\"Indonesia\",\"Hm-index\"],[\"Guadeloupe\",\"lel\"],[\"Guyana\",\"lel\"],[\"Kazakhstan\",\"Hm-index\"],[\"Laos\",\"Hm-index\"],[\"St. Kitts and Nevis\",\"Hm-index\"],[\"Iraq\",\"Hm-index\"],[\"Moldova\",\"Hm-index\"],[\"French Guiana\",\"Hm-index\"],[\"Suriname\",\"lel\"],[\"Afghanistan\",\"Hm-index\"],[\"Brunei Darussalam\",\"Hm-index\"],[\"Libya\",\"Hm-index\"],[\"Nepal\",\"Hm-index\"],[\"Panama\",\"Hm-index\"],[\"Cambodia\",\"Hm-index\"],[\"North Macedonia\",\"Hm-index\"],[\"Ecuador\",\"Hm-index\"],[\"Mali\",\"Hm-index\"],[\"Cayman Islands\",\"lel\"],[\"Ethiopia\",\"Hm-index\"],[\"Liberia\",\"Hm-index\"],[\"Rwanda\",\"Hm-index\"],[\"Grenada\",\"Hm-index\"],[\"Liechtenstein\",\"Hm-index\"],[\"Guatemala\",\"Hm-index\"],[\"Monaco\",\"Hm-index\"],[\"Vietnam\",\"Hm-index\"],[\"Gambia\",\"Hm-index\"],[\"Namibia\",\"Hm-index\"],[\"Paraguay\",\"Hm-index\"],[\"Botswana\",\"Hm-index\"],[\"Timor-Leste\",\"lel\"],[\"Vanuatu\",\"Hm-index\"],[\"Burundi\",\"Hm-index\"],[\"Burkina Faso\",\"lel\"],[\"Greenland\",\"Hm-index\"],[\"Falkland Islands\",\"Hm-index\"],[\"Palestine\",\"Hm-index\"],[\"Sudan\",\"Hm-index\"],[\"Bosnia and Herzegovina\",\"Hm-index\"],[\"Curacao\",\"lel\"],[\"Congo Republic\",\"lel\"],[\"Uzbekistan\",\"Hm-index\"],[\"Dominica\",\"Hm-index\"],[\"Bermuda\",\"Hm-index\"],[\"Eritrea\",\"lel\"],[\"Tajikistan\",\"lel\"],[\"Fiji\",\"Hm-index\"],[\"Zimbabwe\",\"Hm-index\"],[\"Lesotho\",\"Hm-index\"],[\"Azerbaijan\",\"Hm-index\"],[\"St. Vincent and the Grenadines\",\"lel\"],[\"St. Lucia\",\"lel\"],[\"Yemen\",\"Hm-index\"],[\"Russia\",\"Hm-index\"],[\"Guinea-Bissau\",\"Hm-index\"],[\"Bahamas\",\"Hm-index\"],[\"Madagascar\",\"Hm-index\"],[\"Mauritius\",\"Hm-index\"],[\"Benin\",\"Hm-index\"],[\"Faroe Islands\",\"Hm-index\"],[\"Netherlands\",\"lel\"],[\"Seychelles\",\"Hm-index\"],[\"Cote d'Ivoire\",\"Hm-index\"],[\"Zambia\",\"Hm-index\"],[\"Kiribati\",\"Hm-index\"],[\"Syria\",\"Hm-index\"],[\"St. Helena\",\"lel\"],[\"Honduras\",\"Hm-index\"],[\"French Polynesia\",\"Hm-index\"],[\"Martinique\",\"Hm-index\"],[\"Haiti\",\"Hm-index\"],[\"Czech Republic\",\"Hm-index\"],[\"Mongolia\",\"Hm-index\"],[\"Sierra Leone\",\"Hm-index\"],[\"Anguilla\",\"Hm-index\"],[\"Dominican Republic\",\"Hm-index\"],[\"Kyrgyz Republic\",\"Hm-index\"],[\"Mauritania\",\"Hm-index\"],[\"DR Congo\",\"Hm-index\"]],\"geo\":\"geo\",\"hovertemplate\":\"metric=hm<br>code=%{location}<br>country=%{customdata[0]}<br>metric_name=%{customdata[1]}<br>median=%{z}<extra></extra>\",\"locations\":[\"USA\",\"LTU\",\"CAN\",\"AUS\",\"GRC\",\"MAR\",\"BEL\",\"RUS\",\"IND\",\"MEX\",\"JOR\",\"LUX\",\"TZA\",\"EST\",\"BGD\",\"PAK\",\"PRT\",\"KWT\",\"MYS\",\"CMR\",\"BRA\",\"SRB\",\"FIN\",\"ITA\",\"HRV\",\"SVN\",\"IRN\",\"PER\",\"CYP\",\"NGA\",\"GEO\",\"BRB\",\"DZA\",\"TTO\",\"TUR\",\"CHL\",\"BLR\",\"SAU\",\"OMN\",\"ESP\",\"ZAF\",\"ISR\",\"CHE\",\"NCL\",\"KEN\",\"ARE\",\"THA\",\"ARG\",\"JAM\",\"FRA\",\"CHN\",\"CUB\",\"URY\",\"ISL\",\"NZL\",\"GBR\",\"BGR\",\"CZE\",\"IRL\",\"DEU\",\"MNE\",\"HUN\",\"UKR\",\"POL\",\"LVA\",\"ROU\",\"NOR\",\"PHL\",\"VEN\",\"CRI\",\"NLD\",\"UGA\",\"MWI\",\"MAC\",\"ARM\",\"JPN\",\"GHA\",\"SWE\",\"TWN\",\"DNK\",\"PRI\",\"LKA\",\"LBN\",\"QAT\",\"COL\",\"SGP\",\"BHR\",\"HKG\",\"SVK\",\"TUN\",\"MLT\",\"KOR\",\"EGY\",\"AUT\",\"SEN\",\"IDN\",\"GLP\",\"GUY\",\"KAZ\",\"LAO\",\"KNA\",\"IRQ\",\"MDA\",\"GUF\",\"SUR\",\"AFG\",\"BRN\",\"LBY\",\"NPL\",\"PAN\",\"KHM\",\"MKD\",\"ECU\",\"MLI\",\"CYM\",\"ETH\",\"LBR\",\"RWA\",\"GRD\",\"LIE\",\"GTM\",\"MCO\",\"VNM\",\"GMB\",\"NAM\",\"PRY\",\"BWA\",\"TLS\",\"VUT\",\"BDI\",\"BFA\",\"GRL\",\"FLK\",\"PSE\",\"SDN\",\"BIH\",\"CUW\",\"COG\",\"UZB\",\"DMA\",\"BMU\",\"ERI\",\"TJK\",\"FJI\",\"ZWE\",\"LSO\",\"AZE\",\"VCT\",\"LCA\",\"YEM\",\"SUX\",\"GNB\",\"BHS\",\"MDG\",\"MUS\",\"BEN\",\"FRO\",\"ANT\",\"SYC\",\"CIV\",\"ZMB\",\"KIR\",\"SYR\",\"SHN\",\"HND\",\"PYF\",\"MTQ\",\"HTI\",\"SCG\",\"MNG\",\"SLE\",\"AIA\",\"DOM\",\"KGZ\",\"MRT\",\"COD\"],\"name\":\"\",\"z\":[23.733398764977707,20.043025514553648,23.61476166148292,23.748381132756126,20.789802925832333,18.63730158730159,23.84497071555894,20.460714285714282,21.576851680858013,21.091991341991342,16.82321428571429,21.048051495769435,13.02466534597444,20.360295157577738,17.74158382467206,21.83333333333334,22.94337634722917,18.004258343780403,20.96527777777778,15.9709849790732,21.042610820551992,17.58174603174603,23.12614468864468,21.204140272166107,18.08914053775076,20.954344613719613,22.758928571428562,17.61390766755318,20.26432139645557,16.31686507936508,26.10696248196248,13.27397504456328,17.814087301587296,18.2488455988456,18.591964285714283,19.964285714285705,16.826101186395295,22.005675592635473,18.70238095238095,22.979817497436485,21.89884184443007,21.802856135092966,23.91094877344877,17.0876827520061,18.111115618496193,19.43333333333333,19.54285714285714,20.92976190476191,19.273939144048192,21.133814869341183,23.41666666666667,20.251785714285717,25.99757639448041,20.80569685289834,21.61561355311354,23.202200577200575,19.4401136591,21.04931457431456,22.88986126006956,23.7845238095238,18.12083333333333,20.909827196704498,17.796040764790764,19.716528887778875,19.646031746031746,20.563095238095226,21.45895057886028,18.32903628629434,17.76286375661375,16.80635563267141,24.873481376890165,17.56363082521456,19.078112354720567,21.300793650793636,17.081673881673886,21.982648100953043,16.34286017393675,22.927048840341122,21.42613029516212,23.096891017479244,25.83755733986672,16.47619047619047,19.541476578976575,20.359880932681097,18.95041849591245,25.56944444444443,20.059557704309626,25.96328116328116,19.502251143679164,15.630753968253964,20.57650726466515,21.68571428571429,18.45782134532134,21.989749062427062,17.046643788913656,15.684775980660696,0.0,0.0,17.60833333333332,12.67087400404474,18.44252871311694,17.458735708735706,19.181780719280706,15.885710461438306,0.0,9.166666666666666,16.791620879120877,17.54166666666667,15.93248973248973,26.93184637000425,16.96761594383876,18.03817253996448,15.505860458985454,21.9892460563248,0.0,16.11758782374496,18.105878214922324,15.28849206349206,19.51350316350316,17.8511655011655,23.204923548673552,33.54429147984257,20.08674242424243,33.123655642325346,15.847258297258296,16.116465488684987,16.73687978687978,0.0,12.613446969696973,14.90940170940171,0.0,15.64620141772291,21.99361471861472,16.271428571428572,15.86587301587301,15.88849206349206,0.0,0.0,18.87146464646464,19.54954212454212,42.05838397615403,0.0,0.0,14.06785714285714,14.783814102564108,12.36666666666667,11.858333333333333,0.0,0.0,11.29484126984127,13.25,30.28689876082061,19.99081196581196,30.181874907302824,17.50512820512821,14.68949694096752,18.581852869352865,0.0,14.86153822231407,9.783333333333333,16.619085628518707,14.033333333333335,12.46458333333333,0.0,37.49880952380953,9.468659861810014,12.92822177822177,12.20410561660562,8.850000000000001,10.95595238095238,13.90595238095238,14.77065077994682,9.591509498413522,26.47690185830428,7.310714285714286,11.1093253968254],\"type\":\"choropleth\"}],\"name\":\"hm\"},{\"data\":[{\"coloraxis\":\"coloraxis\",\"customdata\":[[\"United States\",\"# citations to single auth papers\"],[\"Lithuania\",\"# citations to single auth papers\"],[\"Canada\",\"# citations to single auth papers\"],[\"Australia\",\"# citations to single auth papers\"],[\"Greece\",\"# citations to single auth papers\"],[\"Morocco\",\"# citations to single auth papers\"],[\"Belgium\",\"# citations to single auth papers\"],[\"Russia\",\"# citations to single auth papers\"],[\"India\",\"# citations to single auth papers\"],[\"Mexico\",\"# citations to single auth papers\"],[\"Jordan\",\"# citations to single auth papers\"],[\"Luxembourg\",\"# citations to single auth papers\"],[\"Tanzania\",\"# citations to single auth papers\"],[\"Estonia\",\"# citations to single auth papers\"],[\"Bangladesh\",\"# citations to single auth papers\"],[\"Pakistan\",\"# citations to single auth papers\"],[\"Portugal\",\"# citations to single auth papers\"],[\"Kuwait\",\"# citations to single auth papers\"],[\"Malaysia\",\"# citations to single auth papers\"],[\"Cameroon\",\"# citations to single auth papers\"],[\"Brazil\",\"# citations to single auth papers\"],[\"Serbia\",\"# citations to single auth papers\"],[\"Finland\",\"# citations to single auth papers\"],[\"Italy\",\"# citations to single auth papers\"],[\"Croatia\",\"# citations to single auth papers\"],[\"Slovenia\",\"# citations to single auth papers\"],[\"Iran\",\"# citations to single auth papers\"],[\"Peru\",\"# citations to single auth papers\"],[\"Cyprus\",\"# citations to single auth papers\"],[\"Nigeria\",\"# citations to single auth papers\"],[\"Georgia\",\"# citations to single auth papers\"],[\"Barbados\",\"# citations to single auth papers\"],[\"Algeria\",\"# citations to single auth papers\"],[\"Trinidad and Tobago\",\"# citations to single auth papers\"],[\"T\\u00fcrkiye\",\"# citations to single auth papers\"],[\"Chile\",\"# citations to single auth papers\"],[\"Belarus\",\"# citations to single auth papers\"],[\"Saudi Arabia\",\"# citations to single auth papers\"],[\"Oman\",\"# citations to single auth papers\"],[\"Spain\",\"# citations to single auth papers\"],[\"South Africa\",\"# citations to single auth papers\"],[\"Israel\",\"# citations to single auth papers\"],[\"Switzerland\",\"# citations to single auth papers\"],[\"New Caledonia\",\"# citations to single auth papers\"],[\"Kenya\",\"# citations to single auth papers\"],[\"United Arab Emirates\",\"# citations to single auth papers\"],[\"Thailand\",\"# citations to single auth papers\"],[\"Argentina\",\"# citations to single auth papers\"],[\"Jamaica\",\"# citations to single auth papers\"],[\"France\",\"# citations to single auth papers\"],[\"China\",\"# citations to single auth papers\"],[\"Cuba\",\"# citations to single auth papers\"],[\"Uruguay\",\"# citations to single auth papers\"],[\"Iceland\",\"# citations to single auth papers\"],[\"New Zealand\",\"# citations to single auth papers\"],[\"United Kingdom\",\"# citations to single auth papers\"],[\"Bulgaria\",\"# citations to single auth papers\"],[\"Czechia\",\"# citations to single auth papers\"],[\"Ireland\",\"# citations to single auth papers\"],[\"Germany\",\"# citations to single auth papers\"],[\"Montenegro\",\"# citations to single auth papers\"],[\"Hungary\",\"# citations to single auth papers\"],[\"Ukraine\",\"# citations to single auth papers\"],[\"Poland\",\"# citations to single auth papers\"],[\"Latvia\",\"# citations to single auth papers\"],[\"Romania\",\"# citations to single auth papers\"],[\"Norway\",\"# citations to single auth papers\"],[\"Philippines\",\"# citations to single auth papers\"],[\"Venezuela\",\"# citations to single auth papers\"],[\"Costa Rica\",\"# citations to single auth papers\"],[\"Netherlands\",\"# citations to single auth papers\"],[\"Uganda\",\"# citations to single auth papers\"],[\"Malawi\",\"# citations to single auth papers\"],[\"Macau\",\"# citations to single auth papers\"],[\"Armenia\",\"# citations to single auth papers\"],[\"Japan\",\"# citations to single auth papers\"],[\"Ghana\",\"# citations to single auth papers\"],[\"Sweden\",\"# citations to single auth papers\"],[\"Taiwan\",\"# citations to single auth papers\"],[\"Denmark\",\"# citations to single auth papers\"],[\"Puerto Rico\",\"# citations to single auth papers\"],[\"Sri Lanka\",\"# citations to single auth papers\"],[\"Lebanon\",\"# citations to single auth papers\"],[\"Qatar\",\"# citations to single auth papers\"],[\"Colombia\",\"# citations to single auth papers\"],[\"Singapore\",\"# citations to single auth papers\"],[\"Bahrain\",\"# citations to single auth papers\"],[\"Hong Kong\",\"# citations to single auth papers\"],[\"Slovakia\",\"# citations to single auth papers\"],[\"Tunisia\",\"# citations to single auth papers\"],[\"Malta\",\"# citations to single auth papers\"],[\"South Korea\",\"# citations to single auth papers\"],[\"Egypt\",\"# citations to single auth papers\"],[\"Austria\",\"# citations to single auth papers\"],[\"Senegal\",\"# citations to single auth papers\"],[\"Indonesia\",\"# citations to single auth papers\"],[\"Guadeloupe\",\"lel\"],[\"Guyana\",\"lel\"],[\"Kazakhstan\",\"# citations to single auth papers\"],[\"Laos\",\"# citations to single auth papers\"],[\"St. Kitts and Nevis\",\"# citations to single auth papers\"],[\"Iraq\",\"# citations to single auth papers\"],[\"Moldova\",\"# citations to single auth papers\"],[\"French Guiana\",\"# citations to single auth papers\"],[\"Suriname\",\"lel\"],[\"Afghanistan\",\"# citations to single auth papers\"],[\"Brunei Darussalam\",\"# citations to single auth papers\"],[\"Libya\",\"# citations to single auth papers\"],[\"Nepal\",\"# citations to single auth papers\"],[\"Panama\",\"# citations to single auth papers\"],[\"Cambodia\",\"# citations to single auth papers\"],[\"North Macedonia\",\"# citations to single auth papers\"],[\"Ecuador\",\"# citations to single auth papers\"],[\"Mali\",\"# citations to single auth papers\"],[\"Cayman Islands\",\"lel\"],[\"Ethiopia\",\"# citations to single auth papers\"],[\"Liberia\",\"# citations to single auth papers\"],[\"Rwanda\",\"# citations to single auth papers\"],[\"Grenada\",\"# citations to single auth papers\"],[\"Liechtenstein\",\"# citations to single auth papers\"],[\"Guatemala\",\"# citations to single auth papers\"],[\"Monaco\",\"# citations to single auth papers\"],[\"Vietnam\",\"# citations to single auth papers\"],[\"Gambia\",\"# citations to single auth papers\"],[\"Namibia\",\"# citations to single auth papers\"],[\"Paraguay\",\"# citations to single auth papers\"],[\"Botswana\",\"# citations to single auth papers\"],[\"Timor-Leste\",\"lel\"],[\"Vanuatu\",\"# citations to single auth papers\"],[\"Burundi\",\"# citations to single auth papers\"],[\"Burkina Faso\",\"lel\"],[\"Greenland\",\"# citations to single auth papers\"],[\"Falkland Islands\",\"# citations to single auth papers\"],[\"Palestine\",\"# citations to single auth papers\"],[\"Sudan\",\"# citations to single auth papers\"],[\"Bosnia and Herzegovina\",\"# citations to single auth papers\"],[\"Curacao\",\"lel\"],[\"Congo Republic\",\"lel\"],[\"Uzbekistan\",\"# citations to single auth papers\"],[\"Dominica\",\"# citations to single auth papers\"],[\"Bermuda\",\"# citations to single auth papers\"],[\"Eritrea\",\"lel\"],[\"Tajikistan\",\"lel\"],[\"Fiji\",\"# citations to single auth papers\"],[\"Zimbabwe\",\"# citations to single auth papers\"],[\"Lesotho\",\"# citations to single auth papers\"],[\"Azerbaijan\",\"# citations to single auth papers\"],[\"St. Vincent and the Grenadines\",\"lel\"],[\"St. Lucia\",\"lel\"],[\"Yemen\",\"# citations to single auth papers\"],[\"Russia\",\"# citations to single auth papers\"],[\"Guinea-Bissau\",\"# citations to single auth papers\"],[\"Bahamas\",\"# citations to single auth papers\"],[\"Madagascar\",\"# citations to single auth papers\"],[\"Mauritius\",\"# citations to single auth papers\"],[\"Benin\",\"# citations to single auth papers\"],[\"Faroe Islands\",\"# citations to single auth papers\"],[\"Netherlands\",\"lel\"],[\"Seychelles\",\"# citations to single auth papers\"],[\"Cote d'Ivoire\",\"# citations to single auth papers\"],[\"Zambia\",\"# citations to single auth papers\"],[\"Kiribati\",\"# citations to single auth papers\"],[\"Syria\",\"# citations to single auth papers\"],[\"St. Helena\",\"lel\"],[\"Honduras\",\"# citations to single auth papers\"],[\"French Polynesia\",\"# citations to single auth papers\"],[\"Martinique\",\"# citations to single auth papers\"],[\"Haiti\",\"# citations to single auth papers\"],[\"Czech Republic\",\"# citations to single auth papers\"],[\"Mongolia\",\"# citations to single auth papers\"],[\"Sierra Leone\",\"# citations to single auth papers\"],[\"Anguilla\",\"# citations to single auth papers\"],[\"Dominican Republic\",\"# citations to single auth papers\"],[\"Kyrgyz Republic\",\"# citations to single auth papers\"],[\"Mauritania\",\"# citations to single auth papers\"],[\"DR Congo\",\"# citations to single auth papers\"]],\"geo\":\"geo\",\"hovertemplate\":\"metric=ncs<br>code=%{location}<br>country=%{customdata[0]}<br>metric_name=%{customdata[1]}<br>median=%{z}<extra></extra>\",\"locations\":[\"USA\",\"LTU\",\"CAN\",\"AUS\",\"GRC\",\"MAR\",\"BEL\",\"RUS\",\"IND\",\"MEX\",\"JOR\",\"LUX\",\"TZA\",\"EST\",\"BGD\",\"PAK\",\"PRT\",\"KWT\",\"MYS\",\"CMR\",\"BRA\",\"SRB\",\"FIN\",\"ITA\",\"HRV\",\"SVN\",\"IRN\",\"PER\",\"CYP\",\"NGA\",\"GEO\",\"BRB\",\"DZA\",\"TTO\",\"TUR\",\"CHL\",\"BLR\",\"SAU\",\"OMN\",\"ESP\",\"ZAF\",\"ISR\",\"CHE\",\"NCL\",\"KEN\",\"ARE\",\"THA\",\"ARG\",\"JAM\",\"FRA\",\"CHN\",\"CUB\",\"URY\",\"ISL\",\"NZL\",\"GBR\",\"BGR\",\"CZE\",\"IRL\",\"DEU\",\"MNE\",\"HUN\",\"UKR\",\"POL\",\"LVA\",\"ROU\",\"NOR\",\"PHL\",\"VEN\",\"CRI\",\"NLD\",\"UGA\",\"MWI\",\"MAC\",\"ARM\",\"JPN\",\"GHA\",\"SWE\",\"TWN\",\"DNK\",\"PRI\",\"LKA\",\"LBN\",\"QAT\",\"COL\",\"SGP\",\"BHR\",\"HKG\",\"SVK\",\"TUN\",\"MLT\",\"KOR\",\"EGY\",\"AUT\",\"SEN\",\"IDN\",\"GLP\",\"GUY\",\"KAZ\",\"LAO\",\"KNA\",\"IRQ\",\"MDA\",\"GUF\",\"SUR\",\"AFG\",\"BRN\",\"LBY\",\"NPL\",\"PAN\",\"KHM\",\"MKD\",\"ECU\",\"MLI\",\"CYM\",\"ETH\",\"LBR\",\"RWA\",\"GRD\",\"LIE\",\"GTM\",\"MCO\",\"VNM\",\"GMB\",\"NAM\",\"PRY\",\"BWA\",\"TLS\",\"VUT\",\"BDI\",\"BFA\",\"GRL\",\"FLK\",\"PSE\",\"SDN\",\"BIH\",\"CUW\",\"COG\",\"UZB\",\"DMA\",\"BMU\",\"ERI\",\"TJK\",\"FJI\",\"ZWE\",\"LSO\",\"AZE\",\"VCT\",\"LCA\",\"YEM\",\"SUX\",\"GNB\",\"BHS\",\"MDG\",\"MUS\",\"BEN\",\"FRO\",\"ANT\",\"SYC\",\"CIV\",\"ZMB\",\"KIR\",\"SYR\",\"SHN\",\"HND\",\"PYF\",\"MTQ\",\"HTI\",\"SCG\",\"MNG\",\"SLE\",\"AIA\",\"DOM\",\"KGZ\",\"MRT\",\"COD\"],\"name\":\"\",\"z\":[544.0,237.5,451.0,454.5,270.5,93.0,240.0,478.5,229.0,330.75,373.75,290.25,331.0,406.5,115.0,148.0,243.0,464.5,130.75,151.0,266.0,271.0,323.5,221.0,362.0,328.5,190.5,318.5,506.5,358.0,497.0,251.0,236.0,236.0,348.75,356.5,483.5,358.5,347.0,227.0,476.0,503.75,407.0,175.0,335.0,316.0,192.0,337.0,664.5,327.25,94.0,552.75,531.0,567.0,478.0,591.0,426.25,437.0,386.0,401.0,164.0,602.0,419.0,376.75,465.5,429.25,424.0,250.0,383.75,386.0,333.0,103.25,325.5,280.5,327.25,239.0,270.0,404.0,245.0,405.0,314.0,299.0,341.25,225.25,399.25,230.0,847.0,291.0,488.5,170.5,524.5,139.0,403.0,383.5,775.5,209.75,0.0,0.0,303.0,52.0,161.0,342.5,1119.5,195.0,0.0,301.0,228.0,645.0,235.0,1179.0,125.0,551.5,329.5,38.0,0.0,291.0,80.5,154.0,371.0,143.0,929.25,286.75,309.5,971.0,340.5,75.75,615.0,0.0,135.0,287.0,0.0,40.0,522.0,200.0,133.0,434.0,0.0,0.0,768.0,591.0,672.75,0.0,0.0,132.0,267.75,438.0,325.0,0.0,0.0,265.0,2041.0,162.0,48.0,1742.0,213.0,45.0,99.5,0.0,39.0,522.0,272.75,675.5,112.25,0.0,2235.0,108.0,6.0,160.0,54.0,2.0,778.0,319.0,88.0,416.0,55.0,177.0],\"type\":\"choropleth\"}],\"name\":\"ncs\"},{\"data\":[{\"coloraxis\":\"coloraxis\",\"customdata\":[[\"United States\",\"# citations to single/first auth papers\"],[\"Lithuania\",\"# citations to single/first auth papers\"],[\"Canada\",\"# citations to single/first auth papers\"],[\"Australia\",\"# citations to single/first auth papers\"],[\"Greece\",\"# citations to single/first auth papers\"],[\"Morocco\",\"# citations to single/first auth papers\"],[\"Belgium\",\"# citations to single/first auth papers\"],[\"Russia\",\"# citations to single/first auth papers\"],[\"India\",\"# citations to single/first auth papers\"],[\"Mexico\",\"# citations to single/first auth papers\"],[\"Jordan\",\"# citations to single/first auth papers\"],[\"Luxembourg\",\"# citations to single/first auth papers\"],[\"Tanzania\",\"# citations to single/first auth papers\"],[\"Estonia\",\"# citations to single/first auth papers\"],[\"Bangladesh\",\"# citations to single/first auth papers\"],[\"Pakistan\",\"# citations to single/first auth papers\"],[\"Portugal\",\"# citations to single/first auth papers\"],[\"Kuwait\",\"# citations to single/first auth papers\"],[\"Malaysia\",\"# citations to single/first auth papers\"],[\"Cameroon\",\"# citations to single/first auth papers\"],[\"Brazil\",\"# citations to single/first auth papers\"],[\"Serbia\",\"# citations to single/first auth papers\"],[\"Finland\",\"# citations to single/first auth papers\"],[\"Italy\",\"# citations to single/first auth papers\"],[\"Croatia\",\"# citations to single/first auth papers\"],[\"Slovenia\",\"# citations to single/first auth papers\"],[\"Iran\",\"# citations to single/first auth papers\"],[\"Peru\",\"# citations to single/first auth papers\"],[\"Cyprus\",\"# citations to single/first auth papers\"],[\"Nigeria\",\"# citations to single/first auth papers\"],[\"Georgia\",\"# citations to single/first auth papers\"],[\"Barbados\",\"# citations to single/first auth papers\"],[\"Algeria\",\"# citations to single/first auth papers\"],[\"Trinidad and Tobago\",\"# citations to single/first auth papers\"],[\"T\\u00fcrkiye\",\"# citations to single/first auth papers\"],[\"Chile\",\"# citations to single/first auth papers\"],[\"Belarus\",\"# citations to single/first auth papers\"],[\"Saudi Arabia\",\"# citations to single/first auth papers\"],[\"Oman\",\"# citations to single/first auth papers\"],[\"Spain\",\"# citations to single/first auth papers\"],[\"South Africa\",\"# citations to single/first auth papers\"],[\"Israel\",\"# citations to single/first auth papers\"],[\"Switzerland\",\"# citations to single/first auth papers\"],[\"New Caledonia\",\"# citations to single/first auth papers\"],[\"Kenya\",\"# citations to single/first auth papers\"],[\"United Arab Emirates\",\"# citations to single/first auth papers\"],[\"Thailand\",\"# citations to single/first auth papers\"],[\"Argentina\",\"# citations to single/first auth papers\"],[\"Jamaica\",\"# citations to single/first auth papers\"],[\"France\",\"# citations to single/first auth papers\"],[\"China\",\"# citations to single/first auth papers\"],[\"Cuba\",\"# citations to single/first auth papers\"],[\"Uruguay\",\"# citations to single/first auth papers\"],[\"Iceland\",\"# citations to single/first auth papers\"],[\"New Zealand\",\"# citations to single/first auth papers\"],[\"United Kingdom\",\"# citations to single/first auth papers\"],[\"Bulgaria\",\"# citations to single/first auth papers\"],[\"Czechia\",\"# citations to single/first auth papers\"],[\"Ireland\",\"# citations to single/first auth papers\"],[\"Germany\",\"# citations to single/first auth papers\"],[\"Montenegro\",\"# citations to single/first auth papers\"],[\"Hungary\",\"# citations to single/first auth papers\"],[\"Ukraine\",\"# citations to single/first auth papers\"],[\"Poland\",\"# citations to single/first auth papers\"],[\"Latvia\",\"# citations to single/first auth papers\"],[\"Romania\",\"# citations to single/first auth papers\"],[\"Norway\",\"# citations to single/first auth papers\"],[\"Philippines\",\"# citations to single/first auth papers\"],[\"Venezuela\",\"# citations to single/first auth papers\"],[\"Costa Rica\",\"# citations to single/first auth papers\"],[\"Netherlands\",\"# citations to single/first auth papers\"],[\"Uganda\",\"# citations to single/first auth papers\"],[\"Malawi\",\"# citations to single/first auth papers\"],[\"Macau\",\"# citations to single/first auth papers\"],[\"Armenia\",\"# citations to single/first auth papers\"],[\"Japan\",\"# citations to single/first auth papers\"],[\"Ghana\",\"# citations to single/first auth papers\"],[\"Sweden\",\"# citations to single/first auth papers\"],[\"Taiwan\",\"# citations to single/first auth papers\"],[\"Denmark\",\"# citations to single/first auth papers\"],[\"Puerto Rico\",\"# citations to single/first auth papers\"],[\"Sri Lanka\",\"# citations to single/first auth papers\"],[\"Lebanon\",\"# citations to single/first auth papers\"],[\"Qatar\",\"# citations to single/first auth papers\"],[\"Colombia\",\"# citations to single/first auth papers\"],[\"Singapore\",\"# citations to single/first auth papers\"],[\"Bahrain\",\"# citations to single/first auth papers\"],[\"Hong Kong\",\"# citations to single/first auth papers\"],[\"Slovakia\",\"# citations to single/first auth papers\"],[\"Tunisia\",\"# citations to single/first auth papers\"],[\"Malta\",\"# citations to single/first auth papers\"],[\"South Korea\",\"# citations to single/first auth papers\"],[\"Egypt\",\"# citations to single/first auth papers\"],[\"Austria\",\"# citations to single/first auth papers\"],[\"Senegal\",\"# citations to single/first auth papers\"],[\"Indonesia\",\"# citations to single/first auth papers\"],[\"Guadeloupe\",\"lel\"],[\"Guyana\",\"lel\"],[\"Kazakhstan\",\"# citations to single/first auth papers\"],[\"Laos\",\"# citations to single/first auth papers\"],[\"St. Kitts and Nevis\",\"# citations to single/first auth papers\"],[\"Iraq\",\"# citations to single/first auth papers\"],[\"Moldova\",\"# citations to single/first auth papers\"],[\"French Guiana\",\"# citations to single/first auth papers\"],[\"Suriname\",\"lel\"],[\"Afghanistan\",\"# citations to single/first auth papers\"],[\"Brunei Darussalam\",\"# citations to single/first auth papers\"],[\"Libya\",\"# citations to single/first auth papers\"],[\"Nepal\",\"# citations to single/first auth papers\"],[\"Panama\",\"# citations to single/first auth papers\"],[\"Cambodia\",\"# citations to single/first auth papers\"],[\"North Macedonia\",\"# citations to single/first auth papers\"],[\"Ecuador\",\"# citations to single/first auth papers\"],[\"Mali\",\"# citations to single/first auth papers\"],[\"Cayman Islands\",\"lel\"],[\"Ethiopia\",\"# citations to single/first auth papers\"],[\"Liberia\",\"# citations to single/first auth papers\"],[\"Rwanda\",\"# citations to single/first auth papers\"],[\"Grenada\",\"# citations to single/first auth papers\"],[\"Liechtenstein\",\"# citations to single/first auth papers\"],[\"Guatemala\",\"# citations to single/first auth papers\"],[\"Monaco\",\"# citations to single/first auth papers\"],[\"Vietnam\",\"# citations to single/first auth papers\"],[\"Gambia\",\"# citations to single/first auth papers\"],[\"Namibia\",\"# citations to single/first auth papers\"],[\"Paraguay\",\"# citations to single/first auth papers\"],[\"Botswana\",\"# citations to single/first auth papers\"],[\"Timor-Leste\",\"lel\"],[\"Vanuatu\",\"# citations to single/first auth papers\"],[\"Burundi\",\"# citations to single/first auth papers\"],[\"Burkina Faso\",\"lel\"],[\"Greenland\",\"# citations to single/first auth papers\"],[\"Falkland Islands\",\"# citations to single/first auth papers\"],[\"Palestine\",\"# citations to single/first auth papers\"],[\"Sudan\",\"# citations to single/first auth papers\"],[\"Bosnia and Herzegovina\",\"# citations to single/first auth papers\"],[\"Curacao\",\"lel\"],[\"Congo Republic\",\"lel\"],[\"Uzbekistan\",\"# citations to single/first auth papers\"],[\"Dominica\",\"# citations to single/first auth papers\"],[\"Bermuda\",\"# citations to single/first auth papers\"],[\"Eritrea\",\"lel\"],[\"Tajikistan\",\"lel\"],[\"Fiji\",\"# citations to single/first auth papers\"],[\"Zimbabwe\",\"# citations to single/first auth papers\"],[\"Lesotho\",\"# citations to single/first auth papers\"],[\"Azerbaijan\",\"# citations to single/first auth papers\"],[\"St. Vincent and the Grenadines\",\"lel\"],[\"St. Lucia\",\"lel\"],[\"Yemen\",\"# citations to single/first auth papers\"],[\"Russia\",\"# citations to single/first auth papers\"],[\"Guinea-Bissau\",\"# citations to single/first auth papers\"],[\"Bahamas\",\"# citations to single/first auth papers\"],[\"Madagascar\",\"# citations to single/first auth papers\"],[\"Mauritius\",\"# citations to single/first auth papers\"],[\"Benin\",\"# citations to single/first auth papers\"],[\"Faroe Islands\",\"# citations to single/first auth papers\"],[\"Netherlands\",\"lel\"],[\"Seychelles\",\"# citations to single/first auth papers\"],[\"Cote d'Ivoire\",\"# citations to single/first auth papers\"],[\"Zambia\",\"# citations to single/first auth papers\"],[\"Kiribati\",\"# citations to single/first auth papers\"],[\"Syria\",\"# citations to single/first auth papers\"],[\"St. Helena\",\"lel\"],[\"Honduras\",\"# citations to single/first auth papers\"],[\"French Polynesia\",\"# citations to single/first auth papers\"],[\"Martinique\",\"# citations to single/first auth papers\"],[\"Haiti\",\"# citations to single/first auth papers\"],[\"Czech Republic\",\"# citations to single/first auth papers\"],[\"Mongolia\",\"# citations to single/first auth papers\"],[\"Sierra Leone\",\"# citations to single/first auth papers\"],[\"Anguilla\",\"# citations to single/first auth papers\"],[\"Dominican Republic\",\"# citations to single/first auth papers\"],[\"Kyrgyz Republic\",\"# citations to single/first auth papers\"],[\"Mauritania\",\"# citations to single/first auth papers\"],[\"DR Congo\",\"# citations to single/first auth papers\"]],\"geo\":\"geo\",\"hovertemplate\":\"metric=ncsf<br>code=%{location}<br>country=%{customdata[0]}<br>metric_name=%{customdata[1]}<br>median=%{z}<extra></extra>\",\"locations\":[\"USA\",\"LTU\",\"CAN\",\"AUS\",\"GRC\",\"MAR\",\"BEL\",\"RUS\",\"IND\",\"MEX\",\"JOR\",\"LUX\",\"TZA\",\"EST\",\"BGD\",\"PAK\",\"PRT\",\"KWT\",\"MYS\",\"CMR\",\"BRA\",\"SRB\",\"FIN\",\"ITA\",\"HRV\",\"SVN\",\"IRN\",\"PER\",\"CYP\",\"NGA\",\"GEO\",\"BRB\",\"DZA\",\"TTO\",\"TUR\",\"CHL\",\"BLR\",\"SAU\",\"OMN\",\"ESP\",\"ZAF\",\"ISR\",\"CHE\",\"NCL\",\"KEN\",\"ARE\",\"THA\",\"ARG\",\"JAM\",\"FRA\",\"CHN\",\"CUB\",\"URY\",\"ISL\",\"NZL\",\"GBR\",\"BGR\",\"CZE\",\"IRL\",\"DEU\",\"MNE\",\"HUN\",\"UKR\",\"POL\",\"LVA\",\"ROU\",\"NOR\",\"PHL\",\"VEN\",\"CRI\",\"NLD\",\"UGA\",\"MWI\",\"MAC\",\"ARM\",\"JPN\",\"GHA\",\"SWE\",\"TWN\",\"DNK\",\"PRI\",\"LKA\",\"LBN\",\"QAT\",\"COL\",\"SGP\",\"BHR\",\"HKG\",\"SVK\",\"TUN\",\"MLT\",\"KOR\",\"EGY\",\"AUT\",\"SEN\",\"IDN\",\"GLP\",\"GUY\",\"KAZ\",\"LAO\",\"KNA\",\"IRQ\",\"MDA\",\"GUF\",\"SUR\",\"AFG\",\"BRN\",\"LBY\",\"NPL\",\"PAN\",\"KHM\",\"MKD\",\"ECU\",\"MLI\",\"CYM\",\"ETH\",\"LBR\",\"RWA\",\"GRD\",\"LIE\",\"GTM\",\"MCO\",\"VNM\",\"GMB\",\"NAM\",\"PRY\",\"BWA\",\"TLS\",\"VUT\",\"BDI\",\"BFA\",\"GRL\",\"FLK\",\"PSE\",\"SDN\",\"BIH\",\"CUW\",\"COG\",\"UZB\",\"DMA\",\"BMU\",\"ERI\",\"TJK\",\"FJI\",\"ZWE\",\"LSO\",\"AZE\",\"VCT\",\"LCA\",\"YEM\",\"SUX\",\"GNB\",\"BHS\",\"MDG\",\"MUS\",\"BEN\",\"FRO\",\"ANT\",\"SYC\",\"CIV\",\"ZMB\",\"KIR\",\"SYR\",\"SHN\",\"HND\",\"PYF\",\"MTQ\",\"HTI\",\"SCG\",\"MNG\",\"SLE\",\"AIA\",\"DOM\",\"KGZ\",\"MRT\",\"COD\"],\"name\":\"\",\"z\":[2569.0,1862.5,2254.0,2189.5,1793.5,1889.0,2036.0,2096.0,1725.5,2070.25,1462.0,2278.75,1604.0,1733.5,2154.0,2219.0,1664.5,1986.25,1492.25,905.0,1627.0,1398.0,1855.75,2364.0,1529.0,1554.75,2024.75,1803.5,2062.5,1451.0,3716.5,896.0,1884.25,1568.0,1635.5,2020.5,1467.0,1842.75,1687.0,2234.75,1873.0,2260.0,2354.0,1447.0,1488.0,1865.0,1581.0,1649.0,2213.0,2060.0,2159.0,3044.0,3322.0,2140.5,2103.0,2275.0,2091.0,2015.0,1797.0,2124.0,1226.75,2109.75,1581.75,1657.0,1809.5,1672.5,1843.0,1883.0,1621.75,1096.0,1996.5,989.0,1183.75,1795.0,9687.5,1919.0,1583.0,1936.75,1868.0,2057.5,2652.0,1312.0,1950.75,1823.25,1607.25,2074.0,1966.0,2261.5,2048.5,1044.5,1877.0,1690.0,1723.0,2044.0,1735.0,1576.75,0.0,0.0,1154.0,298.0,1195.0,1096.5,6057.5,1572.0,0.0,513.0,1634.75,1033.0,1532.0,1981.0,1475.75,1520.75,1843.75,312.0,0.0,1154.0,1966.5,1208.0,1671.0,2816.0,2129.25,2519.5,1661.25,4188.5,2272.5,1534.5,1444.0,0.0,794.25,830.0,0.0,449.0,1923.0,1307.5,633.0,987.0,0.0,0.0,2810.0,1449.0,2851.0,0.0,0.0,1399.0,763.25,591.0,346.75,0.0,0.0,636.0,2280.5,4307.0,404.0,2512.5,805.0,421.0,338.0,0.0,654.0,1316.0,1039.75,919.0,1010.25,0.0,3534.0,2446.0,906.0,481.0,281.0,2715.0,829.0,1094.0,2391.0,2947.0,1880.0,703.25],\"type\":\"choropleth\"}],\"name\":\"ncsf\"},{\"data\":[{\"coloraxis\":\"coloraxis\",\"customdata\":[[\"United States\",\"# citations to single/first/last auth papers\"],[\"Lithuania\",\"# citations to single/first/last auth papers\"],[\"Canada\",\"# citations to single/first/last auth papers\"],[\"Australia\",\"# citations to single/first/last auth papers\"],[\"Greece\",\"# citations to single/first/last auth papers\"],[\"Morocco\",\"# citations to single/first/last auth papers\"],[\"Belgium\",\"# citations to single/first/last auth papers\"],[\"Russia\",\"# citations to single/first/last auth papers\"],[\"India\",\"# citations to single/first/last auth papers\"],[\"Mexico\",\"# citations to single/first/last auth papers\"],[\"Jordan\",\"# citations to single/first/last auth papers\"],[\"Luxembourg\",\"# citations to single/first/last auth papers\"],[\"Tanzania\",\"# citations to single/first/last auth papers\"],[\"Estonia\",\"# citations to single/first/last auth papers\"],[\"Bangladesh\",\"# citations to single/first/last auth papers\"],[\"Pakistan\",\"# citations to single/first/last auth papers\"],[\"Portugal\",\"# citations to single/first/last auth papers\"],[\"Kuwait\",\"# citations to single/first/last auth papers\"],[\"Malaysia\",\"# citations to single/first/last auth papers\"],[\"Cameroon\",\"# citations to single/first/last auth papers\"],[\"Brazil\",\"# citations to single/first/last auth papers\"],[\"Serbia\",\"# citations to single/first/last auth papers\"],[\"Finland\",\"# citations to single/first/last auth papers\"],[\"Italy\",\"# citations to single/first/last auth papers\"],[\"Croatia\",\"# citations to single/first/last auth papers\"],[\"Slovenia\",\"# citations to single/first/last auth papers\"],[\"Iran\",\"# citations to single/first/last auth papers\"],[\"Peru\",\"# citations to single/first/last auth papers\"],[\"Cyprus\",\"# citations to single/first/last auth papers\"],[\"Nigeria\",\"# citations to single/first/last auth papers\"],[\"Georgia\",\"# citations to single/first/last auth papers\"],[\"Barbados\",\"# citations to single/first/last auth papers\"],[\"Algeria\",\"# citations to single/first/last auth papers\"],[\"Trinidad and Tobago\",\"# citations to single/first/last auth papers\"],[\"T\\u00fcrkiye\",\"# citations to single/first/last auth papers\"],[\"Chile\",\"# citations to single/first/last auth papers\"],[\"Belarus\",\"# citations to single/first/last auth papers\"],[\"Saudi Arabia\",\"# citations to single/first/last auth papers\"],[\"Oman\",\"# citations to single/first/last auth papers\"],[\"Spain\",\"# citations to single/first/last auth papers\"],[\"South Africa\",\"# citations to single/first/last auth papers\"],[\"Israel\",\"# citations to single/first/last auth papers\"],[\"Switzerland\",\"# citations to single/first/last auth papers\"],[\"New Caledonia\",\"# citations to single/first/last auth papers\"],[\"Kenya\",\"# citations to single/first/last auth papers\"],[\"United Arab Emirates\",\"# citations to single/first/last auth papers\"],[\"Thailand\",\"# citations to single/first/last auth papers\"],[\"Argentina\",\"# citations to single/first/last auth papers\"],[\"Jamaica\",\"# citations to single/first/last auth papers\"],[\"France\",\"# citations to single/first/last auth papers\"],[\"China\",\"# citations to single/first/last auth papers\"],[\"Cuba\",\"# citations to single/first/last auth papers\"],[\"Uruguay\",\"# citations to single/first/last auth papers\"],[\"Iceland\",\"# citations to single/first/last auth papers\"],[\"New Zealand\",\"# citations to single/first/last auth papers\"],[\"United Kingdom\",\"# citations to single/first/last auth papers\"],[\"Bulgaria\",\"# citations to single/first/last auth papers\"],[\"Czechia\",\"# citations to single/first/last auth papers\"],[\"Ireland\",\"# citations to single/first/last auth papers\"],[\"Germany\",\"# citations to single/first/last auth papers\"],[\"Montenegro\",\"# citations to single/first/last auth papers\"],[\"Hungary\",\"# citations to single/first/last auth papers\"],[\"Ukraine\",\"# citations to single/first/last auth papers\"],[\"Poland\",\"# citations to single/first/last auth papers\"],[\"Latvia\",\"# citations to single/first/last auth papers\"],[\"Romania\",\"# citations to single/first/last auth papers\"],[\"Norway\",\"# citations to single/first/last auth papers\"],[\"Philippines\",\"# citations to single/first/last auth papers\"],[\"Venezuela\",\"# citations to single/first/last auth papers\"],[\"Costa Rica\",\"# citations to single/first/last auth papers\"],[\"Netherlands\",\"# citations to single/first/last auth papers\"],[\"Uganda\",\"# citations to single/first/last auth papers\"],[\"Malawi\",\"# citations to single/first/last auth papers\"],[\"Macau\",\"# citations to single/first/last auth papers\"],[\"Armenia\",\"# citations to single/first/last auth papers\"],[\"Japan\",\"# citations to single/first/last auth papers\"],[\"Ghana\",\"# citations to single/first/last auth papers\"],[\"Sweden\",\"# citations to single/first/last auth papers\"],[\"Taiwan\",\"# citations to single/first/last auth papers\"],[\"Denmark\",\"# citations to single/first/last auth papers\"],[\"Puerto Rico\",\"# citations to single/first/last auth papers\"],[\"Sri Lanka\",\"# citations to single/first/last auth papers\"],[\"Lebanon\",\"# citations to single/first/last auth papers\"],[\"Qatar\",\"# citations to single/first/last auth papers\"],[\"Colombia\",\"# citations to single/first/last auth papers\"],[\"Singapore\",\"# citations to single/first/last auth papers\"],[\"Bahrain\",\"# citations to single/first/last auth papers\"],[\"Hong Kong\",\"# citations to single/first/last auth papers\"],[\"Slovakia\",\"# citations to single/first/last auth papers\"],[\"Tunisia\",\"# citations to single/first/last auth papers\"],[\"Malta\",\"# citations to single/first/last auth papers\"],[\"South Korea\",\"# citations to single/first/last auth papers\"],[\"Egypt\",\"# citations to single/first/last auth papers\"],[\"Austria\",\"# citations to single/first/last auth papers\"],[\"Senegal\",\"# citations to single/first/last auth papers\"],[\"Indonesia\",\"# citations to single/first/last auth papers\"],[\"Guadeloupe\",\"lel\"],[\"Guyana\",\"lel\"],[\"Kazakhstan\",\"# citations to single/first/last auth papers\"],[\"Laos\",\"# citations to single/first/last auth papers\"],[\"St. Kitts and Nevis\",\"# citations to single/first/last auth papers\"],[\"Iraq\",\"# citations to single/first/last auth papers\"],[\"Moldova\",\"# citations to single/first/last auth papers\"],[\"French Guiana\",\"# citations to single/first/last auth papers\"],[\"Suriname\",\"lel\"],[\"Afghanistan\",\"# citations to single/first/last auth papers\"],[\"Brunei Darussalam\",\"# citations to single/first/last auth papers\"],[\"Libya\",\"# citations to single/first/last auth papers\"],[\"Nepal\",\"# citations to single/first/last auth papers\"],[\"Panama\",\"# citations to single/first/last auth papers\"],[\"Cambodia\",\"# citations to single/first/last auth papers\"],[\"North Macedonia\",\"# citations to single/first/last auth papers\"],[\"Ecuador\",\"# citations to single/first/last auth papers\"],[\"Mali\",\"# citations to single/first/last auth papers\"],[\"Cayman Islands\",\"lel\"],[\"Ethiopia\",\"# citations to single/first/last auth papers\"],[\"Liberia\",\"# citations to single/first/last auth papers\"],[\"Rwanda\",\"# citations to single/first/last auth papers\"],[\"Grenada\",\"# citations to single/first/last auth papers\"],[\"Liechtenstein\",\"# citations to single/first/last auth papers\"],[\"Guatemala\",\"# citations to single/first/last auth papers\"],[\"Monaco\",\"# citations to single/first/last auth papers\"],[\"Vietnam\",\"# citations to single/first/last auth papers\"],[\"Gambia\",\"# citations to single/first/last auth papers\"],[\"Namibia\",\"# citations to single/first/last auth papers\"],[\"Paraguay\",\"# citations to single/first/last auth papers\"],[\"Botswana\",\"# citations to single/first/last auth papers\"],[\"Timor-Leste\",\"lel\"],[\"Vanuatu\",\"# citations to single/first/last auth papers\"],[\"Burundi\",\"# citations to single/first/last auth papers\"],[\"Burkina Faso\",\"lel\"],[\"Greenland\",\"# citations to single/first/last auth papers\"],[\"Falkland Islands\",\"# citations to single/first/last auth papers\"],[\"Palestine\",\"# citations to single/first/last auth papers\"],[\"Sudan\",\"# citations to single/first/last auth papers\"],[\"Bosnia and Herzegovina\",\"# citations to single/first/last auth papers\"],[\"Curacao\",\"lel\"],[\"Congo Republic\",\"lel\"],[\"Uzbekistan\",\"# citations to single/first/last auth papers\"],[\"Dominica\",\"# citations to single/first/last auth papers\"],[\"Bermuda\",\"# citations to single/first/last auth papers\"],[\"Eritrea\",\"lel\"],[\"Tajikistan\",\"lel\"],[\"Fiji\",\"# citations to single/first/last auth papers\"],[\"Zimbabwe\",\"# citations to single/first/last auth papers\"],[\"Lesotho\",\"# citations to single/first/last auth papers\"],[\"Azerbaijan\",\"# citations to single/first/last auth papers\"],[\"St. Vincent and the Grenadines\",\"lel\"],[\"St. Lucia\",\"lel\"],[\"Yemen\",\"# citations to single/first/last auth papers\"],[\"Russia\",\"# citations to single/first/last auth papers\"],[\"Guinea-Bissau\",\"# citations to single/first/last auth papers\"],[\"Bahamas\",\"# citations to single/first/last auth papers\"],[\"Madagascar\",\"# citations to single/first/last auth papers\"],[\"Mauritius\",\"# citations to single/first/last auth papers\"],[\"Benin\",\"# citations to single/first/last auth papers\"],[\"Faroe Islands\",\"# citations to single/first/last auth papers\"],[\"Netherlands\",\"lel\"],[\"Seychelles\",\"# citations to single/first/last auth papers\"],[\"Cote d'Ivoire\",\"# citations to single/first/last auth papers\"],[\"Zambia\",\"# citations to single/first/last auth papers\"],[\"Kiribati\",\"# citations to single/first/last auth papers\"],[\"Syria\",\"# citations to single/first/last auth papers\"],[\"St. Helena\",\"lel\"],[\"Honduras\",\"# citations to single/first/last auth papers\"],[\"French Polynesia\",\"# citations to single/first/last auth papers\"],[\"Martinique\",\"# citations to single/first/last auth papers\"],[\"Haiti\",\"# citations to single/first/last auth papers\"],[\"Czech Republic\",\"# citations to single/first/last auth papers\"],[\"Mongolia\",\"# citations to single/first/last auth papers\"],[\"Sierra Leone\",\"# citations to single/first/last auth papers\"],[\"Anguilla\",\"# citations to single/first/last auth papers\"],[\"Dominican Republic\",\"# citations to single/first/last auth papers\"],[\"Kyrgyz Republic\",\"# citations to single/first/last auth papers\"],[\"Mauritania\",\"# citations to single/first/last auth papers\"],[\"DR Congo\",\"# citations to single/first/last auth papers\"]],\"geo\":\"geo\",\"hovertemplate\":\"metric=ncsfl<br>code=%{location}<br>country=%{customdata[0]}<br>metric_name=%{customdata[1]}<br>median=%{z}<extra></extra>\",\"locations\":[\"USA\",\"LTU\",\"CAN\",\"AUS\",\"GRC\",\"MAR\",\"BEL\",\"RUS\",\"IND\",\"MEX\",\"JOR\",\"LUX\",\"TZA\",\"EST\",\"BGD\",\"PAK\",\"PRT\",\"KWT\",\"MYS\",\"CMR\",\"BRA\",\"SRB\",\"FIN\",\"ITA\",\"HRV\",\"SVN\",\"IRN\",\"PER\",\"CYP\",\"NGA\",\"GEO\",\"BRB\",\"DZA\",\"TTO\",\"TUR\",\"CHL\",\"BLR\",\"SAU\",\"OMN\",\"ESP\",\"ZAF\",\"ISR\",\"CHE\",\"NCL\",\"KEN\",\"ARE\",\"THA\",\"ARG\",\"JAM\",\"FRA\",\"CHN\",\"CUB\",\"URY\",\"ISL\",\"NZL\",\"GBR\",\"BGR\",\"CZE\",\"IRL\",\"DEU\",\"MNE\",\"HUN\",\"UKR\",\"POL\",\"LVA\",\"ROU\",\"NOR\",\"PHL\",\"VEN\",\"CRI\",\"NLD\",\"UGA\",\"MWI\",\"MAC\",\"ARM\",\"JPN\",\"GHA\",\"SWE\",\"TWN\",\"DNK\",\"PRI\",\"LKA\",\"LBN\",\"QAT\",\"COL\",\"SGP\",\"BHR\",\"HKG\",\"SVK\",\"TUN\",\"MLT\",\"KOR\",\"EGY\",\"AUT\",\"SEN\",\"IDN\",\"GLP\",\"GUY\",\"KAZ\",\"LAO\",\"KNA\",\"IRQ\",\"MDA\",\"GUF\",\"SUR\",\"AFG\",\"BRN\",\"LBY\",\"NPL\",\"PAN\",\"KHM\",\"MKD\",\"ECU\",\"MLI\",\"CYM\",\"ETH\",\"LBR\",\"RWA\",\"GRD\",\"LIE\",\"GTM\",\"MCO\",\"VNM\",\"GMB\",\"NAM\",\"PRY\",\"BWA\",\"TLS\",\"VUT\",\"BDI\",\"BFA\",\"GRL\",\"FLK\",\"PSE\",\"SDN\",\"BIH\",\"CUW\",\"COG\",\"UZB\",\"DMA\",\"BMU\",\"ERI\",\"TJK\",\"FJI\",\"ZWE\",\"LSO\",\"AZE\",\"VCT\",\"LCA\",\"YEM\",\"SUX\",\"GNB\",\"BHS\",\"MDG\",\"MUS\",\"BEN\",\"FRO\",\"ANT\",\"SYC\",\"CIV\",\"ZMB\",\"KIR\",\"SYR\",\"SHN\",\"HND\",\"PYF\",\"MTQ\",\"HTI\",\"SCG\",\"MNG\",\"SLE\",\"AIA\",\"DOM\",\"KGZ\",\"MRT\",\"COD\"],\"name\":\"\",\"z\":[5966.0,3182.0,5167.0,4916.5,3915.5,3294.0,5613.0,3653.0,3963.0,4033.25,2601.25,4745.0,2119.0,3991.25,3385.0,3475.0,4655.0,2660.0,3467.75,2852.0,4052.0,2639.0,4793.5,4808.25,2885.0,3816.5,3523.25,3206.5,4019.0,1988.0,7118.5,1141.0,2262.0,2096.0,2898.0,3735.5,2897.5,4199.25,2279.0,5098.5,3792.0,4638.0,6157.0,3028.5,4110.0,3502.0,3366.0,3960.0,4432.5,4681.25,5493.0,3489.5,4527.0,3428.0,4049.0,5099.0,3040.5,3537.0,4776.0,5601.0,1794.75,3854.0,2673.5,3239.75,3303.0,2701.0,4020.0,3565.0,2199.75,2641.0,5822.0,2698.25,3250.75,5146.0,9818.5,5066.75,2531.0,4777.75,4075.0,4806.5,6488.0,3112.0,3130.75,3952.0,4005.75,5839.0,2592.5,5854.5,3400.25,2136.5,3324.0,4821.0,2406.0,4865.5,2375.5,2392.25,0.0,0.0,2400.0,2038.0,3398.0,2019.5,6607.5,2666.0,0.0,843.0,2261.5,1500.25,2286.0,4531.0,4185.75,2719.75,2096.25,4779.0,0.0,1798.0,4504.0,2563.5,2594.0,3446.0,3602.25,13698.75,3422.0,11534.5,2840.5,2823.25,1877.0,0.0,1694.5,1092.0,0.0,1095.0,2513.0,1814.5,1404.0,2120.0,0.0,0.0,3443.0,1723.0,16380.25,0.0,0.0,1738.0,1557.0,633.0,914.0,0.0,0.0,1121.0,2622.0,9644.0,1781.0,3740.5,2922.0,1489.0,1987.25,0.0,3280.0,1316.0,1184.25,1211.5,1325.0,0.0,10227.0,4514.0,2711.0,828.0,816.0,2773.0,1751.0,1437.0,5490.0,4744.0,1887.0,819.75],\"type\":\"choropleth\"}],\"name\":\"ncsfl\"},{\"data\":[{\"coloraxis\":\"coloraxis\",\"customdata\":[[\"United States\",\"Composite score\"],[\"Lithuania\",\"Composite score\"],[\"Canada\",\"Composite score\"],[\"Australia\",\"Composite score\"],[\"Greece\",\"Composite score\"],[\"Morocco\",\"Composite score\"],[\"Belgium\",\"Composite score\"],[\"Russia\",\"Composite score\"],[\"India\",\"Composite score\"],[\"Mexico\",\"Composite score\"],[\"Jordan\",\"Composite score\"],[\"Luxembourg\",\"Composite score\"],[\"Tanzania\",\"Composite score\"],[\"Estonia\",\"Composite score\"],[\"Bangladesh\",\"Composite score\"],[\"Pakistan\",\"Composite score\"],[\"Portugal\",\"Composite score\"],[\"Kuwait\",\"Composite score\"],[\"Malaysia\",\"Composite score\"],[\"Cameroon\",\"Composite score\"],[\"Brazil\",\"Composite score\"],[\"Serbia\",\"Composite score\"],[\"Finland\",\"Composite score\"],[\"Italy\",\"Composite score\"],[\"Croatia\",\"Composite score\"],[\"Slovenia\",\"Composite score\"],[\"Iran\",\"Composite score\"],[\"Peru\",\"Composite score\"],[\"Cyprus\",\"Composite score\"],[\"Nigeria\",\"Composite score\"],[\"Georgia\",\"Composite score\"],[\"Barbados\",\"Composite score\"],[\"Algeria\",\"Composite score\"],[\"Trinidad and Tobago\",\"Composite score\"],[\"T\\u00fcrkiye\",\"Composite score\"],[\"Chile\",\"Composite score\"],[\"Belarus\",\"Composite score\"],[\"Saudi Arabia\",\"Composite score\"],[\"Oman\",\"Composite score\"],[\"Spain\",\"Composite score\"],[\"South Africa\",\"Composite score\"],[\"Israel\",\"Composite score\"],[\"Switzerland\",\"Composite score\"],[\"New Caledonia\",\"Composite score\"],[\"Kenya\",\"Composite score\"],[\"United Arab Emirates\",\"Composite score\"],[\"Thailand\",\"Composite score\"],[\"Argentina\",\"Composite score\"],[\"Jamaica\",\"Composite score\"],[\"France\",\"Composite score\"],[\"China\",\"Composite score\"],[\"Cuba\",\"Composite score\"],[\"Uruguay\",\"Composite score\"],[\"Iceland\",\"Composite score\"],[\"New Zealand\",\"Composite score\"],[\"United Kingdom\",\"Composite score\"],[\"Bulgaria\",\"Composite score\"],[\"Czechia\",\"Composite score\"],[\"Ireland\",\"Composite score\"],[\"Germany\",\"Composite score\"],[\"Montenegro\",\"Composite score\"],[\"Hungary\",\"Composite score\"],[\"Ukraine\",\"Composite score\"],[\"Poland\",\"Composite score\"],[\"Latvia\",\"Composite score\"],[\"Romania\",\"Composite score\"],[\"Norway\",\"Composite score\"],[\"Philippines\",\"Composite score\"],[\"Venezuela\",\"Composite score\"],[\"Costa Rica\",\"Composite score\"],[\"Netherlands\",\"Composite score\"],[\"Uganda\",\"Composite score\"],[\"Malawi\",\"Composite score\"],[\"Macau\",\"Composite score\"],[\"Armenia\",\"Composite score\"],[\"Japan\",\"Composite score\"],[\"Ghana\",\"Composite score\"],[\"Sweden\",\"Composite score\"],[\"Taiwan\",\"Composite score\"],[\"Denmark\",\"Composite score\"],[\"Puerto Rico\",\"Composite score\"],[\"Sri Lanka\",\"Composite score\"],[\"Lebanon\",\"Composite score\"],[\"Qatar\",\"Composite score\"],[\"Colombia\",\"Composite score\"],[\"Singapore\",\"Composite score\"],[\"Bahrain\",\"Composite score\"],[\"Hong Kong\",\"Composite score\"],[\"Slovakia\",\"Composite score\"],[\"Tunisia\",\"Composite score\"],[\"Malta\",\"Composite score\"],[\"South Korea\",\"Composite score\"],[\"Egypt\",\"Composite score\"],[\"Austria\",\"Composite score\"],[\"Senegal\",\"Composite score\"],[\"Indonesia\",\"Composite score\"],[\"Guadeloupe\",\"lel\"],[\"Guyana\",\"lel\"],[\"Kazakhstan\",\"Composite score\"],[\"Laos\",\"Composite score\"],[\"St. Kitts and Nevis\",\"Composite score\"],[\"Iraq\",\"Composite score\"],[\"Moldova\",\"Composite score\"],[\"French Guiana\",\"Composite score\"],[\"Suriname\",\"lel\"],[\"Afghanistan\",\"Composite score\"],[\"Brunei Darussalam\",\"Composite score\"],[\"Libya\",\"Composite score\"],[\"Nepal\",\"Composite score\"],[\"Panama\",\"Composite score\"],[\"Cambodia\",\"Composite score\"],[\"North Macedonia\",\"Composite score\"],[\"Ecuador\",\"Composite score\"],[\"Mali\",\"Composite score\"],[\"Cayman Islands\",\"lel\"],[\"Ethiopia\",\"Composite score\"],[\"Liberia\",\"Composite score\"],[\"Rwanda\",\"Composite score\"],[\"Grenada\",\"Composite score\"],[\"Liechtenstein\",\"Composite score\"],[\"Guatemala\",\"Composite score\"],[\"Monaco\",\"Composite score\"],[\"Vietnam\",\"Composite score\"],[\"Gambia\",\"Composite score\"],[\"Namibia\",\"Composite score\"],[\"Paraguay\",\"Composite score\"],[\"Botswana\",\"Composite score\"],[\"Timor-Leste\",\"lel\"],[\"Vanuatu\",\"Composite score\"],[\"Burundi\",\"Composite score\"],[\"Burkina Faso\",\"lel\"],[\"Greenland\",\"Composite score\"],[\"Falkland Islands\",\"Composite score\"],[\"Palestine\",\"Composite score\"],[\"Sudan\",\"Composite score\"],[\"Bosnia and Herzegovina\",\"Composite score\"],[\"Curacao\",\"lel\"],[\"Congo Republic\",\"lel\"],[\"Uzbekistan\",\"Composite score\"],[\"Dominica\",\"Composite score\"],[\"Bermuda\",\"Composite score\"],[\"Eritrea\",\"lel\"],[\"Tajikistan\",\"lel\"],[\"Fiji\",\"Composite score\"],[\"Zimbabwe\",\"Composite score\"],[\"Lesotho\",\"Composite score\"],[\"Azerbaijan\",\"Composite score\"],[\"St. Vincent and the Grenadines\",\"lel\"],[\"St. Lucia\",\"lel\"],[\"Yemen\",\"Composite score\"],[\"Russia\",\"Composite score\"],[\"Guinea-Bissau\",\"Composite score\"],[\"Bahamas\",\"Composite score\"],[\"Madagascar\",\"Composite score\"],[\"Mauritius\",\"Composite score\"],[\"Benin\",\"Composite score\"],[\"Faroe Islands\",\"Composite score\"],[\"Netherlands\",\"lel\"],[\"Seychelles\",\"Composite score\"],[\"Cote d'Ivoire\",\"Composite score\"],[\"Zambia\",\"Composite score\"],[\"Kiribati\",\"Composite score\"],[\"Syria\",\"Composite score\"],[\"St. Helena\",\"lel\"],[\"Honduras\",\"Composite score\"],[\"French Polynesia\",\"Composite score\"],[\"Martinique\",\"Composite score\"],[\"Haiti\",\"Composite score\"],[\"Czech Republic\",\"Composite score\"],[\"Mongolia\",\"Composite score\"],[\"Sierra Leone\",\"Composite score\"],[\"Anguilla\",\"Composite score\"],[\"Dominican Republic\",\"Composite score\"],[\"Kyrgyz Republic\",\"Composite score\"],[\"Mauritania\",\"Composite score\"],[\"DR Congo\",\"Composite score\"]],\"geo\":\"geo\",\"hovertemplate\":\"metric=c<br>code=%{location}<br>country=%{customdata[0]}<br>metric_name=%{customdata[1]}<br>median=%{z}<extra></extra>\",\"locations\":[\"USA\",\"LTU\",\"CAN\",\"AUS\",\"GRC\",\"MAR\",\"BEL\",\"RUS\",\"IND\",\"MEX\",\"JOR\",\"LUX\",\"TZA\",\"EST\",\"BGD\",\"PAK\",\"PRT\",\"KWT\",\"MYS\",\"CMR\",\"BRA\",\"SRB\",\"FIN\",\"ITA\",\"HRV\",\"SVN\",\"IRN\",\"PER\",\"CYP\",\"NGA\",\"GEO\",\"BRB\",\"DZA\",\"TTO\",\"TUR\",\"CHL\",\"BLR\",\"SAU\",\"OMN\",\"ESP\",\"ZAF\",\"ISR\",\"CHE\",\"NCL\",\"KEN\",\"ARE\",\"THA\",\"ARG\",\"JAM\",\"FRA\",\"CHN\",\"CUB\",\"URY\",\"ISL\",\"NZL\",\"GBR\",\"BGR\",\"CZE\",\"IRL\",\"DEU\",\"MNE\",\"HUN\",\"UKR\",\"POL\",\"LVA\",\"ROU\",\"NOR\",\"PHL\",\"VEN\",\"CRI\",\"NLD\",\"UGA\",\"MWI\",\"MAC\",\"ARM\",\"JPN\",\"GHA\",\"SWE\",\"TWN\",\"DNK\",\"PRI\",\"LKA\",\"LBN\",\"QAT\",\"COL\",\"SGP\",\"BHR\",\"HKG\",\"SVK\",\"TUN\",\"MLT\",\"KOR\",\"EGY\",\"AUT\",\"SEN\",\"IDN\",\"GLP\",\"GUY\",\"KAZ\",\"LAO\",\"KNA\",\"IRQ\",\"MDA\",\"GUF\",\"SUR\",\"AFG\",\"BRN\",\"LBY\",\"NPL\",\"PAN\",\"KHM\",\"MKD\",\"ECU\",\"MLI\",\"CYM\",\"ETH\",\"LBR\",\"RWA\",\"GRD\",\"LIE\",\"GTM\",\"MCO\",\"VNM\",\"GMB\",\"NAM\",\"PRY\",\"BWA\",\"TLS\",\"VUT\",\"BDI\",\"BFA\",\"GRL\",\"FLK\",\"PSE\",\"SDN\",\"BIH\",\"CUW\",\"COG\",\"UZB\",\"DMA\",\"BMU\",\"ERI\",\"TJK\",\"FJI\",\"ZWE\",\"LSO\",\"AZE\",\"VCT\",\"LCA\",\"YEM\",\"SUX\",\"GNB\",\"BHS\",\"MDG\",\"MUS\",\"BEN\",\"FRO\",\"ANT\",\"SYC\",\"CIV\",\"ZMB\",\"KIR\",\"SYR\",\"SHN\",\"HND\",\"PYF\",\"MTQ\",\"HTI\",\"SCG\",\"MNG\",\"SLE\",\"AIA\",\"DOM\",\"KGZ\",\"MRT\",\"COD\"],\"name\":\"\",\"z\":[3.8213165815917174,3.6456439085380494,3.76603872940312,3.746428925574542,3.5985144032335343,3.407955228602858,3.72034606967044,3.658555788716531,3.545928129245281,3.6651450065086535,3.4351466283466046,3.682581947521418,3.482934975491335,3.623441360403155,3.468011277564982,3.452309990379649,3.630290487390843,3.5556792577179195,3.443023690521006,3.497453983916533,3.584433513402447,3.451667242498641,3.7312892576139136,3.669483250968967,3.512759914136645,3.616808985304838,3.5009452388176365,3.5752108321924574,3.594055485848034,3.4755404273868864,3.9863230365171636,3.249714859226681,3.3566969629957484,3.391484330629449,3.4980918166195107,3.6560365278579203,3.461862035802649,3.634242891314506,3.451497077960018,3.6791207225307296,3.675061251998582,3.714220311076616,3.804354563571515,3.5487550436834168,3.6412887118626047,3.537598901972556,3.4738964614019,3.625451648085283,3.6234836009381315,3.7029829011050444,3.543027039378783,3.6268059175844334,3.842230434273482,3.692236332435022,3.67452442264885,3.7869386098628803,3.5618286638139285,3.6484108722675,3.698482547085814,3.771277682294174,3.3487100267527947,3.706550942138448,3.5164274222477414,3.579375537774812,3.5596221217120725,3.553727535899833,3.651320898738001,3.581613691339949,3.5258356452183657,3.598860675120218,3.7691936267515396,3.4532678658777534,3.574291070411983,3.4350690967893236,3.537214715732803,3.6578708400988997,3.524344019559165,3.7334912566950083,3.548434801047907,3.748814405147958,3.882059190940158,3.38819153132065,3.6032844929119956,3.5890184848595177,3.5993013683377333,3.703811133840079,3.670448304346908,3.7259430599308327,3.5816874732421566,3.317243256513001,3.600634327656045,3.505274496596404,3.516946210582292,3.70610626242271,3.520342364642435,3.4333747369346943,0.0,0.0,3.420478468260872,3.23863932201769,3.619113417602792,3.2908515126426234,3.7318728882232177,3.5290974125491834,0.0,3.014201264818486,3.4353341389859247,3.3855602367559405,3.411747716636485,3.879794448233662,3.53133202543774,3.4868370343143873,3.496049409698723,3.611769012248535,0.0,3.3699242947942833,3.6230542994316517,3.3584556370146874,3.505904684492738,3.667399916521165,3.762659621465319,4.091349357994057,3.5412582491648745,4.103730989649662,3.4325109338674036,3.46582925471431,3.551777025548041,0.0,3.2122282385335073,3.276556344851522,0.0,3.290120714604522,3.659613179416792,3.3664976448203587,3.153032870127042,3.452327368081527,0.0,0.0,3.545569432895841,3.584082835524537,4.229766661232471,0.0,0.0,3.212840319665193,3.240765554598322,3.064668406850013,3.070798846385664,0.0,0.0,3.206288821290625,3.4942961033679882,4.078054452999449,3.305371957176292,3.8262196012582086,3.504810543702622,3.285785068238543,3.2121221053738243,0.0,3.340159027346258,3.195014074617063,3.242525287873966,3.241507224328916,3.17555849764075,0.0,4.248618320209906,3.470968849528854,3.205153573524747,3.116632523567071,2.871397132774971,3.104972497961099,3.377060703677562,3.682404754467226,3.503352576427418,3.888478496674239,3.166700024522011,2.8909410445129193],\"type\":\"choropleth\"}],\"name\":\"c\"},{\"data\":[{\"coloraxis\":\"coloraxis\",\"customdata\":[[\"United States\",\"Number of papers\"],[\"Lithuania\",\"Number of papers\"],[\"Canada\",\"Number of papers\"],[\"Australia\",\"Number of papers\"],[\"Greece\",\"Number of papers\"],[\"Morocco\",\"Number of papers\"],[\"Belgium\",\"Number of papers\"],[\"Russia\",\"Number of papers\"],[\"India\",\"Number of papers\"],[\"Mexico\",\"Number of papers\"],[\"Jordan\",\"Number of papers\"],[\"Luxembourg\",\"Number of papers\"],[\"Tanzania\",\"Number of papers\"],[\"Estonia\",\"Number of papers\"],[\"Bangladesh\",\"Number of papers\"],[\"Pakistan\",\"Number of papers\"],[\"Portugal\",\"Number of papers\"],[\"Kuwait\",\"Number of papers\"],[\"Malaysia\",\"Number of papers\"],[\"Cameroon\",\"Number of papers\"],[\"Brazil\",\"Number of papers\"],[\"Serbia\",\"Number of papers\"],[\"Finland\",\"Number of papers\"],[\"Italy\",\"Number of papers\"],[\"Croatia\",\"Number of papers\"],[\"Slovenia\",\"Number of papers\"],[\"Iran\",\"Number of papers\"],[\"Peru\",\"Number of papers\"],[\"Cyprus\",\"Number of papers\"],[\"Nigeria\",\"Number of papers\"],[\"Georgia\",\"Number of papers\"],[\"Barbados\",\"Number of papers\"],[\"Algeria\",\"Number of papers\"],[\"Trinidad and Tobago\",\"Number of papers\"],[\"T\\u00fcrkiye\",\"Number of papers\"],[\"Chile\",\"Number of papers\"],[\"Belarus\",\"Number of papers\"],[\"Saudi Arabia\",\"Number of papers\"],[\"Oman\",\"Number of papers\"],[\"Spain\",\"Number of papers\"],[\"South Africa\",\"Number of papers\"],[\"Israel\",\"Number of papers\"],[\"Switzerland\",\"Number of papers\"],[\"New Caledonia\",\"Number of papers\"],[\"Kenya\",\"Number of papers\"],[\"United Arab Emirates\",\"Number of papers\"],[\"Thailand\",\"Number of papers\"],[\"Argentina\",\"Number of papers\"],[\"Jamaica\",\"Number of papers\"],[\"France\",\"Number of papers\"],[\"China\",\"Number of papers\"],[\"Cuba\",\"Number of papers\"],[\"Uruguay\",\"Number of papers\"],[\"Iceland\",\"Number of papers\"],[\"New Zealand\",\"Number of papers\"],[\"United Kingdom\",\"Number of papers\"],[\"Bulgaria\",\"Number of papers\"],[\"Czechia\",\"Number of papers\"],[\"Ireland\",\"Number of papers\"],[\"Germany\",\"Number of papers\"],[\"Montenegro\",\"Number of papers\"],[\"Hungary\",\"Number of papers\"],[\"Ukraine\",\"Number of papers\"],[\"Poland\",\"Number of papers\"],[\"Latvia\",\"Number of papers\"],[\"Romania\",\"Number of papers\"],[\"Norway\",\"Number of papers\"],[\"Philippines\",\"Number of papers\"],[\"Venezuela\",\"Number of papers\"],[\"Costa Rica\",\"Number of papers\"],[\"Netherlands\",\"Number of papers\"],[\"Uganda\",\"Number of papers\"],[\"Malawi\",\"Number of papers\"],[\"Macau\",\"Number of papers\"],[\"Armenia\",\"Number of papers\"],[\"Japan\",\"Number of papers\"],[\"Ghana\",\"Number of papers\"],[\"Sweden\",\"Number of papers\"],[\"Taiwan\",\"Number of papers\"],[\"Denmark\",\"Number of papers\"],[\"Puerto Rico\",\"Number of papers\"],[\"Sri Lanka\",\"Number of papers\"],[\"Lebanon\",\"Number of papers\"],[\"Qatar\",\"Number of papers\"],[\"Colombia\",\"Number of papers\"],[\"Singapore\",\"Number of papers\"],[\"Bahrain\",\"Number of papers\"],[\"Hong Kong\",\"Number of papers\"],[\"Slovakia\",\"Number of papers\"],[\"Tunisia\",\"Number of papers\"],[\"Malta\",\"Number of papers\"],[\"South Korea\",\"Number of papers\"],[\"Egypt\",\"Number of papers\"],[\"Austria\",\"Number of papers\"],[\"Senegal\",\"Number of papers\"],[\"Indonesia\",\"Number of papers\"],[\"Guadeloupe\",\"lel\"],[\"Guyana\",\"lel\"],[\"Kazakhstan\",\"Number of papers\"],[\"Laos\",\"Number of papers\"],[\"St. Kitts and Nevis\",\"Number of papers\"],[\"Iraq\",\"Number of papers\"],[\"Moldova\",\"Number of papers\"],[\"French Guiana\",\"Number of papers\"],[\"Suriname\",\"lel\"],[\"Afghanistan\",\"Number of papers\"],[\"Brunei Darussalam\",\"Number of papers\"],[\"Libya\",\"Number of papers\"],[\"Nepal\",\"Number of papers\"],[\"Panama\",\"Number of papers\"],[\"Cambodia\",\"Number of papers\"],[\"North Macedonia\",\"Number of papers\"],[\"Ecuador\",\"Number of papers\"],[\"Mali\",\"Number of papers\"],[\"Cayman Islands\",\"lel\"],[\"Ethiopia\",\"Number of papers\"],[\"Liberia\",\"Number of papers\"],[\"Rwanda\",\"Number of papers\"],[\"Grenada\",\"Number of papers\"],[\"Liechtenstein\",\"Number of papers\"],[\"Guatemala\",\"Number of papers\"],[\"Monaco\",\"Number of papers\"],[\"Vietnam\",\"Number of papers\"],[\"Gambia\",\"Number of papers\"],[\"Namibia\",\"Number of papers\"],[\"Paraguay\",\"Number of papers\"],[\"Botswana\",\"Number of papers\"],[\"Timor-Leste\",\"lel\"],[\"Vanuatu\",\"Number of papers\"],[\"Burundi\",\"Number of papers\"],[\"Burkina Faso\",\"lel\"],[\"Greenland\",\"Number of papers\"],[\"Falkland Islands\",\"Number of papers\"],[\"Palestine\",\"Number of papers\"],[\"Sudan\",\"Number of papers\"],[\"Bosnia and Herzegovina\",\"Number of papers\"],[\"Curacao\",\"lel\"],[\"Congo Republic\",\"lel\"],[\"Uzbekistan\",\"Number of papers\"],[\"Dominica\",\"Number of papers\"],[\"Bermuda\",\"Number of papers\"],[\"Eritrea\",\"lel\"],[\"Tajikistan\",\"lel\"],[\"Fiji\",\"Number of papers\"],[\"Zimbabwe\",\"Number of papers\"],[\"Lesotho\",\"Number of papers\"],[\"Azerbaijan\",\"Number of papers\"],[\"St. Vincent and the Grenadines\",\"lel\"],[\"St. Lucia\",\"lel\"],[\"Yemen\",\"Number of papers\"],[\"Russia\",\"Number of papers\"],[\"Guinea-Bissau\",\"Number of papers\"],[\"Bahamas\",\"Number of papers\"],[\"Madagascar\",\"Number of papers\"],[\"Mauritius\",\"Number of papers\"],[\"Benin\",\"Number of papers\"],[\"Faroe Islands\",\"Number of papers\"],[\"Netherlands\",\"lel\"],[\"Seychelles\",\"Number of papers\"],[\"Cote d'Ivoire\",\"Number of papers\"],[\"Zambia\",\"Number of papers\"],[\"Kiribati\",\"Number of papers\"],[\"Syria\",\"Number of papers\"],[\"St. Helena\",\"lel\"],[\"Honduras\",\"Number of papers\"],[\"French Polynesia\",\"Number of papers\"],[\"Martinique\",\"Number of papers\"],[\"Haiti\",\"Number of papers\"],[\"Czech Republic\",\"Number of papers\"],[\"Mongolia\",\"Number of papers\"],[\"Sierra Leone\",\"Number of papers\"],[\"Anguilla\",\"Number of papers\"],[\"Dominican Republic\",\"Number of papers\"],[\"Kyrgyz Republic\",\"Number of papers\"],[\"Mauritania\",\"Number of papers\"],[\"DR Congo\",\"Number of papers\"]],\"geo\":\"geo\",\"hovertemplate\":\"metric=np<br>code=%{location}<br>country=%{customdata[0]}<br>metric_name=%{customdata[1]}<br>median=%{z}<extra></extra>\",\"locations\":[\"USA\",\"LTU\",\"CAN\",\"AUS\",\"GRC\",\"MAR\",\"BEL\",\"RUS\",\"IND\",\"MEX\",\"JOR\",\"LUX\",\"TZA\",\"EST\",\"BGD\",\"PAK\",\"PRT\",\"KWT\",\"MYS\",\"CMR\",\"BRA\",\"SRB\",\"FIN\",\"ITA\",\"HRV\",\"SVN\",\"IRN\",\"PER\",\"CYP\",\"NGA\",\"GEO\",\"BRB\",\"DZA\",\"TTO\",\"TUR\",\"CHL\",\"BLR\",\"SAU\",\"OMN\",\"ESP\",\"ZAF\",\"ISR\",\"CHE\",\"NCL\",\"KEN\",\"ARE\",\"THA\",\"ARG\",\"JAM\",\"FRA\",\"CHN\",\"CUB\",\"URY\",\"ISL\",\"NZL\",\"GBR\",\"BGR\",\"CZE\",\"IRL\",\"DEU\",\"MNE\",\"HUN\",\"UKR\",\"POL\",\"LVA\",\"ROU\",\"NOR\",\"PHL\",\"VEN\",\"CRI\",\"NLD\",\"UGA\",\"MWI\",\"MAC\",\"ARM\",\"JPN\",\"GHA\",\"SWE\",\"TWN\",\"DNK\",\"PRI\",\"LKA\",\"LBN\",\"QAT\",\"COL\",\"SGP\",\"BHR\",\"HKG\",\"SVK\",\"TUN\",\"MLT\",\"KOR\",\"EGY\",\"AUT\",\"SEN\",\"IDN\",\"GLP\",\"GUY\",\"KAZ\",\"LAO\",\"KNA\",\"IRQ\",\"MDA\",\"GUF\",\"SUR\",\"AFG\",\"BRN\",\"LBY\",\"NPL\",\"PAN\",\"KHM\",\"MKD\",\"ECU\",\"MLI\",\"CYM\",\"ETH\",\"LBR\",\"RWA\",\"GRD\",\"LIE\",\"GTM\",\"MCO\",\"VNM\",\"GMB\",\"NAM\",\"PRY\",\"BWA\",\"TLS\",\"VUT\",\"BDI\",\"BFA\",\"GRL\",\"FLK\",\"PSE\",\"SDN\",\"BIH\",\"CUW\",\"COG\",\"UZB\",\"DMA\",\"BMU\",\"ERI\",\"TJK\",\"FJI\",\"ZWE\",\"LSO\",\"AZE\",\"VCT\",\"LCA\",\"YEM\",\"SUX\",\"GNB\",\"BHS\",\"MDG\",\"MUS\",\"BEN\",\"FRO\",\"ANT\",\"SYC\",\"CIV\",\"ZMB\",\"KIR\",\"SYR\",\"SHN\",\"HND\",\"PYF\",\"MTQ\",\"HTI\",\"SCG\",\"MNG\",\"SLE\",\"AIA\",\"DOM\",\"KGZ\",\"MRT\",\"COD\"],\"name\":\"\",\"z\":[224.0,229.0,230.0,245.0,236.0,246.0,329.0,296.5,232.0,246.75,145.75,252.5,153.0,202.0,213.0,303.0,284.0,131.75,284.0,238.0,262.5,195.0,268.25,299.0,226.0,251.5,241.0,228.5,192.5,162.0,252.0,65.0,191.5,130.0,163.75,195.0,244.0,267.0,183.0,274.0,228.0,206.75,260.0,189.5,179.0,183.0,240.0,187.0,176.0,270.0,356.0,245.0,214.0,185.5,191.0,225.0,163.0,252.0,241.0,303.0,233.0,232.75,255.0,230.0,219.0,243.75,205.0,153.0,152.25,138.0,295.0,366.0,272.5,334.25,305.75,324.75,153.0,231.0,253.0,246.0,221.0,191.0,221.75,256.0,203.5,295.0,159.75,319.0,227.25,239.5,192.0,280.0,163.0,268.5,284.75,194.0,0.0,0.0,175.0,124.0,152.0,153.5,180.0,299.0,0.0,80.0,198.25,80.75,135.0,170.0,264.5,233.75,151.75,488.0,0.0,182.75,218.5,157.5,161.0,198.0,417.0,419.25,207.5,457.0,125.0,134.0,133.0,0.0,98.5,59.0,0.0,130.0,156.0,114.5,178.0,233.0,0.0,0.0,142.0,123.0,472.25,0.0,0.0,130.0,119.25,48.0,73.75,0.0,0.0,51.0,30.0,648.0,111.0,263.0,102.0,167.0,156.75,0.0,196.0,17.0,168.25,88.0,66.25,0.0,299.0,75.0,181.0,147.0,177.0,93.0,66.0,220.0,62.0,203.0,28.0,57.5],\"type\":\"choropleth\"}],\"name\":\"np\"}]);\n",
       "                        }).then(function(){\n",
       "                            \n",
       "var gd = document.getElementById('dc88faec-429f-4662-80b9-95b52ab764d2');\n",
       "var x = new MutationObserver(function (mutations, observer) {{\n",
       "        var display = window.getComputedStyle(gd).display;\n",
       "        if (!display || display === 'none') {{\n",
       "            console.log([gd, 'removed!']);\n",
       "            Plotly.purge(gd);\n",
       "            observer.disconnect();\n",
       "        }}\n",
       "}});\n",
       "\n",
       "// Listen for the removal of the full notebook cells\n",
       "var notebookContainer = gd.closest('#notebook-container');\n",
       "if (notebookContainer) {{\n",
       "    x.observe(notebookContainer, {childList: true});\n",
       "}}\n",
       "\n",
       "// Listen for the clearing of the current output cell\n",
       "var outputEl = gd.closest('.output');\n",
       "if (outputEl) {{\n",
       "    x.observe(outputEl, {childList: true});\n",
       "}}\n",
       "\n",
       "                        })                };                });            </script>        </div>"
      ]
     },
     "metadata": {},
     "output_type": "display_data"
    }
   ],
   "source": [
    "import pandas as pd \n",
    "import country_converter as coco\n",
    "import json\n",
    "import plotly.io as pio\n",
    "\n",
    "cc = coco.CountryConverter()\n",
    "world_path = '../aggregate/custom.geo.json'\n",
    "with open(world_path) as f: geo_world = json.load(f)\n",
    "aa = pd.read_pickle('../cntry_sum.pkl')\n",
    "yr = 2021\n",
    "log = ''\n",
    "st_idx = 3\n",
    "metrics = ['nc', 'h', 'hm',  'ncs', 'ncsf', 'ncsfl', 'c', 'np']\n",
    "metrics_name = ['# Citations', 'H-index', 'Hm-index',  '# citations to single auth papers', '# citations to single/first auth papers', '# citations to single/first/last auth papers', 'Composite score', 'Number of papers']\n",
    "df = pd.DataFrame(columns=['code', 'country', 'median', 'min','geometry', 'metric', 'metric_name'])\n",
    "kk = 0\n",
    "for idxx, metric in enumerate(metrics):\n",
    "    for idx, cntry in enumerate(aa):\n",
    "        if cntry['ct'] != 'csk' and cntry['ct'] != 'nan':\n",
    "            if cntry['ct'] == 'sux':\n",
    "                cur_name = \"Russia\"\n",
    "            elif cntry['ct'] == 'ant': \n",
    "                cur_name = \"Netherlands\"\n",
    "            elif cntry['ct'] == 'scg': \n",
    "                cur_name = 'Czech Republic'\n",
    "            else: \n",
    "                cur_name = cc.convert(cntry['ct'], to = 'name_short')\n",
    "            try:\n",
    "                df.loc[kk] = ([cntry['ct'].upper()]) + [cur_name] + [cntry['dat'][f'career_{yr}{log}'][metric][3]] + [cntry['dat'][f'career_{yr}{log}'][metric][3]] + [''] + [str(metric)] + [str(metrics_name[idxx])]\n",
    "            except Exception as e:\n",
    "                df.loc[kk] = ([cntry['ct'].upper()]) + [cur_name] + [0]+ [0] + [''] + [str(metric)] + ['lel']\n",
    "            kk = kk +1 \n",
    "\n",
    "df.index = df['code']\n",
    "\n",
    "\n",
    "import plotly.express as px\n",
    "\n",
    "# fig = px.choropleth_mapbox(data_frame=df,\n",
    "#                            geojson=geo_world_ok,\n",
    "#                            locations='code',\n",
    "#                            color='median',\n",
    "#                            color_continuous_scale=\"viridis\",\n",
    "#                            mapbox_style = 'open-street-map',\n",
    "#                            #range_color=(0, 50),\n",
    "#                            animation_frame='metric',\n",
    "#                            hover_data=['country','metric_name'],\n",
    "#                            zoom = 0.3)\n",
    "\n",
    "fig = px.choropleth(data_frame=df,\n",
    "                           locations='code',\n",
    "                           color='median',\n",
    "                           color_continuous_scale=\"viridis\",\n",
    "                           range_color=(0, 15000),\n",
    "                           animation_frame='metric',\n",
    "                           hover_data=['country','metric_name'])\n",
    "\n",
    "fig.update_layout(width=800,\n",
    "                  height = 800,\n",
    "                  coloraxis_colorbar_thickness=23) \n",
    "\n"
   ]
  },
  {
   "cell_type": "code",
   "execution_count": 105,
   "id": "7b72deba-deaf-4252-ab5b-9c3ad6ca1f7a",
   "metadata": {},
   "outputs": [
    {
     "data": {
      "text/plain": [
       "True"
      ]
     },
     "execution_count": 105,
     "metadata": {},
     "output_type": "execute_result"
    }
   ],
   "source": [
    "'fra' in list(df.code)"
   ]
  },
  {
   "cell_type": "code",
   "execution_count": 107,
   "id": "439290ee-9528-41e8-b4af-9832ab9da0dd",
   "metadata": {},
   "outputs": [
    {
     "data": {
      "text/html": [
       "<div>\n",
       "<style scoped>\n",
       "    .dataframe tbody tr th:only-of-type {\n",
       "        vertical-align: middle;\n",
       "    }\n",
       "\n",
       "    .dataframe tbody tr th {\n",
       "        vertical-align: top;\n",
       "    }\n",
       "\n",
       "    .dataframe thead th {\n",
       "        text-align: right;\n",
       "    }\n",
       "</style>\n",
       "<table border=\"1\" class=\"dataframe\">\n",
       "  <thead>\n",
       "    <tr style=\"text-align: right;\">\n",
       "      <th></th>\n",
       "      <th>code</th>\n",
       "      <th>country</th>\n",
       "      <th>median</th>\n",
       "      <th>min</th>\n",
       "      <th>geometry</th>\n",
       "      <th>metric</th>\n",
       "      <th>metric_name</th>\n",
       "    </tr>\n",
       "    <tr>\n",
       "      <th>code</th>\n",
       "      <th></th>\n",
       "      <th></th>\n",
       "      <th></th>\n",
       "      <th></th>\n",
       "      <th></th>\n",
       "      <th></th>\n",
       "      <th></th>\n",
       "    </tr>\n",
       "  </thead>\n",
       "  <tbody>\n",
       "    <tr>\n",
       "      <th>fra</th>\n",
       "      <td>fra</td>\n",
       "      <td>France</td>\n",
       "      <td>10986.500000</td>\n",
       "      <td>10986.500000</td>\n",
       "      <td></td>\n",
       "      <td>nc</td>\n",
       "      <td># Citations</td>\n",
       "    </tr>\n",
       "    <tr>\n",
       "      <th>fra</th>\n",
       "      <td>fra</td>\n",
       "      <td>France</td>\n",
       "      <td>52.000000</td>\n",
       "      <td>52.000000</td>\n",
       "      <td></td>\n",
       "      <td>h</td>\n",
       "      <td>H-index</td>\n",
       "    </tr>\n",
       "    <tr>\n",
       "      <th>fra</th>\n",
       "      <td>fra</td>\n",
       "      <td>France</td>\n",
       "      <td>21.133815</td>\n",
       "      <td>21.133815</td>\n",
       "      <td></td>\n",
       "      <td>hm</td>\n",
       "      <td>Hm-index</td>\n",
       "    </tr>\n",
       "    <tr>\n",
       "      <th>fra</th>\n",
       "      <td>fra</td>\n",
       "      <td>France</td>\n",
       "      <td>327.250000</td>\n",
       "      <td>327.250000</td>\n",
       "      <td></td>\n",
       "      <td>ncs</td>\n",
       "      <td># citations to single auth papers</td>\n",
       "    </tr>\n",
       "    <tr>\n",
       "      <th>fra</th>\n",
       "      <td>fra</td>\n",
       "      <td>France</td>\n",
       "      <td>2060.000000</td>\n",
       "      <td>2060.000000</td>\n",
       "      <td></td>\n",
       "      <td>ncsf</td>\n",
       "      <td># citations to single/first auth papers</td>\n",
       "    </tr>\n",
       "    <tr>\n",
       "      <th>fra</th>\n",
       "      <td>fra</td>\n",
       "      <td>France</td>\n",
       "      <td>4681.250000</td>\n",
       "      <td>4681.250000</td>\n",
       "      <td></td>\n",
       "      <td>ncsfl</td>\n",
       "      <td># citations to single/first/last auth papers</td>\n",
       "    </tr>\n",
       "    <tr>\n",
       "      <th>fra</th>\n",
       "      <td>fra</td>\n",
       "      <td>France</td>\n",
       "      <td>3.702983</td>\n",
       "      <td>3.702983</td>\n",
       "      <td></td>\n",
       "      <td>c</td>\n",
       "      <td>Composite score</td>\n",
       "    </tr>\n",
       "    <tr>\n",
       "      <th>fra</th>\n",
       "      <td>fra</td>\n",
       "      <td>France</td>\n",
       "      <td>270.000000</td>\n",
       "      <td>270.000000</td>\n",
       "      <td></td>\n",
       "      <td>np</td>\n",
       "      <td>Number of papers</td>\n",
       "    </tr>\n",
       "  </tbody>\n",
       "</table>\n",
       "</div>"
      ],
      "text/plain": [
       "     code country        median           min geometry metric  \\\n",
       "code                                                            \n",
       "fra   fra  France  10986.500000  10986.500000              nc   \n",
       "fra   fra  France     52.000000     52.000000               h   \n",
       "fra   fra  France     21.133815     21.133815              hm   \n",
       "fra   fra  France    327.250000    327.250000             ncs   \n",
       "fra   fra  France   2060.000000   2060.000000            ncsf   \n",
       "fra   fra  France   4681.250000   4681.250000           ncsfl   \n",
       "fra   fra  France      3.702983      3.702983               c   \n",
       "fra   fra  France    270.000000    270.000000              np   \n",
       "\n",
       "                                       metric_name  \n",
       "code                                                \n",
       "fra                                    # Citations  \n",
       "fra                                        H-index  \n",
       "fra                                       Hm-index  \n",
       "fra              # citations to single auth papers  \n",
       "fra        # citations to single/first auth papers  \n",
       "fra   # citations to single/first/last auth papers  \n",
       "fra                                Composite score  \n",
       "fra                               Number of papers  "
      ]
     },
     "execution_count": 107,
     "metadata": {},
     "output_type": "execute_result"
    }
   ],
   "source": [
    "df[df['code'] == 'fra']"
   ]
  },
  {
   "cell_type": "code",
   "execution_count": 123,
   "id": "a7ef44ef-3531-43ac-a28d-83fc4631c773",
   "metadata": {},
   "outputs": [],
   "source": [
    "aa = pd.read_pickle('../cntry_sum.pkl')\n",
    "bb = pd.read_pickle('../cntry_career.pickle')"
   ]
  },
  {
   "cell_type": "code",
   "execution_count": 128,
   "id": "13ffd123-87ff-4be6-ac02-13afd3e46115",
   "metadata": {},
   "outputs": [
    {
     "data": {
      "text/plain": [
       "{'np': [5, 99.0, 153.0, 235.0, 2031, 46013],\n",
       " 'rank (ns)': [2, 21976.0, 46973.0, 74042.0, 317294, 46013],\n",
       " 'nc (ns)': [323, 3474.0, 5666.0, 10023.0, 241071, 46013],\n",
       " 'h (ns)': [4, 29.0, 37.0, 48.0, 213, 46013],\n",
       " 'hm (ns)': [2.0, 14.5728, 17.7167, 22.3595, 95.0833, 46013],\n",
       " 'nps (ns)': [0, 5.0, 9.0, 18.0, 958, 46013],\n",
       " 'ncs (ns)': [0, 79.0, 211.0, 500.0, 135334, 46013],\n",
       " 'cpsf (ns)': [1, 23.0, 35.0, 55.0, 1274, 46013],\n",
       " 'ncsf (ns)': [17, 854.0, 1343.0, 2238.0, 147569, 46013],\n",
       " 'npsfl (ns)': [3, 60.0, 92.0, 142.0, 1723, 46013],\n",
       " 'ncsfl (ns)': [171, 2052.0, 3120.0, 5263.0, 154733, 46013],\n",
       " 'c (ns)': [2.861693, 3.513474, 3.680695, 3.926044, 5.514069, 46013],\n",
       " 'npciting (ns)': [286, 2627.0, 4281.0, 7423.0, 170213, 46013],\n",
       " 'self%': [0.0,\n",
       "  0.07116502400808689,\n",
       "  0.10729062633756603,\n",
       "  0.15164791396992927,\n",
       "  0.7353152721169983,\n",
       "  46013],\n",
       " 'rank': [3, 22614.0, 48357.0, 76338.0, 122864, 46013],\n",
       " 'nc': [901, 3975.0, 6482.0, 11384.0, 259310, 46013],\n",
       " 'h': [4, 31.0, 40.0, 52.0, 222, 46013],\n",
       " 'hm': [2.0, 15.4292, 18.8595, 23.852, 95.0833, 46013],\n",
       " 'nps': [0, 5.0, 9.0, 18.0, 958, 46013],\n",
       " 'ncs': [0, 86.0, 227.0, 536.0, 135334, 46013],\n",
       " 'cpsf': [1, 23.0, 35.0, 55.0, 1274, 46013],\n",
       " 'ncsf': [17, 956.0, 1490.0, 2454.0, 149125, 46013],\n",
       " 'npsfl': [3, 60.0, 92.0, 142.0, 1723, 46013],\n",
       " 'ncsfl': [267, 2314.0, 3506.0, 5879.0, 157458, 46013],\n",
       " 'c': [3.367496, 3.559387, 3.724378, 3.965394, 5.506425, 46013],\n",
       " 'npciting': [364, 2810.0, 4580.0, 7930.0, 177919, 46013]}"
      ]
     },
     "execution_count": 128,
     "metadata": {},
     "output_type": "execute_result"
    }
   ],
   "source": [
    "aa[0]['dat']['career_2017']"
   ]
  },
  {
   "cell_type": "code",
   "execution_count": 136,
   "id": "2edd7877-e151-49ca-8da4-60954b8bee7b",
   "metadata": {},
   "outputs": [
    {
     "data": {
      "text/plain": [
       "['2018', '2021', '2017', '2020', '2019']"
      ]
     },
     "execution_count": 136,
     "metadata": {},
     "output_type": "execute_result"
    }
   ],
   "source": [
    "list(set([cr.split('_')[1] for cr in list(bb[0]['dat'].keys())]))"
   ]
  },
  {
   "cell_type": "code",
   "execution_count": null,
   "id": "dcb211cf-b617-4967-a91c-d71b2184ffb3",
   "metadata": {},
   "outputs": [],
   "source": []
  }
 ],
 "metadata": {
  "kernelspec": {
   "display_name": "Python 3 (ipykernel)",
   "language": "python",
   "name": "python3"
  },
  "language_info": {
   "codemirror_mode": {
    "name": "ipython",
    "version": 3
   },
   "file_extension": ".py",
   "mimetype": "text/x-python",
   "name": "python",
   "nbconvert_exporter": "python",
   "pygments_lexer": "ipython3",
   "version": "3.8.18"
  }
 },
 "nbformat": 4,
 "nbformat_minor": 5
}
