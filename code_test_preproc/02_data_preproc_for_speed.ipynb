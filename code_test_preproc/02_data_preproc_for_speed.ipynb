{
 "cells": [
  {
   "cell_type": "code",
   "execution_count": 2,
   "id": "98f63493",
   "metadata": {
    "scrolled": true
   },
   "outputs": [],
   "source": [
    "# =============================================\n",
    "# IMPORT LIBRARIES\n",
    "# =============================================\n",
    "\n",
    "import numpy as np\n",
    "import pandas as pd\n",
    "import os\n",
    "os.chdir('..')\n",
    "import pickle\n",
    "import json\n",
    "\n",
    "from citations_lib.create_fig_helper_functions import *\n",
    "from citations_lib.utils import *\n",
    "from citations_lib.author_vs_group_layout import *\n",
    "from citations_lib.group_vs_group_layout import *\n",
    "from citations_lib.author_vs_author_layout import *\n",
    "from citations_lib.metric_tab_layout import *\n",
    "\n",
    "import dash\n",
    "import dash.html as html\n",
    "import dash_leaflet as dl\n",
    "from jupyter_dash import JupyterDash\n",
    "#from dash_extensions.javascript import arrow_function, assign, Namespace\n",
    "import country_converter as coco\n",
    "cc = coco.CountryConverter()\n",
    "\n",
    "# ======================a=======================\n",
    "# Data Preparation\n",
    "# =============================================\n",
    "\n",
    "dfs_career, dfs_singleyr, dfs_career_log, dfs_singleyr_log, dfs_career_text, dfs_singleyr_text, dfs_career_yrs, dfs_singleyr_yrs = load_standardized_data('/Users/agah/Desktop/neuropoly/no_cite-isfaction/data/')"
   ]
  },
  {
   "cell_type": "code",
   "execution_count": 3,
   "id": "b700425e-e470-416c-bd97-1dd4c919c818",
   "metadata": {
    "editable": true,
    "slideshow": {
     "slide_type": ""
    },
    "tags": []
   },
   "outputs": [],
   "source": [
    "import numbers\n",
    "\n",
    "def sum_stuff(stuff):\n",
    "    ln = len(stuff)\n",
    "    stuff = np.array(stuff)\n",
    "    #q= stuff.percentile([25, 50, 75])\n",
    "    q =  list(np.percentile(stuff, [25, 50, 75]))\n",
    "    mn = stuff.min()\n",
    "    mx = stuff.max()\n",
    "    return [mn,q[0],q[1],q[2],mx,ln]\n",
    "\n",
    "\n",
    "career_versions = [1,1,2,3,5]\n",
    "singleyr_versions = [1,2,3,5]\n",
    "\n",
    "def process_data_by_country(dfs, dfs_log, aggmetric, type):\n",
    "    result_dict = {}\n",
    "\n",
    "    if type == 'career':\n",
    "        yrs = [2017, 2018, 2019, 2020, 2021]\n",
    "        prefix= 'career'\n",
    "    else:        \n",
    "        yrs = [2017, 2019, 2020, 2021]\n",
    "        prefix = 'singleyr'\n",
    "    \n",
    "    #for index, (dict1_item, dict2_item, dict3_item) in enumerate(zip(dict1.items(), dict2.items(), dict3.items())):\n",
    "    for yr, (df,df_log) in enumerate(zip(dfs,dfs_log)):\n",
    "        ns = True\n",
    "        metrics_list = ['rank', 'c', 'nc','h', 'hm', 'ncs','ncsf','ncsfl','nps','cpsf','npsfl','npciting']      \n",
    "        metrics_list += [i + ' (ns)' if ns else i for i in metrics_list]\n",
    "        metrics_list += ['np' ,'self%']\n",
    "\n",
    "        # Filter the dataframe for the specified country\n",
    "        df = df.dropna(subset=[aggmetric])\n",
    "        df_log = df_log.dropna(subset=[aggmetric])\n",
    "\n",
    "        unique_fields = list(set(df[aggmetric]))\n",
    "        print(len(unique_fields))\n",
    "        curkey = f'{prefix}_{yrs[yr]}'\n",
    "        curkey_log = f'{prefix}_{yrs[yr]}_log'\n",
    "        print(curkey)\n",
    "            \n",
    "        for field in unique_fields:\n",
    "            if field not in result_dict:\n",
    "                result_dict[field] = {}\n",
    "            \n",
    "            # Filter the dataframe for the current year and field\n",
    "            filtered_data = df[df[aggmetric] == field]\n",
    "            filtered_data_log = df_log[df_log[aggmetric] == field]\n",
    "            \n",
    "            # Get all metrics for the current field\n",
    "            metrics = filtered_data.columns\n",
    "            if curkey not in result_dict[field]:\n",
    "                result_dict[field][curkey] = {}\n",
    "                result_dict[field][curkey_log] = {}\n",
    "            for metric in metrics:\n",
    "                if (metric not in result_dict[field][curkey]) and (metric in metrics_list):\n",
    "                    result_dict[field][curkey][metric] = []\n",
    "                    result_dict[field][curkey_log][metric] = []\n",
    "                \n",
    "                # Append the values to the corresponding metric list\n",
    "                if metric  in metrics_list:\n",
    "                    result_dict[field][curkey][metric].extend(sum_stuff(filtered_data[metric].tolist()))\n",
    "                    result_dict[field][curkey_log][metric].extend(sum_stuff(filtered_data_log[metric].tolist()))\n",
    "    print(\"DONE\")\n",
    "    return result_dict\n",
    "\n",
    "# Example usage:\n",
    "\n"
   ]
  },
  {
   "cell_type": "markdown",
   "id": "08cc9e19-e03d-4931-8035-5a880d536424",
   "metadata": {},
   "source": [
    "## Career aggregate data"
   ]
  },
  {
   "cell_type": "code",
   "execution_count": 10,
   "id": "b7882786-24ed-4f9e-a9c8-6d96f98fdec1",
   "metadata": {},
   "outputs": [],
   "source": [
    "# COUNTRY\n",
    "result_dict_cntry = process_data_by_country(dfs_career, dfs_career_log, 'cntry','career')\n",
    "pickle.dump(result_dict_cntry, open(\"/Users/agah/Desktop/neuropoly/no_cite-isfaction/career_aggregate_cntry.p\", \"wb\"))"
   ]
  },
  {
   "cell_type": "code",
   "execution_count": 31,
   "id": "3d41c17a-d3eb-4019-b43c-11f16c00e76c",
   "metadata": {
    "editable": true,
    "slideshow": {
     "slide_type": ""
    },
    "tags": []
   },
   "outputs": [],
   "source": [
    "# FIELD\n",
    "result_dict_field = process_data_by_country(dfs_career, dfs_career_log, 'sm-field','career')\n",
    "pickle.dump(result_dict_field, open(\"/Users/agah/Desktop/neuropoly/no_cite-isfaction/career_aggregate_field.p\", \"wb\"))"
   ]
  },
  {
   "cell_type": "code",
   "execution_count": 32,
   "id": "02f87cb1-3e11-4919-814b-e1228a377d1b",
   "metadata": {
    "editable": true,
    "slideshow": {
     "slide_type": ""
    },
    "tags": []
   },
   "outputs": [],
   "source": [
    "# INSTITUTION (TAKES LONGER)\n",
    "result_dict_inst = process_data_by_country(dfs_career, dfs_career_log, 'inst_name','career')\n",
    "pickle.dump(result_dict_inst, open(\"/Users/agah/Desktop/neuropoly/no_cite-isfaction/career_aggregate_inst2.p\", \"wb\"))"
   ]
  },
  {
   "cell_type": "markdown",
   "id": "7f002129-6b88-4c04-bd0a-ce8d611fd6e5",
   "metadata": {
    "editable": true,
    "slideshow": {
     "slide_type": ""
    },
    "tags": []
   },
   "source": [
    "## Singleyr aggregate data"
   ]
  },
  {
   "cell_type": "code",
   "execution_count": 33,
   "id": "87c74109-e219-49d6-9da9-d0d643aab853",
   "metadata": {},
   "outputs": [],
   "source": [
    "# INSTITUTION (TAKES LONGER)\n",
    "result_dict_inst = process_data_by_country(dfs_singleyr, dfs_singleyr_log, 'inst_name','singleyr')\n",
    "pickle.dump(result_dict_inst, open(\"/Users/agah/Desktop/neuropoly/no_cite-isfaction/singleyr_aggregate_inst.p\", \"wb\"))"
   ]
  },
  {
   "cell_type": "code",
   "execution_count": 34,
   "id": "6506badb-2724-4bfb-8972-5fda8271f797",
   "metadata": {},
   "outputs": [],
   "source": [
    "# COUNTRY\n",
    "result_dict_inst = process_data_by_country(dfs_singleyr, dfs_singleyr_log, 'cntry','singleyr')\n",
    "pickle.dump(result_dict_inst, open(\"/Users/agah/Desktop/neuropoly/no_cite-isfaction/singleyr_aggregate_cntry.p\", \"wb\"))"
   ]
  },
  {
   "cell_type": "code",
   "execution_count": 35,
   "id": "1cc51fdb-2576-4628-bef8-3789c9832513",
   "metadata": {},
   "outputs": [],
   "source": [
    "# FIELD\n",
    "result_dict_inst = process_data_by_country(dfs_singleyr, dfs_singleyr_log, 'sm-field','singleyr')\n",
    "pickle.dump(result_dict_inst, open(\"/Users/agah/Desktop/neuropoly/no_cite-isfaction/singleyr_aggregate_field.p\", \"wb\"))"
   ]
  },
  {
   "cell_type": "markdown",
   "id": "14a823bc",
   "metadata": {
    "editable": true,
    "slideshow": {
     "slide_type": ""
    },
    "tags": []
   },
   "source": [
    "# Generating `.pkl` files to save aggregate info (speed up loading stuff)\n",
    "\n",
    "### Resources: dash leaflet\n",
    "* Map from tutorial [here](https://github.com/WestHealth/pydataglobal-2021)\n",
    "* Other cool library [here](https://github.com/plotly/dash-deck)\n",
    "\n",
    "### Resources: custom GeoJSON Map\n",
    "* Make custom.geo.json from [here](https://geojson-maps.ash.ms/)\n",
    "* Code below based on [this](https://towardsdatascience.com/how-to-create-outstanding-custom-choropleth-maps-with-plotly-and-dash-49ac918a5f05)"
   ]
  },
  {
   "cell_type": "code",
   "execution_count": 10,
   "id": "5f0db717",
   "metadata": {},
   "outputs": [
    {
     "name": "stdout",
     "output_type": "stream",
     "text": [
      "dictionary saved successfully to file\n",
      "dictionary saved successfully to file\n",
      "dictionary saved successfully to file\n",
      "dictionary saved successfully to file\n",
      "dictionary saved successfully to file\n",
      "dictionary saved successfully to file\n",
      "dictionary saved successfully to file\n",
      "dictionary saved successfully to file\n",
      "dictionary saved successfully to file\n"
     ]
    }
   ],
   "source": [
    "def create_info_dict(career, yr):\n",
    "    metrics = ['nc', 'h', 'hm',  'ncs', 'ncsf','ncsfl', 'nc (ns)', 'h (ns)', 'hm (ns)',  'ncs (ns)', 'ncsf (ns)','ncsfl (ns)', 'self%']\n",
    "    dfs = dfs_career.copy() if career == True else dfs_singleyr.copy()\n",
    "\n",
    "    # save list of authors\n",
    "    dfs[yr]['authfull'] = dfs[yr]['authfull'].apply(str)\n",
    "    author_names = sorted(dfs[yr]['authfull'].unique())\n",
    "    author_names = [author.title() for author in author_names]\n",
    "\n",
    "    # save list of fields\n",
    "    dfs[yr]['sm-field'] = dfs[yr]['sm-field'].apply(str)\n",
    "    field_names = sorted(dfs[yr]['sm-field'].unique()) # alphabetical\n",
    "    field_names = [field.title() for field in field_names]\n",
    "    \n",
    "    # save list of institutions\n",
    "    dfs[yr]['inst_name'] = dfs[yr]['inst_name'].apply(str)\n",
    "    institution_names = sorted(dfs[yr]['inst_name'].unique()) # alphabetical\n",
    "    institution_names = [institution.title() for institution in institution_names]\n",
    "\n",
    "    # save list of countries in alpha-3\n",
    "    dfs[yr]['cntry'] = dfs[yr]['cntry'].apply(str)\n",
    "    country_names = dfs[yr]['cntry'].unique()\n",
    "    country_names = [str(country).lower() for country in country_names]\n",
    "    if 'nan' in country_names: country_names.remove('nan')\n",
    "    if 'csk' in country_names: country_names.remove('csk') \n",
    "    if 'sux' in country_names: country_names = list(map(lambda x: x.replace('sux','rus'), country_names))\n",
    "    if 'ant' in country_names: country_names = list(map(lambda x: x.replace('ant','nld'), country_names))\n",
    "    if 'scg' in country_names: country_names = list(map(lambda x: x.replace('scg','cze'), country_names))\n",
    "    country_names = list(set(country_names)) # since above 3 lines may have created duplicates\n",
    "    country_names = sorted(country_names) # alphabetical\n",
    "    \n",
    "    # save full country_names\n",
    "    country_names_full = coco.convert(names=country_names, to='name_short') # do NOT sort these alphabetically!\n",
    "    \n",
    "    # dictionary with all of this information\n",
    "    info = dict()\n",
    "    # save basic stats on c-score metrics (not done as it may not even speed stuff up?)\n",
    "    for metric in metrics:\n",
    "        info[metric + ' min'] = int(dfs[yr][metric].min())\n",
    "        info[metric + ' max'] = int(dfs[yr][metric].max())\n",
    "        info[metric + ' mean'] = round(dfs[yr][metric].mean(),2)\n",
    "        info[metric + ' std'] = round(dfs[yr][metric].std(),2)\n",
    "    info['authfull'] = author_names\n",
    "    info['cntry'] = country_names\n",
    "    info['inst_name'] = institution_names\n",
    "    info['sm-field'] = field_names\n",
    "    info['cntry_full'] = country_names_full\n",
    "    \n",
    "    # save files\n",
    "    f_out = 'career' if career == True else 'singleyr'\n",
    "    with open(f'/Users/agah/Desktop/neuropoly/no_cite-isfaction/data/aggregate_info/info_new_{f_out}_{yr}.pkl', 'wb') as fp:\n",
    "        pickle.dump(info, fp)\n",
    "        print('dictionary saved successfully to file')\n",
    "        \n",
    "for i in range(4):\n",
    "    create_info_dict(career = False, yr = i)\n",
    "\n",
    "for i in range(5):\n",
    "    create_info_dict(career = True, yr = i)"
   ]
  },
  {
   "cell_type": "code",
   "execution_count": null,
   "id": "c5288537-aae0-4e25-9fd9-61e5ab1decf5",
   "metadata": {},
   "outputs": [],
   "source": []
  }
 ],
 "metadata": {
  "kernelspec": {
   "display_name": "Python 3 (ipykernel)",
   "language": "python",
   "name": "python3"
  },
  "language_info": {
   "codemirror_mode": {
    "name": "ipython",
    "version": 3
   },
   "file_extension": ".py",
   "mimetype": "text/x-python",
   "name": "python",
   "nbconvert_exporter": "python",
   "pygments_lexer": "ipython3",
   "version": "3.8.18"
  }
 },
 "nbformat": 4,
 "nbformat_minor": 5
}
