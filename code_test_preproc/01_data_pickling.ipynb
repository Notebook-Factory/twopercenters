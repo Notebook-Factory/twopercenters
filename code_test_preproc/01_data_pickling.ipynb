{
 "cells": [
  {
   "cell_type": "markdown",
   "metadata": {},
   "source": [
    "# Data examination\n",
    "\n",
    "### On ICSR Lab\n",
    "Version 5 of the dataset was downloaded [here](https://elsevier.digitalcommonsdata.com/datasets/btchxktzyw/5). Note that the code requires accesss to the [ICSR Lab data sharing platform](https://www.elsevier.com/icsr/icsrlab), which is free but requires submitting a project proposal and approval by Elsevier can take up to 8 weeks.\n",
    "\n",
    "### Links\n",
    "* https://matplotlib.org/3.5.3/api/_as_gen/matplotlib.pyplot.bar.html#matplotlib.pyplot.bar\n",
    "* https://plotly.com/python"
   ]
  },
  {
   "cell_type": "markdown",
   "metadata": {},
   "source": [
    "### Setting up & pickling"
   ]
  },
  {
   "cell_type": "code",
   "execution_count": null,
   "metadata": {},
   "outputs": [],
   "source": [
    "import numpy as np\n",
    "import pandas as pd\n",
    "\n",
    "import plotly.graph_objects as go\n",
    "from IPython.core.display import display, HTML\n",
    "from plotly.offline import plot\n",
    "import plotly.express as px\n",
    "import plotly.colors\n",
    "from plotly.subplots import make_subplots\n",
    "import os\n",
    "import country_converter as coco\n",
    "\n",
    "import subprocess\n",
    "subprocess.call('curl https://raw.githubusercontent.com/Notebook-Factory/brand/main/insertLogo.py --output /tmp/insertLogo.py', shell=True)\n",
    "%run /tmp/insertLogo.py"
   ]
  },
  {
   "cell_type": "markdown",
   "metadata": {},
   "source": [
    "# Pickling, log-transforming, pickling again!\n",
    "\n",
    "Below: template for adding full country names to each pickled df (turned out not to be necessary, but good to know)\n",
    "\n",
    "```\n",
    "file = 'Table-S1-career-2017.xlsx'\n",
    "df = pd.read_excel(data_path+file,sheet_name='Career')\n",
    "country_names = []\n",
    "for cntry in list(df['cntry']):\n",
    "    if str(cntry) == 'nan': country_names.append('nan')\n",
    "    elif str(cntry) == 'csk': country_names.append('nan')\n",
    "    elif str(cntry) == 'sux': country_names.append('Russia')\n",
    "    elif str(cntry) == 'ant': country_names.append('Netherlands')\n",
    "    elif str(cntry) == 'scg': country_names.append('Czech Republic')\n",
    "    else: country_names.append(cc.convert(cntry, to = 'name_short'))\n",
    "df.insert(0,'cntry_name_short',country_names)\n",
    "df.to_pickle(data_path+file.split(\".xlsx\")[0]+'.pkl')\n",
    "log_transform_df(df,data_path+file.split(\".xlsx\")[0]+'_LogTransform.pkl')\n",
    "df.head(5)\n",
    "```"
   ]
  },
  {
   "cell_type": "markdown",
   "metadata": {},
   "source": [
    "Note: I added some code that saves full country names, but commnete"
   ]
  },
  {
   "cell_type": "code",
   "execution_count": null,
   "metadata": {
    "editable": true,
    "slideshow": {
     "slide_type": ""
    },
    "tags": []
   },
   "outputs": [],
   "source": [
    "def log_transform_df(df, output_file):\n",
    "    metrics=[]\n",
    "    for col in df.columns:\n",
    "        if (df[col].dtype == 'float64' or df[col].dtype == 'int64'):\n",
    "            metrics.append(col)        \n",
    "    for col in metrics:\n",
    "        #print(f'\\n col: {col}, originally with a mean {df[col].mean()}, min {df[col].min()} and max {df[col].max()}.')\n",
    "        df.loc[:,col]=np.log(df[col]+1)/np.log(df[col].max()+1)\n",
    "        #print(f'\\n new mean {df[col].mean()}, new min {df[col].min()} and new max {df[col].max()}.')           \n",
    "    df.to_pickle(output_file)"
   ]
  },
  {
   "cell_type": "markdown",
   "metadata": {},
   "source": [
    "### Version 1"
   ]
  },
  {
   "cell_type": "code",
   "execution_count": null,
   "metadata": {},
   "outputs": [],
   "source": [
    "data_path='../data_in_prog/version-1/'\n",
    "\n",
    "file = 'Table-S1-career-2017.xlsx'\n",
    "df = pd.read_excel(data_path+file,sheet_name='Career')\n",
    "df.to_pickle(data_path+file.split(\".xlsx\")[0]+'.pkl')\n",
    "log_transform_df(df,data_path+file.split(\".xlsx\")[0]+'_LogTransform.pkl')\n",
    "df.head(5)\n",
    "\n",
    "file = 'Table-S2-singleyr-2017.xlsx'\n",
    "df = pd.read_excel(data_path+file,sheet_name='2017')\n",
    "df.to_pickle(data_path+file.split(\".xlsx\")[0]+'.pkl')\n",
    "log_transform_df(df,data_path+file.split(\".xlsx\")[0]+'_LogTransform.pkl')\n",
    "df.head(5)\n",
    "\n",
    "file = 'Table-S4-career-2018.xlsx'\n",
    "df = pd.read_excel(data_path+file,sheet_name='Career')\n",
    "df.to_pickle(data_path+file.split(\".xlsx\")[0]+'.pkl')\n",
    "log_transform_df(df,data_path+file.split(\".xlsx\")[0]+'_LogTransform.pkl')\n",
    "df.head(5)\n",
    "\n",
    "file = 'Table-S2-singleyr-2017.xlsx'\n",
    "df = pd.read_excel(data_path+file,sheet_name='2017')\n",
    "df.to_pickle(data_path+file.split(\".xlsx\")[0]+'.pkl')\n",
    "log_transform_df(df,data_path+file.split(\".xlsx\")[0]+'_LogTransform.pkl')\n",
    "df.head(5)\n",
    "\n",
    "file = 'Table-S4-career-2018.xlsx'\n",
    "df = pd.read_excel(data_path+file,sheet_name='Career')\n",
    "\n",
    "df.to_pickle(data_path+file.split(\".xlsx\")[0]+'.pkl')\n",
    "log_transform_df(df,data_path+file.split(\".xlsx\")[0]+'_LogTransform.pkl')\n",
    "df.head(5)"
   ]
  },
  {
   "cell_type": "markdown",
   "metadata": {},
   "source": [
    "### Version 2"
   ]
  },
  {
   "cell_type": "code",
   "execution_count": null,
   "metadata": {},
   "outputs": [],
   "source": [
    "data_path='../data_in_prog/version-2/'\n",
    "\n",
    "file = 'Table-S6-career-2019.xlsx'\n",
    "df = pd.read_excel(data_path+file,sheet_name='Career')\n",
    "df.to_pickle(data_path+file.split(\".xlsx\")[0]+'.pkl')\n",
    "log_transform_df(df,data_path+file.split(\".xlsx\")[0]+'_LogTransform.pkl')\n",
    "df.head(5)\n",
    "\n",
    "file = 'Table-S7-singleyr-2019.xlsx'\n",
    "df = pd.read_excel(data_path+file,sheet_name='2019')\n",
    "df.to_pickle(data_path+file.split(\".xlsx\")[0]+'.pkl')\n",
    "log_transform_df(df,data_path+file.split(\".xlsx\")[0]+'_LogTransform.pkl')\n",
    "df.head(5)"
   ]
  },
  {
   "cell_type": "markdown",
   "metadata": {},
   "source": [
    "### Version 3"
   ]
  },
  {
   "cell_type": "code",
   "execution_count": null,
   "metadata": {},
   "outputs": [],
   "source": [
    "data_path='../data_in_prog/version-3/'\n",
    "\n",
    "file = 'Table_1_Authors_career_2020_wopp_extracted_202108.xlsx'\n",
    "df = pd.read_excel(data_path+file,sheet_name='Data')\n",
    "df.to_pickle(data_path+file.split(\".xlsx\")[0]+'.pkl')\n",
    "log_transform_df(df,data_path+file.split(\".xlsx\")[0]+'_LogTransform.pkl')\n",
    "df.head(5)\n",
    "\n",
    "file = 'Table_1_Authors_singleyr_2020_wopp_extracted_202108.xlsx'\n",
    "df = pd.read_excel(data_path+file,sheet_name='Data')\n",
    "df.to_pickle(data_path+file.split(\".xlsx\")[0]+'.pkl')\n",
    "log_transform_df(df,data_path+file.split(\".xlsx\")[0]+'_LogTransform.pkl')\n",
    "df.head(5)"
   ]
  },
  {
   "cell_type": "markdown",
   "metadata": {},
   "source": [
    "### Version 5"
   ]
  },
  {
   "cell_type": "code",
   "execution_count": null,
   "metadata": {},
   "outputs": [],
   "source": [
    "data_path='../data_in_prog/version-5/'\n",
    "\n",
    "file = 'Table_1_Authors_career_2021_pubs_since_1788_wopp_extracted_202209b.xlsx'\n",
    "df = pd.read_excel(data_path+file,sheet_name='Data')\n",
    "df.to_pickle(data_path+file.split(\".xlsx\")[0]+'.pkl')\n",
    "log_transform_df(df,data_path+file.split(\".xlsx\")[0]+'_LogTransform.pkl')\n",
    "df.head(5)\n",
    "\n",
    "file = 'Table_1_Authors_singleyr_2021_pubs_since_1788_wopp_extracted_202209b.xlsx'\n",
    "df = pd.read_excel(data_path+file,sheet_name='Data')\n",
    "df.to_pickle(data_path+file.split(\".xlsx\")[0]+'.pkl')\n",
    "log_transform_df(df,data_path+file.split(\".xlsx\")[0]+'_LogTransform.pkl')\n",
    "df.head(5)"
   ]
  },
  {
   "cell_type": "code",
   "execution_count": null,
   "metadata": {},
   "outputs": [],
   "source": []
  }
 ],
 "metadata": {
  "celltoolbar": "Edit Metadata",
  "kernelspec": {
   "display_name": "Python 3 (ipykernel)",
   "language": "python",
   "name": "python3"
  },
  "language_info": {
   "codemirror_mode": {
    "name": "ipython",
    "version": 3
   },
   "file_extension": ".py",
   "mimetype": "text/x-python",
   "name": "python",
   "nbconvert_exporter": "python",
   "pygments_lexer": "ipython3",
   "version": "3.8.18"
  }
 },
 "nbformat": 4,
 "nbformat_minor": 4
}
